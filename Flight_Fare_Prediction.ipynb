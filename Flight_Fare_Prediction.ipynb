{
 "cells": [
  {
   "cell_type": "code",
   "execution_count": 1,
   "metadata": {},
   "outputs": [],
   "source": [
    "#Nessesary Libraries Import\n",
    "import pandas as pd\n",
    "import numpy as np\n",
    "import matplotlib.pyplot as plt\n",
    "import seaborn as sns\n",
    "\n",
    "sns.set()\n",
    "%matplotlib inline\n",
    "\n",
    "import warnings\n",
    "warnings.filterwarnings(action=\"ignore\")\n",
    "\n",
    "pd.pandas.set_option ('display.max_columns',None)"
   ]
  },
  {
   "cell_type": "code",
   "execution_count": 2,
   "metadata": {},
   "outputs": [],
   "source": [
    "#Read the dataset in Pandas DataFrame \n",
    "df1=pd.read_excel(r'datasets_140442_330428_Data_Train.xlsx')"
   ]
  },
  {
   "cell_type": "code",
   "execution_count": 3,
   "metadata": {},
   "outputs": [
    {
     "data": {
      "text/html": [
       "<div>\n",
       "<style scoped>\n",
       "    .dataframe tbody tr th:only-of-type {\n",
       "        vertical-align: middle;\n",
       "    }\n",
       "\n",
       "    .dataframe tbody tr th {\n",
       "        vertical-align: top;\n",
       "    }\n",
       "\n",
       "    .dataframe thead th {\n",
       "        text-align: right;\n",
       "    }\n",
       "</style>\n",
       "<table border=\"1\" class=\"dataframe\">\n",
       "  <thead>\n",
       "    <tr style=\"text-align: right;\">\n",
       "      <th></th>\n",
       "      <th>Airline</th>\n",
       "      <th>Date_of_Journey</th>\n",
       "      <th>Source</th>\n",
       "      <th>Destination</th>\n",
       "      <th>Route</th>\n",
       "      <th>Dep_Time</th>\n",
       "      <th>Arrival_Time</th>\n",
       "      <th>Duration</th>\n",
       "      <th>Total_Stops</th>\n",
       "      <th>Additional_Info</th>\n",
       "      <th>Price</th>\n",
       "    </tr>\n",
       "  </thead>\n",
       "  <tbody>\n",
       "    <tr>\n",
       "      <th>0</th>\n",
       "      <td>IndiGo</td>\n",
       "      <td>24/03/2019</td>\n",
       "      <td>Banglore</td>\n",
       "      <td>New Delhi</td>\n",
       "      <td>BLR → DEL</td>\n",
       "      <td>22:20</td>\n",
       "      <td>01:10 22 Mar</td>\n",
       "      <td>2h 50m</td>\n",
       "      <td>non-stop</td>\n",
       "      <td>No info</td>\n",
       "      <td>3897</td>\n",
       "    </tr>\n",
       "    <tr>\n",
       "      <th>1</th>\n",
       "      <td>Air India</td>\n",
       "      <td>1/05/2019</td>\n",
       "      <td>Kolkata</td>\n",
       "      <td>Banglore</td>\n",
       "      <td>CCU → IXR → BBI → BLR</td>\n",
       "      <td>05:50</td>\n",
       "      <td>13:15</td>\n",
       "      <td>7h 25m</td>\n",
       "      <td>2 stops</td>\n",
       "      <td>No info</td>\n",
       "      <td>7662</td>\n",
       "    </tr>\n",
       "    <tr>\n",
       "      <th>2</th>\n",
       "      <td>Jet Airways</td>\n",
       "      <td>9/06/2019</td>\n",
       "      <td>Delhi</td>\n",
       "      <td>Cochin</td>\n",
       "      <td>DEL → LKO → BOM → COK</td>\n",
       "      <td>09:25</td>\n",
       "      <td>04:25 10 Jun</td>\n",
       "      <td>19h</td>\n",
       "      <td>2 stops</td>\n",
       "      <td>No info</td>\n",
       "      <td>13882</td>\n",
       "    </tr>\n",
       "    <tr>\n",
       "      <th>3</th>\n",
       "      <td>IndiGo</td>\n",
       "      <td>12/05/2019</td>\n",
       "      <td>Kolkata</td>\n",
       "      <td>Banglore</td>\n",
       "      <td>CCU → NAG → BLR</td>\n",
       "      <td>18:05</td>\n",
       "      <td>23:30</td>\n",
       "      <td>5h 25m</td>\n",
       "      <td>1 stop</td>\n",
       "      <td>No info</td>\n",
       "      <td>6218</td>\n",
       "    </tr>\n",
       "    <tr>\n",
       "      <th>4</th>\n",
       "      <td>IndiGo</td>\n",
       "      <td>01/03/2019</td>\n",
       "      <td>Banglore</td>\n",
       "      <td>New Delhi</td>\n",
       "      <td>BLR → NAG → DEL</td>\n",
       "      <td>16:50</td>\n",
       "      <td>21:35</td>\n",
       "      <td>4h 45m</td>\n",
       "      <td>1 stop</td>\n",
       "      <td>No info</td>\n",
       "      <td>13302</td>\n",
       "    </tr>\n",
       "  </tbody>\n",
       "</table>\n",
       "</div>"
      ],
      "text/plain": [
       "       Airline Date_of_Journey    Source Destination                  Route  \\\n",
       "0       IndiGo      24/03/2019  Banglore   New Delhi              BLR → DEL   \n",
       "1    Air India       1/05/2019   Kolkata    Banglore  CCU → IXR → BBI → BLR   \n",
       "2  Jet Airways       9/06/2019     Delhi      Cochin  DEL → LKO → BOM → COK   \n",
       "3       IndiGo      12/05/2019   Kolkata    Banglore        CCU → NAG → BLR   \n",
       "4       IndiGo      01/03/2019  Banglore   New Delhi        BLR → NAG → DEL   \n",
       "\n",
       "  Dep_Time  Arrival_Time Duration Total_Stops Additional_Info  Price  \n",
       "0    22:20  01:10 22 Mar   2h 50m    non-stop         No info   3897  \n",
       "1    05:50         13:15   7h 25m     2 stops         No info   7662  \n",
       "2    09:25  04:25 10 Jun      19h     2 stops         No info  13882  \n",
       "3    18:05         23:30   5h 25m      1 stop         No info   6218  \n",
       "4    16:50         21:35   4h 45m      1 stop         No info  13302  "
      ]
     },
     "execution_count": 3,
     "metadata": {},
     "output_type": "execute_result"
    }
   ],
   "source": [
    "df1.head()"
   ]
  },
  {
   "cell_type": "code",
   "execution_count": 4,
   "metadata": {},
   "outputs": [],
   "source": [
    "#Fuction to see the summary of the data\n",
    "def summary_table(df):\n",
    "    print(f\"Dataset Shape: {df.shape}\")\n",
    "    summary = pd.DataFrame(df.dtypes,columns=['dtypes'])\n",
    "    summary = summary.reset_index()\n",
    "    summary['Name'] = summary['index']\n",
    "    summary = summary[['Name','dtypes']]\n",
    "    summary['Missing Values'] = df.isnull().sum().values\n",
    "    summary['Uniques Values'] = df.nunique().values\n",
    "  \n",
    "    return summary"
   ]
  },
  {
   "cell_type": "code",
   "execution_count": 5,
   "metadata": {},
   "outputs": [
    {
     "name": "stdout",
     "output_type": "stream",
     "text": [
      "Dataset Shape: (10683, 11)\n"
     ]
    },
    {
     "data": {
      "text/html": [
       "<div>\n",
       "<style scoped>\n",
       "    .dataframe tbody tr th:only-of-type {\n",
       "        vertical-align: middle;\n",
       "    }\n",
       "\n",
       "    .dataframe tbody tr th {\n",
       "        vertical-align: top;\n",
       "    }\n",
       "\n",
       "    .dataframe thead th {\n",
       "        text-align: right;\n",
       "    }\n",
       "</style>\n",
       "<table border=\"1\" class=\"dataframe\">\n",
       "  <thead>\n",
       "    <tr style=\"text-align: right;\">\n",
       "      <th></th>\n",
       "      <th>Name</th>\n",
       "      <th>dtypes</th>\n",
       "      <th>Missing Values</th>\n",
       "      <th>Uniques Values</th>\n",
       "    </tr>\n",
       "  </thead>\n",
       "  <tbody>\n",
       "    <tr>\n",
       "      <th>0</th>\n",
       "      <td>Airline</td>\n",
       "      <td>object</td>\n",
       "      <td>0</td>\n",
       "      <td>12</td>\n",
       "    </tr>\n",
       "    <tr>\n",
       "      <th>1</th>\n",
       "      <td>Date_of_Journey</td>\n",
       "      <td>object</td>\n",
       "      <td>0</td>\n",
       "      <td>44</td>\n",
       "    </tr>\n",
       "    <tr>\n",
       "      <th>2</th>\n",
       "      <td>Source</td>\n",
       "      <td>object</td>\n",
       "      <td>0</td>\n",
       "      <td>5</td>\n",
       "    </tr>\n",
       "    <tr>\n",
       "      <th>3</th>\n",
       "      <td>Destination</td>\n",
       "      <td>object</td>\n",
       "      <td>0</td>\n",
       "      <td>6</td>\n",
       "    </tr>\n",
       "    <tr>\n",
       "      <th>4</th>\n",
       "      <td>Route</td>\n",
       "      <td>object</td>\n",
       "      <td>1</td>\n",
       "      <td>128</td>\n",
       "    </tr>\n",
       "    <tr>\n",
       "      <th>5</th>\n",
       "      <td>Dep_Time</td>\n",
       "      <td>object</td>\n",
       "      <td>0</td>\n",
       "      <td>222</td>\n",
       "    </tr>\n",
       "    <tr>\n",
       "      <th>6</th>\n",
       "      <td>Arrival_Time</td>\n",
       "      <td>object</td>\n",
       "      <td>0</td>\n",
       "      <td>1343</td>\n",
       "    </tr>\n",
       "    <tr>\n",
       "      <th>7</th>\n",
       "      <td>Duration</td>\n",
       "      <td>object</td>\n",
       "      <td>0</td>\n",
       "      <td>368</td>\n",
       "    </tr>\n",
       "    <tr>\n",
       "      <th>8</th>\n",
       "      <td>Total_Stops</td>\n",
       "      <td>object</td>\n",
       "      <td>1</td>\n",
       "      <td>5</td>\n",
       "    </tr>\n",
       "    <tr>\n",
       "      <th>9</th>\n",
       "      <td>Additional_Info</td>\n",
       "      <td>object</td>\n",
       "      <td>0</td>\n",
       "      <td>10</td>\n",
       "    </tr>\n",
       "    <tr>\n",
       "      <th>10</th>\n",
       "      <td>Price</td>\n",
       "      <td>int64</td>\n",
       "      <td>0</td>\n",
       "      <td>1870</td>\n",
       "    </tr>\n",
       "  </tbody>\n",
       "</table>\n",
       "</div>"
      ],
      "text/plain": [
       "               Name  dtypes  Missing Values  Uniques Values\n",
       "0           Airline  object               0              12\n",
       "1   Date_of_Journey  object               0              44\n",
       "2            Source  object               0               5\n",
       "3       Destination  object               0               6\n",
       "4             Route  object               1             128\n",
       "5          Dep_Time  object               0             222\n",
       "6      Arrival_Time  object               0            1343\n",
       "7          Duration  object               0             368\n",
       "8       Total_Stops  object               1               5\n",
       "9   Additional_Info  object               0              10\n",
       "10            Price   int64               0            1870"
      ]
     },
     "execution_count": 5,
     "metadata": {},
     "output_type": "execute_result"
    }
   ],
   "source": [
    "#Lest See the summary \n",
    "summary_table(df1)"
   ]
  },
  {
   "cell_type": "markdown",
   "metadata": {},
   "source": [
    "####Observations from Summary\n",
    "1. All The fatures are of Object data type. We need to fix few datatypes. \n",
    "2. There are almost no missing values. "
   ]
  },
  {
   "cell_type": "code",
   "execution_count": 6,
   "metadata": {},
   "outputs": [],
   "source": [
    "df1.dropna(inplace=True)"
   ]
  },
  {
   "cell_type": "code",
   "execution_count": 7,
   "metadata": {
    "scrolled": true
   },
   "outputs": [
    {
     "data": {
      "text/plain": [
       "Airline            0\n",
       "Date_of_Journey    0\n",
       "Source             0\n",
       "Destination        0\n",
       "Route              0\n",
       "Dep_Time           0\n",
       "Arrival_Time       0\n",
       "Duration           0\n",
       "Total_Stops        0\n",
       "Additional_Info    0\n",
       "Price              0\n",
       "dtype: int64"
      ]
     },
     "execution_count": 7,
     "metadata": {},
     "output_type": "execute_result"
    }
   ],
   "source": [
    "df1.isnull().sum()"
   ]
  },
  {
   "cell_type": "code",
   "execution_count": 8,
   "metadata": {},
   "outputs": [
    {
     "data": {
      "text/plain": [
       "Jet Airways                          3849\n",
       "IndiGo                               2053\n",
       "Air India                            1751\n",
       "Multiple carriers                    1196\n",
       "SpiceJet                              818\n",
       "Vistara                               479\n",
       "Air Asia                              319\n",
       "GoAir                                 194\n",
       "Multiple carriers Premium economy      13\n",
       "Jet Airways Business                    6\n",
       "Vistara Premium economy                 3\n",
       "Trujet                                  1\n",
       "Name: Airline, dtype: int64"
      ]
     },
     "execution_count": 8,
     "metadata": {},
     "output_type": "execute_result"
    }
   ],
   "source": [
    "#Lest explore each feature\n",
    "df1.Airline.value_counts()"
   ]
  },
  {
   "cell_type": "code",
   "execution_count": 9,
   "metadata": {
    "scrolled": true
   },
   "outputs": [
    {
     "data": {
      "text/plain": [
       "Delhi       4536\n",
       "Kolkata     2871\n",
       "Banglore    2197\n",
       "Mumbai       697\n",
       "Chennai      381\n",
       "Name: Source, dtype: int64"
      ]
     },
     "execution_count": 9,
     "metadata": {},
     "output_type": "execute_result"
    }
   ],
   "source": [
    "df1.Source.value_counts()"
   ]
  },
  {
   "cell_type": "code",
   "execution_count": 10,
   "metadata": {
    "scrolled": true
   },
   "outputs": [
    {
     "data": {
      "text/plain": [
       "Cochin       4536\n",
       "Banglore     2871\n",
       "Delhi        1265\n",
       "New Delhi     932\n",
       "Hyderabad     697\n",
       "Kolkata       381\n",
       "Name: Destination, dtype: int64"
      ]
     },
     "execution_count": 10,
     "metadata": {},
     "output_type": "execute_result"
    }
   ],
   "source": [
    "df1.Destination.value_counts()"
   ]
  },
  {
   "cell_type": "code",
   "execution_count": 11,
   "metadata": {},
   "outputs": [
    {
     "data": {
      "text/plain": [
       "DEL → BOM → COK                2376\n",
       "BLR → DEL                      1552\n",
       "CCU → BOM → BLR                 979\n",
       "CCU → BLR                       724\n",
       "BOM → HYD                       621\n",
       "                               ... \n",
       "BOM → JAI → DEL → HYD             1\n",
       "BLR → HBX → BOM → BHO → DEL       1\n",
       "BLR → BOM → IXC → DEL             1\n",
       "BOM → RPR → VTZ → HYD             1\n",
       "BOM → GOI → HYD                   1\n",
       "Name: Route, Length: 128, dtype: int64"
      ]
     },
     "execution_count": 11,
     "metadata": {},
     "output_type": "execute_result"
    }
   ],
   "source": [
    "df1.Route.value_counts()"
   ]
  },
  {
   "cell_type": "code",
   "execution_count": 12,
   "metadata": {},
   "outputs": [
    {
     "data": {
      "text/plain": [
       "1 stop      5625\n",
       "non-stop    3491\n",
       "2 stops     1520\n",
       "3 stops       45\n",
       "4 stops        1\n",
       "Name: Total_Stops, dtype: int64"
      ]
     },
     "execution_count": 12,
     "metadata": {},
     "output_type": "execute_result"
    }
   ],
   "source": [
    "df1.Total_Stops.value_counts()"
   ]
  },
  {
   "cell_type": "code",
   "execution_count": 13,
   "metadata": {
    "scrolled": true
   },
   "outputs": [
    {
     "data": {
      "text/plain": [
       "No info                         8344\n",
       "In-flight meal not included     1982\n",
       "No check-in baggage included     320\n",
       "1 Long layover                    19\n",
       "Change airports                    7\n",
       "Business class                     4\n",
       "No Info                            3\n",
       "1 Short layover                    1\n",
       "Red-eye flight                     1\n",
       "2 Long layover                     1\n",
       "Name: Additional_Info, dtype: int64"
      ]
     },
     "execution_count": 13,
     "metadata": {},
     "output_type": "execute_result"
    }
   ],
   "source": [
    "df1.Additional_Info.value_counts()"
   ]
  },
  {
   "cell_type": "code",
   "execution_count": 14,
   "metadata": {
    "scrolled": true
   },
   "outputs": [
    {
     "data": {
      "text/plain": [
       "<matplotlib.axes._subplots.AxesSubplot at 0xb7fa3c8>"
      ]
     },
     "execution_count": 14,
     "metadata": {},
     "output_type": "execute_result"
    },
    {
     "data": {
      "image/png": "[encoded data removed]",
      "text/plain": [
       "<Figure size 432x288 with 1 Axes>"
      ]
     },
     "metadata": {
      "needs_background": "light"
     },
     "output_type": "display_data"
    }
   ],
   "source": [
    "#Lets Explore the Target\n",
    "sns.distplot(df1[\"Price\"], color=\"blue\",kde=True) #Lets see the distribusion curve"
   ]
  },
  {
   "cell_type": "code",
   "execution_count": 15,
   "metadata": {
    "scrolled": true
   },
   "outputs": [
    {
     "data": {
      "image/png": "[encoded data removed]",
      "text/plain": [
       "<Figure size 432x288 with 1 Axes>"
      ]
     },
     "metadata": {
      "needs_background": "light"
     },
     "output_type": "display_data"
    }
   ],
   "source": [
    "#Now Lets check the Outliers\n",
    "df1.boxplot(column=\"Price\") #Lets See the extream values in out Target Varibale using box plot  \n",
    "plt.show()"
   ]
  },
  {
   "cell_type": "code",
   "execution_count": 16,
   "metadata": {
    "scrolled": true
   },
   "outputs": [
    {
     "data": {
      "text/plain": [
       "count    10682.000000\n",
       "mean      9087.214567\n",
       "std       4611.548810\n",
       "min       1759.000000\n",
       "25%       5277.000000\n",
       "50%       8372.000000\n",
       "75%      12373.000000\n",
       "max      79512.000000\n",
       "Name: Price, dtype: float64"
      ]
     },
     "execution_count": 16,
     "metadata": {},
     "output_type": "execute_result"
    }
   ],
   "source": [
    "df1['Price'].describe()# Lets check the stats of Price "
   ]
  },
  {
   "cell_type": "code",
   "execution_count": 17,
   "metadata": {},
   "outputs": [
    {
     "data": {
      "text/plain": [
       "(5277.0, 12373.0)"
      ]
     },
     "execution_count": 17,
     "metadata": {},
     "output_type": "execute_result"
    }
   ],
   "source": [
    "Q1=df1['Price'].quantile(0.25)\n",
    "Q3=df1['Price'].quantile(0.75)\n",
    "Q1,Q3"
   ]
  },
  {
   "cell_type": "code",
   "execution_count": 18,
   "metadata": {
    "scrolled": true
   },
   "outputs": [
    {
     "data": {
      "text/plain": [
       "7096.0"
      ]
     },
     "execution_count": 18,
     "metadata": {},
     "output_type": "execute_result"
    }
   ],
   "source": [
    "IQR=Q3-Q1\n",
    "IQR"
   ]
  },
  {
   "cell_type": "code",
   "execution_count": 19,
   "metadata": {},
   "outputs": [
    {
     "data": {
      "text/plain": [
       "(-5367.0, 23017.0)"
      ]
     },
     "execution_count": 19,
     "metadata": {},
     "output_type": "execute_result"
    }
   ],
   "source": [
    "#Lets check the lower and upper limits \n",
    "lower_limit = Q1 - 1.5*IQR\n",
    "upper_limit = Q3 + 1.5*IQR\n",
    "lower_limit, upper_limit"
   ]
  },
  {
   "cell_type": "code",
   "execution_count": 20,
   "metadata": {
    "scrolled": false
   },
   "outputs": [
    {
     "data": {
      "text/html": [
       "<div>\n",
       "<style scoped>\n",
       "    .dataframe tbody tr th:only-of-type {\n",
       "        vertical-align: middle;\n",
       "    }\n",
       "\n",
       "    .dataframe tbody tr th {\n",
       "        vertical-align: top;\n",
       "    }\n",
       "\n",
       "    .dataframe thead th {\n",
       "        text-align: right;\n",
       "    }\n",
       "</style>\n",
       "<table border=\"1\" class=\"dataframe\">\n",
       "  <thead>\n",
       "    <tr style=\"text-align: right;\">\n",
       "      <th></th>\n",
       "      <th>Airline</th>\n",
       "      <th>Date_of_Journey</th>\n",
       "      <th>Source</th>\n",
       "      <th>Destination</th>\n",
       "      <th>Route</th>\n",
       "      <th>Dep_Time</th>\n",
       "      <th>Arrival_Time</th>\n",
       "      <th>Duration</th>\n",
       "      <th>Total_Stops</th>\n",
       "      <th>Additional_Info</th>\n",
       "      <th>Price</th>\n",
       "    </tr>\n",
       "  </thead>\n",
       "  <tbody>\n",
       "    <tr>\n",
       "      <th>123</th>\n",
       "      <td>Air India</td>\n",
       "      <td>1/03/2019</td>\n",
       "      <td>Delhi</td>\n",
       "      <td>Cochin</td>\n",
       "      <td>DEL → BOM → COK</td>\n",
       "      <td>23:00</td>\n",
       "      <td>19:15 02 Mar</td>\n",
       "      <td>20h 15m</td>\n",
       "      <td>1 stop</td>\n",
       "      <td>No info</td>\n",
       "      <td>27430</td>\n",
       "    </tr>\n",
       "    <tr>\n",
       "      <th>396</th>\n",
       "      <td>Multiple carriers</td>\n",
       "      <td>1/03/2019</td>\n",
       "      <td>Delhi</td>\n",
       "      <td>Cochin</td>\n",
       "      <td>DEL → BOM → COK</td>\n",
       "      <td>12:50</td>\n",
       "      <td>19:15</td>\n",
       "      <td>6h 25m</td>\n",
       "      <td>1 stop</td>\n",
       "      <td>No info</td>\n",
       "      <td>36983</td>\n",
       "    </tr>\n",
       "    <tr>\n",
       "      <th>486</th>\n",
       "      <td>Jet Airways</td>\n",
       "      <td>01/03/2019</td>\n",
       "      <td>Banglore</td>\n",
       "      <td>New Delhi</td>\n",
       "      <td>BLR → BOM → DEL</td>\n",
       "      <td>08:55</td>\n",
       "      <td>15:15</td>\n",
       "      <td>6h 20m</td>\n",
       "      <td>1 stop</td>\n",
       "      <td>No info</td>\n",
       "      <td>26890</td>\n",
       "    </tr>\n",
       "    <tr>\n",
       "      <th>510</th>\n",
       "      <td>Jet Airways</td>\n",
       "      <td>01/03/2019</td>\n",
       "      <td>Banglore</td>\n",
       "      <td>New Delhi</td>\n",
       "      <td>BLR → BOM → DEL</td>\n",
       "      <td>07:00</td>\n",
       "      <td>12:25</td>\n",
       "      <td>5h 25m</td>\n",
       "      <td>1 stop</td>\n",
       "      <td>No info</td>\n",
       "      <td>26890</td>\n",
       "    </tr>\n",
       "    <tr>\n",
       "      <th>597</th>\n",
       "      <td>Air India</td>\n",
       "      <td>6/03/2019</td>\n",
       "      <td>Mumbai</td>\n",
       "      <td>Hyderabad</td>\n",
       "      <td>BOM → JDH → DEL → HYD</td>\n",
       "      <td>09:40</td>\n",
       "      <td>15:15 07 Mar</td>\n",
       "      <td>29h 35m</td>\n",
       "      <td>2 stops</td>\n",
       "      <td>No info</td>\n",
       "      <td>25139</td>\n",
       "    </tr>\n",
       "    <tr>\n",
       "      <th>...</th>\n",
       "      <td>...</td>\n",
       "      <td>...</td>\n",
       "      <td>...</td>\n",
       "      <td>...</td>\n",
       "      <td>...</td>\n",
       "      <td>...</td>\n",
       "      <td>...</td>\n",
       "      <td>...</td>\n",
       "      <td>...</td>\n",
       "      <td>...</td>\n",
       "      <td>...</td>\n",
       "    </tr>\n",
       "    <tr>\n",
       "      <th>10353</th>\n",
       "      <td>Jet Airways</td>\n",
       "      <td>6/03/2019</td>\n",
       "      <td>Mumbai</td>\n",
       "      <td>Hyderabad</td>\n",
       "      <td>BOM → BDQ → DEL → HYD</td>\n",
       "      <td>19:50</td>\n",
       "      <td>16:50 07 Mar</td>\n",
       "      <td>21h</td>\n",
       "      <td>2 stops</td>\n",
       "      <td>No info</td>\n",
       "      <td>24210</td>\n",
       "    </tr>\n",
       "    <tr>\n",
       "      <th>10364</th>\n",
       "      <td>Jet Airways Business</td>\n",
       "      <td>01/03/2019</td>\n",
       "      <td>Banglore</td>\n",
       "      <td>New Delhi</td>\n",
       "      <td>BLR → MAA → DEL</td>\n",
       "      <td>09:45</td>\n",
       "      <td>14:25</td>\n",
       "      <td>4h 40m</td>\n",
       "      <td>1 stop</td>\n",
       "      <td>Business class</td>\n",
       "      <td>57209</td>\n",
       "    </tr>\n",
       "    <tr>\n",
       "      <th>10383</th>\n",
       "      <td>Jet Airways</td>\n",
       "      <td>01/03/2019</td>\n",
       "      <td>Banglore</td>\n",
       "      <td>New Delhi</td>\n",
       "      <td>BLR → BOM → DEL</td>\n",
       "      <td>07:00</td>\n",
       "      <td>05:05 02 Mar</td>\n",
       "      <td>22h 5m</td>\n",
       "      <td>1 stop</td>\n",
       "      <td>No info</td>\n",
       "      <td>26890</td>\n",
       "    </tr>\n",
       "    <tr>\n",
       "      <th>10439</th>\n",
       "      <td>Jet Airways</td>\n",
       "      <td>01/03/2019</td>\n",
       "      <td>Banglore</td>\n",
       "      <td>New Delhi</td>\n",
       "      <td>BLR → BOM → DEL</td>\n",
       "      <td>18:40</td>\n",
       "      <td>09:00 02 Mar</td>\n",
       "      <td>14h 20m</td>\n",
       "      <td>1 stop</td>\n",
       "      <td>No info</td>\n",
       "      <td>31825</td>\n",
       "    </tr>\n",
       "    <tr>\n",
       "      <th>10511</th>\n",
       "      <td>Air India</td>\n",
       "      <td>01/03/2019</td>\n",
       "      <td>Banglore</td>\n",
       "      <td>New Delhi</td>\n",
       "      <td>BLR → BOM → BHO → DEL</td>\n",
       "      <td>06:45</td>\n",
       "      <td>09:25 02 Mar</td>\n",
       "      <td>26h 40m</td>\n",
       "      <td>2 stops</td>\n",
       "      <td>2 Long layover</td>\n",
       "      <td>26480</td>\n",
       "    </tr>\n",
       "  </tbody>\n",
       "</table>\n",
       "<p>94 rows × 11 columns</p>\n",
       "</div>"
      ],
      "text/plain": [
       "                    Airline Date_of_Journey    Source Destination  \\\n",
       "123               Air India       1/03/2019     Delhi      Cochin   \n",
       "396       Multiple carriers       1/03/2019     Delhi      Cochin   \n",
       "486             Jet Airways      01/03/2019  Banglore   New Delhi   \n",
       "510             Jet Airways      01/03/2019  Banglore   New Delhi   \n",
       "597               Air India       6/03/2019    Mumbai   Hyderabad   \n",
       "...                     ...             ...       ...         ...   \n",
       "10353           Jet Airways       6/03/2019    Mumbai   Hyderabad   \n",
       "10364  Jet Airways Business      01/03/2019  Banglore   New Delhi   \n",
       "10383           Jet Airways      01/03/2019  Banglore   New Delhi   \n",
       "10439           Jet Airways      01/03/2019  Banglore   New Delhi   \n",
       "10511             Air India      01/03/2019  Banglore   New Delhi   \n",
       "\n",
       "                       Route Dep_Time  Arrival_Time Duration Total_Stops  \\\n",
       "123          DEL → BOM → COK    23:00  19:15 02 Mar  20h 15m      1 stop   \n",
       "396          DEL → BOM → COK    12:50         19:15   6h 25m      1 stop   \n",
       "486          BLR → BOM → DEL    08:55         15:15   6h 20m      1 stop   \n",
       "510          BLR → BOM → DEL    07:00         12:25   5h 25m      1 stop   \n",
       "597    BOM → JDH → DEL → HYD    09:40  15:15 07 Mar  29h 35m     2 stops   \n",
       "...                      ...      ...           ...      ...         ...   \n",
       "10353  BOM → BDQ → DEL → HYD    19:50  16:50 07 Mar      21h     2 stops   \n",
       "10364        BLR → MAA → DEL    09:45         14:25   4h 40m      1 stop   \n",
       "10383        BLR → BOM → DEL    07:00  05:05 02 Mar   22h 5m      1 stop   \n",
       "10439        BLR → BOM → DEL    18:40  09:00 02 Mar  14h 20m      1 stop   \n",
       "10511  BLR → BOM → BHO → DEL    06:45  09:25 02 Mar  26h 40m     2 stops   \n",
       "\n",
       "      Additional_Info  Price  \n",
       "123           No info  27430  \n",
       "396           No info  36983  \n",
       "486           No info  26890  \n",
       "510           No info  26890  \n",
       "597           No info  25139  \n",
       "...               ...    ...  \n",
       "10353         No info  24210  \n",
       "10364  Business class  57209  \n",
       "10383         No info  26890  \n",
       "10439         No info  31825  \n",
       "10511  2 Long layover  26480  \n",
       "\n",
       "[94 rows x 11 columns]"
      ]
     },
     "execution_count": 20,
     "metadata": {},
     "output_type": "execute_result"
    }
   ],
   "source": [
    "#Lets see how many data points falling outside of upper limit\n",
    "df1[df1['Price']>upper_limit]"
   ]
  },
  {
   "cell_type": "code",
   "execution_count": 21,
   "metadata": {},
   "outputs": [],
   "source": [
    "#About 79% of the data in Additional_Info feature has a catogory as 'No info'. \n",
    "#So basically its not giving any valuable output. So we can simply drop this feature.\n",
    "df1.drop('Additional_Info',axis=1,inplace=True)"
   ]
  },
  {
   "cell_type": "code",
   "execution_count": 22,
   "metadata": {},
   "outputs": [],
   "source": [
    "#Also the Route Feature and Total_Stops giving the same information. So we ould simply drop Route feature as well.\n",
    "df1.drop('Route',axis=1,inplace=True)"
   ]
  },
  {
   "cell_type": "code",
   "execution_count": 23,
   "metadata": {
    "scrolled": true
   },
   "outputs": [
    {
     "data": {
      "text/html": [
       "<div>\n",
       "<style scoped>\n",
       "    .dataframe tbody tr th:only-of-type {\n",
       "        vertical-align: middle;\n",
       "    }\n",
       "\n",
       "    .dataframe tbody tr th {\n",
       "        vertical-align: top;\n",
       "    }\n",
       "\n",
       "    .dataframe thead th {\n",
       "        text-align: right;\n",
       "    }\n",
       "</style>\n",
       "<table border=\"1\" class=\"dataframe\">\n",
       "  <thead>\n",
       "    <tr style=\"text-align: right;\">\n",
       "      <th></th>\n",
       "      <th>Airline</th>\n",
       "      <th>Date_of_Journey</th>\n",
       "      <th>Source</th>\n",
       "      <th>Destination</th>\n",
       "      <th>Dep_Time</th>\n",
       "      <th>Arrival_Time</th>\n",
       "      <th>Duration</th>\n",
       "      <th>Total_Stops</th>\n",
       "      <th>Price</th>\n",
       "    </tr>\n",
       "  </thead>\n",
       "  <tbody>\n",
       "    <tr>\n",
       "      <th>0</th>\n",
       "      <td>IndiGo</td>\n",
       "      <td>24/03/2019</td>\n",
       "      <td>Banglore</td>\n",
       "      <td>New Delhi</td>\n",
       "      <td>22:20</td>\n",
       "      <td>01:10 22 Mar</td>\n",
       "      <td>2h 50m</td>\n",
       "      <td>non-stop</td>\n",
       "      <td>3897</td>\n",
       "    </tr>\n",
       "    <tr>\n",
       "      <th>1</th>\n",
       "      <td>Air India</td>\n",
       "      <td>1/05/2019</td>\n",
       "      <td>Kolkata</td>\n",
       "      <td>Banglore</td>\n",
       "      <td>05:50</td>\n",
       "      <td>13:15</td>\n",
       "      <td>7h 25m</td>\n",
       "      <td>2 stops</td>\n",
       "      <td>7662</td>\n",
       "    </tr>\n",
       "    <tr>\n",
       "      <th>2</th>\n",
       "      <td>Jet Airways</td>\n",
       "      <td>9/06/2019</td>\n",
       "      <td>Delhi</td>\n",
       "      <td>Cochin</td>\n",
       "      <td>09:25</td>\n",
       "      <td>04:25 10 Jun</td>\n",
       "      <td>19h</td>\n",
       "      <td>2 stops</td>\n",
       "      <td>13882</td>\n",
       "    </tr>\n",
       "    <tr>\n",
       "      <th>3</th>\n",
       "      <td>IndiGo</td>\n",
       "      <td>12/05/2019</td>\n",
       "      <td>Kolkata</td>\n",
       "      <td>Banglore</td>\n",
       "      <td>18:05</td>\n",
       "      <td>23:30</td>\n",
       "      <td>5h 25m</td>\n",
       "      <td>1 stop</td>\n",
       "      <td>6218</td>\n",
       "    </tr>\n",
       "    <tr>\n",
       "      <th>4</th>\n",
       "      <td>IndiGo</td>\n",
       "      <td>01/03/2019</td>\n",
       "      <td>Banglore</td>\n",
       "      <td>New Delhi</td>\n",
       "      <td>16:50</td>\n",
       "      <td>21:35</td>\n",
       "      <td>4h 45m</td>\n",
       "      <td>1 stop</td>\n",
       "      <td>13302</td>\n",
       "    </tr>\n",
       "  </tbody>\n",
       "</table>\n",
       "</div>"
      ],
      "text/plain": [
       "       Airline Date_of_Journey    Source Destination Dep_Time  Arrival_Time  \\\n",
       "0       IndiGo      24/03/2019  Banglore   New Delhi    22:20  01:10 22 Mar   \n",
       "1    Air India       1/05/2019   Kolkata    Banglore    05:50         13:15   \n",
       "2  Jet Airways       9/06/2019     Delhi      Cochin    09:25  04:25 10 Jun   \n",
       "3       IndiGo      12/05/2019   Kolkata    Banglore    18:05         23:30   \n",
       "4       IndiGo      01/03/2019  Banglore   New Delhi    16:50         21:35   \n",
       "\n",
       "  Duration Total_Stops  Price  \n",
       "0   2h 50m    non-stop   3897  \n",
       "1   7h 25m     2 stops   7662  \n",
       "2      19h     2 stops  13882  \n",
       "3   5h 25m      1 stop   6218  \n",
       "4   4h 45m      1 stop  13302  "
      ]
     },
     "execution_count": 23,
     "metadata": {},
     "output_type": "execute_result"
    }
   ],
   "source": [
    "df1.head()\n",
    "#Now we are left with 8 Features and One Target."
   ]
  },
  {
   "cell_type": "code",
   "execution_count": 24,
   "metadata": {},
   "outputs": [],
   "source": [
    "# Date_of_Journey, Dep_Time, Arrival_Time and Duration are actually Datetime Features but listed as Object datatype. \n",
    "# Lest extract the meaningfull info out of these features and convert it into Datatime from Object. \n",
    "\n",
    "# From Date_of_Journey, we could take out Day and Month.\n",
    "# Also will append these extracted features in our dataset as seperate columns.\n",
    "\n",
    "df1['Journey_Day']= pd.to_datetime(df1.Date_of_Journey, format='%d/%m/%Y').dt.day\n",
    "df1['Journey_Month']= pd.to_datetime(df1.Date_of_Journey, format='%d/%m/%Y').dt.month"
   ]
  },
  {
   "cell_type": "code",
   "execution_count": 25,
   "metadata": {},
   "outputs": [
    {
     "data": {
      "text/html": [
       "<div>\n",
       "<style scoped>\n",
       "    .dataframe tbody tr th:only-of-type {\n",
       "        vertical-align: middle;\n",
       "    }\n",
       "\n",
       "    .dataframe tbody tr th {\n",
       "        vertical-align: top;\n",
       "    }\n",
       "\n",
       "    .dataframe thead th {\n",
       "        text-align: right;\n",
       "    }\n",
       "</style>\n",
       "<table border=\"1\" class=\"dataframe\">\n",
       "  <thead>\n",
       "    <tr style=\"text-align: right;\">\n",
       "      <th></th>\n",
       "      <th>Airline</th>\n",
       "      <th>Date_of_Journey</th>\n",
       "      <th>Source</th>\n",
       "      <th>Destination</th>\n",
       "      <th>Dep_Time</th>\n",
       "      <th>Arrival_Time</th>\n",
       "      <th>Duration</th>\n",
       "      <th>Total_Stops</th>\n",
       "      <th>Price</th>\n",
       "      <th>Journey_Day</th>\n",
       "      <th>Journey_Month</th>\n",
       "    </tr>\n",
       "  </thead>\n",
       "  <tbody>\n",
       "    <tr>\n",
       "      <th>0</th>\n",
       "      <td>IndiGo</td>\n",
       "      <td>24/03/2019</td>\n",
       "      <td>Banglore</td>\n",
       "      <td>New Delhi</td>\n",
       "      <td>22:20</td>\n",
       "      <td>01:10 22 Mar</td>\n",
       "      <td>2h 50m</td>\n",
       "      <td>non-stop</td>\n",
       "      <td>3897</td>\n",
       "      <td>24</td>\n",
       "      <td>3</td>\n",
       "    </tr>\n",
       "    <tr>\n",
       "      <th>1</th>\n",
       "      <td>Air India</td>\n",
       "      <td>1/05/2019</td>\n",
       "      <td>Kolkata</td>\n",
       "      <td>Banglore</td>\n",
       "      <td>05:50</td>\n",
       "      <td>13:15</td>\n",
       "      <td>7h 25m</td>\n",
       "      <td>2 stops</td>\n",
       "      <td>7662</td>\n",
       "      <td>1</td>\n",
       "      <td>5</td>\n",
       "    </tr>\n",
       "    <tr>\n",
       "      <th>2</th>\n",
       "      <td>Jet Airways</td>\n",
       "      <td>9/06/2019</td>\n",
       "      <td>Delhi</td>\n",
       "      <td>Cochin</td>\n",
       "      <td>09:25</td>\n",
       "      <td>04:25 10 Jun</td>\n",
       "      <td>19h</td>\n",
       "      <td>2 stops</td>\n",
       "      <td>13882</td>\n",
       "      <td>9</td>\n",
       "      <td>6</td>\n",
       "    </tr>\n",
       "    <tr>\n",
       "      <th>3</th>\n",
       "      <td>IndiGo</td>\n",
       "      <td>12/05/2019</td>\n",
       "      <td>Kolkata</td>\n",
       "      <td>Banglore</td>\n",
       "      <td>18:05</td>\n",
       "      <td>23:30</td>\n",
       "      <td>5h 25m</td>\n",
       "      <td>1 stop</td>\n",
       "      <td>6218</td>\n",
       "      <td>12</td>\n",
       "      <td>5</td>\n",
       "    </tr>\n",
       "    <tr>\n",
       "      <th>4</th>\n",
       "      <td>IndiGo</td>\n",
       "      <td>01/03/2019</td>\n",
       "      <td>Banglore</td>\n",
       "      <td>New Delhi</td>\n",
       "      <td>16:50</td>\n",
       "      <td>21:35</td>\n",
       "      <td>4h 45m</td>\n",
       "      <td>1 stop</td>\n",
       "      <td>13302</td>\n",
       "      <td>1</td>\n",
       "      <td>3</td>\n",
       "    </tr>\n",
       "  </tbody>\n",
       "</table>\n",
       "</div>"
      ],
      "text/plain": [
       "       Airline Date_of_Journey    Source Destination Dep_Time  Arrival_Time  \\\n",
       "0       IndiGo      24/03/2019  Banglore   New Delhi    22:20  01:10 22 Mar   \n",
       "1    Air India       1/05/2019   Kolkata    Banglore    05:50         13:15   \n",
       "2  Jet Airways       9/06/2019     Delhi      Cochin    09:25  04:25 10 Jun   \n",
       "3       IndiGo      12/05/2019   Kolkata    Banglore    18:05         23:30   \n",
       "4       IndiGo      01/03/2019  Banglore   New Delhi    16:50         21:35   \n",
       "\n",
       "  Duration Total_Stops  Price  Journey_Day  Journey_Month  \n",
       "0   2h 50m    non-stop   3897           24              3  \n",
       "1   7h 25m     2 stops   7662            1              5  \n",
       "2      19h     2 stops  13882            9              6  \n",
       "3   5h 25m      1 stop   6218           12              5  \n",
       "4   4h 45m      1 stop  13302            1              3  "
      ]
     },
     "execution_count": 25,
     "metadata": {},
     "output_type": "execute_result"
    }
   ],
   "source": [
    "df1.head()"
   ]
  },
  {
   "cell_type": "code",
   "execution_count": 26,
   "metadata": {},
   "outputs": [],
   "source": [
    "# Since we have appended the extracted features from Date_of_Journey, we no longer need the original feature.\n",
    "df1.drop('Date_of_Journey',axis=1,inplace=True)"
   ]
  },
  {
   "cell_type": "code",
   "execution_count": 27,
   "metadata": {},
   "outputs": [
    {
     "data": {
      "text/html": [
       "<div>\n",
       "<style scoped>\n",
       "    .dataframe tbody tr th:only-of-type {\n",
       "        vertical-align: middle;\n",
       "    }\n",
       "\n",
       "    .dataframe tbody tr th {\n",
       "        vertical-align: top;\n",
       "    }\n",
       "\n",
       "    .dataframe thead th {\n",
       "        text-align: right;\n",
       "    }\n",
       "</style>\n",
       "<table border=\"1\" class=\"dataframe\">\n",
       "  <thead>\n",
       "    <tr style=\"text-align: right;\">\n",
       "      <th></th>\n",
       "      <th>Airline</th>\n",
       "      <th>Source</th>\n",
       "      <th>Destination</th>\n",
       "      <th>Dep_Time</th>\n",
       "      <th>Arrival_Time</th>\n",
       "      <th>Duration</th>\n",
       "      <th>Total_Stops</th>\n",
       "      <th>Price</th>\n",
       "      <th>Journey_Day</th>\n",
       "      <th>Journey_Month</th>\n",
       "    </tr>\n",
       "  </thead>\n",
       "  <tbody>\n",
       "    <tr>\n",
       "      <th>0</th>\n",
       "      <td>IndiGo</td>\n",
       "      <td>Banglore</td>\n",
       "      <td>New Delhi</td>\n",
       "      <td>22:20</td>\n",
       "      <td>01:10 22 Mar</td>\n",
       "      <td>2h 50m</td>\n",
       "      <td>non-stop</td>\n",
       "      <td>3897</td>\n",
       "      <td>24</td>\n",
       "      <td>3</td>\n",
       "    </tr>\n",
       "    <tr>\n",
       "      <th>1</th>\n",
       "      <td>Air India</td>\n",
       "      <td>Kolkata</td>\n",
       "      <td>Banglore</td>\n",
       "      <td>05:50</td>\n",
       "      <td>13:15</td>\n",
       "      <td>7h 25m</td>\n",
       "      <td>2 stops</td>\n",
       "      <td>7662</td>\n",
       "      <td>1</td>\n",
       "      <td>5</td>\n",
       "    </tr>\n",
       "    <tr>\n",
       "      <th>2</th>\n",
       "      <td>Jet Airways</td>\n",
       "      <td>Delhi</td>\n",
       "      <td>Cochin</td>\n",
       "      <td>09:25</td>\n",
       "      <td>04:25 10 Jun</td>\n",
       "      <td>19h</td>\n",
       "      <td>2 stops</td>\n",
       "      <td>13882</td>\n",
       "      <td>9</td>\n",
       "      <td>6</td>\n",
       "    </tr>\n",
       "    <tr>\n",
       "      <th>3</th>\n",
       "      <td>IndiGo</td>\n",
       "      <td>Kolkata</td>\n",
       "      <td>Banglore</td>\n",
       "      <td>18:05</td>\n",
       "      <td>23:30</td>\n",
       "      <td>5h 25m</td>\n",
       "      <td>1 stop</td>\n",
       "      <td>6218</td>\n",
       "      <td>12</td>\n",
       "      <td>5</td>\n",
       "    </tr>\n",
       "    <tr>\n",
       "      <th>4</th>\n",
       "      <td>IndiGo</td>\n",
       "      <td>Banglore</td>\n",
       "      <td>New Delhi</td>\n",
       "      <td>16:50</td>\n",
       "      <td>21:35</td>\n",
       "      <td>4h 45m</td>\n",
       "      <td>1 stop</td>\n",
       "      <td>13302</td>\n",
       "      <td>1</td>\n",
       "      <td>3</td>\n",
       "    </tr>\n",
       "  </tbody>\n",
       "</table>\n",
       "</div>"
      ],
      "text/plain": [
       "       Airline    Source Destination Dep_Time  Arrival_Time Duration  \\\n",
       "0       IndiGo  Banglore   New Delhi    22:20  01:10 22 Mar   2h 50m   \n",
       "1    Air India   Kolkata    Banglore    05:50         13:15   7h 25m   \n",
       "2  Jet Airways     Delhi      Cochin    09:25  04:25 10 Jun      19h   \n",
       "3       IndiGo   Kolkata    Banglore    18:05         23:30   5h 25m   \n",
       "4       IndiGo  Banglore   New Delhi    16:50         21:35   4h 45m   \n",
       "\n",
       "  Total_Stops  Price  Journey_Day  Journey_Month  \n",
       "0    non-stop   3897           24              3  \n",
       "1     2 stops   7662            1              5  \n",
       "2     2 stops  13882            9              6  \n",
       "3      1 stop   6218           12              5  \n",
       "4      1 stop  13302            1              3  "
      ]
     },
     "execution_count": 27,
     "metadata": {},
     "output_type": "execute_result"
    }
   ],
   "source": [
    "df1.head()"
   ]
  },
  {
   "cell_type": "code",
   "execution_count": 28,
   "metadata": {},
   "outputs": [],
   "source": [
    "#Similarly will have to extract out the Hours and Mins from Dep_Time, Arrival_Time and Duration Feature.\n",
    "# Also will append these extraxted features in df1.\n",
    "\n",
    "df1['Dep_Hour']=pd.to_datetime(df1.Dep_Time).dt.hour\n",
    "df1['Dep_Min']=pd.to_datetime(df1.Dep_Time).dt.minute"
   ]
  },
  {
   "cell_type": "code",
   "execution_count": 29,
   "metadata": {
    "scrolled": false
   },
   "outputs": [
    {
     "data": {
      "text/html": [
       "<div>\n",
       "<style scoped>\n",
       "    .dataframe tbody tr th:only-of-type {\n",
       "        vertical-align: middle;\n",
       "    }\n",
       "\n",
       "    .dataframe tbody tr th {\n",
       "        vertical-align: top;\n",
       "    }\n",
       "\n",
       "    .dataframe thead th {\n",
       "        text-align: right;\n",
       "    }\n",
       "</style>\n",
       "<table border=\"1\" class=\"dataframe\">\n",
       "  <thead>\n",
       "    <tr style=\"text-align: right;\">\n",
       "      <th></th>\n",
       "      <th>Airline</th>\n",
       "      <th>Source</th>\n",
       "      <th>Destination</th>\n",
       "      <th>Dep_Time</th>\n",
       "      <th>Arrival_Time</th>\n",
       "      <th>Duration</th>\n",
       "      <th>Total_Stops</th>\n",
       "      <th>Price</th>\n",
       "      <th>Journey_Day</th>\n",
       "      <th>Journey_Month</th>\n",
       "      <th>Dep_Hour</th>\n",
       "      <th>Dep_Min</th>\n",
       "    </tr>\n",
       "  </thead>\n",
       "  <tbody>\n",
       "    <tr>\n",
       "      <th>0</th>\n",
       "      <td>IndiGo</td>\n",
       "      <td>Banglore</td>\n",
       "      <td>New Delhi</td>\n",
       "      <td>22:20</td>\n",
       "      <td>01:10 22 Mar</td>\n",
       "      <td>2h 50m</td>\n",
       "      <td>non-stop</td>\n",
       "      <td>3897</td>\n",
       "      <td>24</td>\n",
       "      <td>3</td>\n",
       "      <td>22</td>\n",
       "      <td>20</td>\n",
       "    </tr>\n",
       "    <tr>\n",
       "      <th>1</th>\n",
       "      <td>Air India</td>\n",
       "      <td>Kolkata</td>\n",
       "      <td>Banglore</td>\n",
       "      <td>05:50</td>\n",
       "      <td>13:15</td>\n",
       "      <td>7h 25m</td>\n",
       "      <td>2 stops</td>\n",
       "      <td>7662</td>\n",
       "      <td>1</td>\n",
       "      <td>5</td>\n",
       "      <td>5</td>\n",
       "      <td>50</td>\n",
       "    </tr>\n",
       "    <tr>\n",
       "      <th>2</th>\n",
       "      <td>Jet Airways</td>\n",
       "      <td>Delhi</td>\n",
       "      <td>Cochin</td>\n",
       "      <td>09:25</td>\n",
       "      <td>04:25 10 Jun</td>\n",
       "      <td>19h</td>\n",
       "      <td>2 stops</td>\n",
       "      <td>13882</td>\n",
       "      <td>9</td>\n",
       "      <td>6</td>\n",
       "      <td>9</td>\n",
       "      <td>25</td>\n",
       "    </tr>\n",
       "    <tr>\n",
       "      <th>3</th>\n",
       "      <td>IndiGo</td>\n",
       "      <td>Kolkata</td>\n",
       "      <td>Banglore</td>\n",
       "      <td>18:05</td>\n",
       "      <td>23:30</td>\n",
       "      <td>5h 25m</td>\n",
       "      <td>1 stop</td>\n",
       "      <td>6218</td>\n",
       "      <td>12</td>\n",
       "      <td>5</td>\n",
       "      <td>18</td>\n",
       "      <td>5</td>\n",
       "    </tr>\n",
       "    <tr>\n",
       "      <th>4</th>\n",
       "      <td>IndiGo</td>\n",
       "      <td>Banglore</td>\n",
       "      <td>New Delhi</td>\n",
       "      <td>16:50</td>\n",
       "      <td>21:35</td>\n",
       "      <td>4h 45m</td>\n",
       "      <td>1 stop</td>\n",
       "      <td>13302</td>\n",
       "      <td>1</td>\n",
       "      <td>3</td>\n",
       "      <td>16</td>\n",
       "      <td>50</td>\n",
       "    </tr>\n",
       "  </tbody>\n",
       "</table>\n",
       "</div>"
      ],
      "text/plain": [
       "       Airline    Source Destination Dep_Time  Arrival_Time Duration  \\\n",
       "0       IndiGo  Banglore   New Delhi    22:20  01:10 22 Mar   2h 50m   \n",
       "1    Air India   Kolkata    Banglore    05:50         13:15   7h 25m   \n",
       "2  Jet Airways     Delhi      Cochin    09:25  04:25 10 Jun      19h   \n",
       "3       IndiGo   Kolkata    Banglore    18:05         23:30   5h 25m   \n",
       "4       IndiGo  Banglore   New Delhi    16:50         21:35   4h 45m   \n",
       "\n",
       "  Total_Stops  Price  Journey_Day  Journey_Month  Dep_Hour  Dep_Min  \n",
       "0    non-stop   3897           24              3        22       20  \n",
       "1     2 stops   7662            1              5         5       50  \n",
       "2     2 stops  13882            9              6         9       25  \n",
       "3      1 stop   6218           12              5        18        5  \n",
       "4      1 stop  13302            1              3        16       50  "
      ]
     },
     "execution_count": 29,
     "metadata": {},
     "output_type": "execute_result"
    }
   ],
   "source": [
    "df1.head()"
   ]
  },
  {
   "cell_type": "code",
   "execution_count": 30,
   "metadata": {},
   "outputs": [],
   "source": [
    "# Since we have appended the extracted features from Dept_Time, we no longer need the original feature.\n",
    "df1.drop('Dep_Time',axis=1,inplace=True)"
   ]
  },
  {
   "cell_type": "code",
   "execution_count": 31,
   "metadata": {},
   "outputs": [],
   "source": [
    "#Lets perform similar steps from Arrival_Time. \n",
    "#It also include day and month in few rows, but we don't need that info, since we already captured that info in other feature.\n",
    "\n",
    "df1['Arival_Hour']=pd.to_datetime(df1.Arrival_Time).dt.hour\n",
    "df1['Arival_Min']=pd.to_datetime(df1.Arrival_Time).dt.minute"
   ]
  },
  {
   "cell_type": "code",
   "execution_count": 32,
   "metadata": {},
   "outputs": [],
   "source": [
    "# Since we have appended the extracted features from Arrival_Time, we no longer need the original feature.\n",
    "df1.drop('Arrival_Time',axis=1,inplace=True)"
   ]
  },
  {
   "cell_type": "code",
   "execution_count": 33,
   "metadata": {},
   "outputs": [
    {
     "data": {
      "text/html": [
       "<div>\n",
       "<style scoped>\n",
       "    .dataframe tbody tr th:only-of-type {\n",
       "        vertical-align: middle;\n",
       "    }\n",
       "\n",
       "    .dataframe tbody tr th {\n",
       "        vertical-align: top;\n",
       "    }\n",
       "\n",
       "    .dataframe thead th {\n",
       "        text-align: right;\n",
       "    }\n",
       "</style>\n",
       "<table border=\"1\" class=\"dataframe\">\n",
       "  <thead>\n",
       "    <tr style=\"text-align: right;\">\n",
       "      <th></th>\n",
       "      <th>Airline</th>\n",
       "      <th>Source</th>\n",
       "      <th>Destination</th>\n",
       "      <th>Duration</th>\n",
       "      <th>Total_Stops</th>\n",
       "      <th>Price</th>\n",
       "      <th>Journey_Day</th>\n",
       "      <th>Journey_Month</th>\n",
       "      <th>Dep_Hour</th>\n",
       "      <th>Dep_Min</th>\n",
       "      <th>Arival_Hour</th>\n",
       "      <th>Arival_Min</th>\n",
       "    </tr>\n",
       "  </thead>\n",
       "  <tbody>\n",
       "    <tr>\n",
       "      <th>0</th>\n",
       "      <td>IndiGo</td>\n",
       "      <td>Banglore</td>\n",
       "      <td>New Delhi</td>\n",
       "      <td>2h 50m</td>\n",
       "      <td>non-stop</td>\n",
       "      <td>3897</td>\n",
       "      <td>24</td>\n",
       "      <td>3</td>\n",
       "      <td>22</td>\n",
       "      <td>20</td>\n",
       "      <td>1</td>\n",
       "      <td>10</td>\n",
       "    </tr>\n",
       "    <tr>\n",
       "      <th>1</th>\n",
       "      <td>Air India</td>\n",
       "      <td>Kolkata</td>\n",
       "      <td>Banglore</td>\n",
       "      <td>7h 25m</td>\n",
       "      <td>2 stops</td>\n",
       "      <td>7662</td>\n",
       "      <td>1</td>\n",
       "      <td>5</td>\n",
       "      <td>5</td>\n",
       "      <td>50</td>\n",
       "      <td>13</td>\n",
       "      <td>15</td>\n",
       "    </tr>\n",
       "    <tr>\n",
       "      <th>2</th>\n",
       "      <td>Jet Airways</td>\n",
       "      <td>Delhi</td>\n",
       "      <td>Cochin</td>\n",
       "      <td>19h</td>\n",
       "      <td>2 stops</td>\n",
       "      <td>13882</td>\n",
       "      <td>9</td>\n",
       "      <td>6</td>\n",
       "      <td>9</td>\n",
       "      <td>25</td>\n",
       "      <td>4</td>\n",
       "      <td>25</td>\n",
       "    </tr>\n",
       "    <tr>\n",
       "      <th>3</th>\n",
       "      <td>IndiGo</td>\n",
       "      <td>Kolkata</td>\n",
       "      <td>Banglore</td>\n",
       "      <td>5h 25m</td>\n",
       "      <td>1 stop</td>\n",
       "      <td>6218</td>\n",
       "      <td>12</td>\n",
       "      <td>5</td>\n",
       "      <td>18</td>\n",
       "      <td>5</td>\n",
       "      <td>23</td>\n",
       "      <td>30</td>\n",
       "    </tr>\n",
       "    <tr>\n",
       "      <th>4</th>\n",
       "      <td>IndiGo</td>\n",
       "      <td>Banglore</td>\n",
       "      <td>New Delhi</td>\n",
       "      <td>4h 45m</td>\n",
       "      <td>1 stop</td>\n",
       "      <td>13302</td>\n",
       "      <td>1</td>\n",
       "      <td>3</td>\n",
       "      <td>16</td>\n",
       "      <td>50</td>\n",
       "      <td>21</td>\n",
       "      <td>35</td>\n",
       "    </tr>\n",
       "  </tbody>\n",
       "</table>\n",
       "</div>"
      ],
      "text/plain": [
       "       Airline    Source Destination Duration Total_Stops  Price  Journey_Day  \\\n",
       "0       IndiGo  Banglore   New Delhi   2h 50m    non-stop   3897           24   \n",
       "1    Air India   Kolkata    Banglore   7h 25m     2 stops   7662            1   \n",
       "2  Jet Airways     Delhi      Cochin      19h     2 stops  13882            9   \n",
       "3       IndiGo   Kolkata    Banglore   5h 25m      1 stop   6218           12   \n",
       "4       IndiGo  Banglore   New Delhi   4h 45m      1 stop  13302            1   \n",
       "\n",
       "   Journey_Month  Dep_Hour  Dep_Min  Arival_Hour  Arival_Min  \n",
       "0              3        22       20            1          10  \n",
       "1              5         5       50           13          15  \n",
       "2              6         9       25            4          25  \n",
       "3              5        18        5           23          30  \n",
       "4              3        16       50           21          35  "
      ]
     },
     "execution_count": 33,
     "metadata": {},
     "output_type": "execute_result"
    }
   ],
   "source": [
    "df1.head()"
   ]
  },
  {
   "cell_type": "code",
   "execution_count": 34,
   "metadata": {},
   "outputs": [],
   "source": [
    "# Now we are left with Duration Feature. its in the format of HH:MM but in some rows, only Hour or Min is present.\n",
    "# So will have to take care of it. \n",
    "# It is a basically a differnce between Departure Time and Arrival time.\n",
    "\n",
    "\n",
    "# Lets convert Duration column into list\n",
    "duration = list(df1[\"Duration\"])\n",
    "\n",
    "for i in range(len(duration)):\n",
    "    if len(duration[i].split()) != 2:    # Check if duration contains only hour or mins\n",
    "        if \"h\" in duration[i]:\n",
    "            duration[i] = duration[i].strip() + \" 0m\"   # Adds 0 minute\n",
    "        else:\n",
    "            duration[i] = \"0h \" + duration[i]           # Adds 0 hour\n",
    "\n",
    "duration_hours = []\n",
    "duration_mins = []\n",
    "for i in range(len(duration)):\n",
    "    duration_hours.append(int(duration[i].split(sep = \"h\")[0]))    # Extract hours from duration\n",
    "    duration_mins.append(int(duration[i].split(sep = \"m\")[0].split()[-1]))   # Extracts only minutes from duration"
   ]
  },
  {
   "cell_type": "code",
   "execution_count": 35,
   "metadata": {},
   "outputs": [],
   "source": [
    "# Appending duration_hours and duration_mins list to df1\n",
    "\n",
    "df1[\"Duration_hours\"] = duration_hours\n",
    "df1[\"Duration_mins\"] = duration_mins"
   ]
  },
  {
   "cell_type": "code",
   "execution_count": 36,
   "metadata": {
    "scrolled": true
   },
   "outputs": [
    {
     "data": {
      "text/html": [
       "<div>\n",
       "<style scoped>\n",
       "    .dataframe tbody tr th:only-of-type {\n",
       "        vertical-align: middle;\n",
       "    }\n",
       "\n",
       "    .dataframe tbody tr th {\n",
       "        vertical-align: top;\n",
       "    }\n",
       "\n",
       "    .dataframe thead th {\n",
       "        text-align: right;\n",
       "    }\n",
       "</style>\n",
       "<table border=\"1\" class=\"dataframe\">\n",
       "  <thead>\n",
       "    <tr style=\"text-align: right;\">\n",
       "      <th></th>\n",
       "      <th>Airline</th>\n",
       "      <th>Source</th>\n",
       "      <th>Destination</th>\n",
       "      <th>Duration</th>\n",
       "      <th>Total_Stops</th>\n",
       "      <th>Price</th>\n",
       "      <th>Journey_Day</th>\n",
       "      <th>Journey_Month</th>\n",
       "      <th>Dep_Hour</th>\n",
       "      <th>Dep_Min</th>\n",
       "      <th>Arival_Hour</th>\n",
       "      <th>Arival_Min</th>\n",
       "      <th>Duration_hours</th>\n",
       "      <th>Duration_mins</th>\n",
       "    </tr>\n",
       "  </thead>\n",
       "  <tbody>\n",
       "    <tr>\n",
       "      <th>0</th>\n",
       "      <td>IndiGo</td>\n",
       "      <td>Banglore</td>\n",
       "      <td>New Delhi</td>\n",
       "      <td>2h 50m</td>\n",
       "      <td>non-stop</td>\n",
       "      <td>3897</td>\n",
       "      <td>24</td>\n",
       "      <td>3</td>\n",
       "      <td>22</td>\n",
       "      <td>20</td>\n",
       "      <td>1</td>\n",
       "      <td>10</td>\n",
       "      <td>2</td>\n",
       "      <td>50</td>\n",
       "    </tr>\n",
       "    <tr>\n",
       "      <th>1</th>\n",
       "      <td>Air India</td>\n",
       "      <td>Kolkata</td>\n",
       "      <td>Banglore</td>\n",
       "      <td>7h 25m</td>\n",
       "      <td>2 stops</td>\n",
       "      <td>7662</td>\n",
       "      <td>1</td>\n",
       "      <td>5</td>\n",
       "      <td>5</td>\n",
       "      <td>50</td>\n",
       "      <td>13</td>\n",
       "      <td>15</td>\n",
       "      <td>7</td>\n",
       "      <td>25</td>\n",
       "    </tr>\n",
       "    <tr>\n",
       "      <th>2</th>\n",
       "      <td>Jet Airways</td>\n",
       "      <td>Delhi</td>\n",
       "      <td>Cochin</td>\n",
       "      <td>19h</td>\n",
       "      <td>2 stops</td>\n",
       "      <td>13882</td>\n",
       "      <td>9</td>\n",
       "      <td>6</td>\n",
       "      <td>9</td>\n",
       "      <td>25</td>\n",
       "      <td>4</td>\n",
       "      <td>25</td>\n",
       "      <td>19</td>\n",
       "      <td>0</td>\n",
       "    </tr>\n",
       "    <tr>\n",
       "      <th>3</th>\n",
       "      <td>IndiGo</td>\n",
       "      <td>Kolkata</td>\n",
       "      <td>Banglore</td>\n",
       "      <td>5h 25m</td>\n",
       "      <td>1 stop</td>\n",
       "      <td>6218</td>\n",
       "      <td>12</td>\n",
       "      <td>5</td>\n",
       "      <td>18</td>\n",
       "      <td>5</td>\n",
       "      <td>23</td>\n",
       "      <td>30</td>\n",
       "      <td>5</td>\n",
       "      <td>25</td>\n",
       "    </tr>\n",
       "    <tr>\n",
       "      <th>4</th>\n",
       "      <td>IndiGo</td>\n",
       "      <td>Banglore</td>\n",
       "      <td>New Delhi</td>\n",
       "      <td>4h 45m</td>\n",
       "      <td>1 stop</td>\n",
       "      <td>13302</td>\n",
       "      <td>1</td>\n",
       "      <td>3</td>\n",
       "      <td>16</td>\n",
       "      <td>50</td>\n",
       "      <td>21</td>\n",
       "      <td>35</td>\n",
       "      <td>4</td>\n",
       "      <td>45</td>\n",
       "    </tr>\n",
       "  </tbody>\n",
       "</table>\n",
       "</div>"
      ],
      "text/plain": [
       "       Airline    Source Destination Duration Total_Stops  Price  Journey_Day  \\\n",
       "0       IndiGo  Banglore   New Delhi   2h 50m    non-stop   3897           24   \n",
       "1    Air India   Kolkata    Banglore   7h 25m     2 stops   7662            1   \n",
       "2  Jet Airways     Delhi      Cochin      19h     2 stops  13882            9   \n",
       "3       IndiGo   Kolkata    Banglore   5h 25m      1 stop   6218           12   \n",
       "4       IndiGo  Banglore   New Delhi   4h 45m      1 stop  13302            1   \n",
       "\n",
       "   Journey_Month  Dep_Hour  Dep_Min  Arival_Hour  Arival_Min  Duration_hours  \\\n",
       "0              3        22       20            1          10               2   \n",
       "1              5         5       50           13          15               7   \n",
       "2              6         9       25            4          25              19   \n",
       "3              5        18        5           23          30               5   \n",
       "4              3        16       50           21          35               4   \n",
       "\n",
       "   Duration_mins  \n",
       "0             50  \n",
       "1             25  \n",
       "2              0  \n",
       "3             25  \n",
       "4             45  "
      ]
     },
     "execution_count": 36,
     "metadata": {},
     "output_type": "execute_result"
    }
   ],
   "source": [
    "df1.head()"
   ]
  },
  {
   "cell_type": "code",
   "execution_count": 37,
   "metadata": {},
   "outputs": [],
   "source": [
    "#Lest drop the original Duration Column from df1\n",
    "df1.drop('Duration',axis=1,inplace=True)"
   ]
  },
  {
   "cell_type": "code",
   "execution_count": 38,
   "metadata": {},
   "outputs": [
    {
     "name": "stdout",
     "output_type": "stream",
     "text": [
      "<class 'pandas.core.frame.DataFrame'>\n",
      "Int64Index: 10682 entries, 0 to 10682\n",
      "Data columns (total 13 columns):\n",
      " #   Column          Non-Null Count  Dtype \n",
      "---  ------          --------------  ----- \n",
      " 0   Airline         10682 non-null  object\n",
      " 1   Source          10682 non-null  object\n",
      " 2   Destination     10682 non-null  object\n",
      " 3   Total_Stops     10682 non-null  object\n",
      " 4   Price           10682 non-null  int64 \n",
      " 5   Journey_Day     10682 non-null  int64 \n",
      " 6   Journey_Month   10682 non-null  int64 \n",
      " 7   Dep_Hour        10682 non-null  int64 \n",
      " 8   Dep_Min         10682 non-null  int64 \n",
      " 9   Arival_Hour     10682 non-null  int64 \n",
      " 10  Arival_Min      10682 non-null  int64 \n",
      " 11  Duration_hours  10682 non-null  int64 \n",
      " 12  Duration_mins   10682 non-null  int64 \n",
      "dtypes: int64(9), object(4)\n",
      "memory usage: 1.1+ MB\n"
     ]
    }
   ],
   "source": [
    "df1.info()"
   ]
  },
  {
   "cell_type": "code",
   "execution_count": 39,
   "metadata": {},
   "outputs": [
    {
     "data": {
      "text/html": [
       "<div>\n",
       "<style scoped>\n",
       "    .dataframe tbody tr th:only-of-type {\n",
       "        vertical-align: middle;\n",
       "    }\n",
       "\n",
       "    .dataframe tbody tr th {\n",
       "        vertical-align: top;\n",
       "    }\n",
       "\n",
       "    .dataframe thead th {\n",
       "        text-align: right;\n",
       "    }\n",
       "</style>\n",
       "<table border=\"1\" class=\"dataframe\">\n",
       "  <thead>\n",
       "    <tr style=\"text-align: right;\">\n",
       "      <th></th>\n",
       "      <th>Airline</th>\n",
       "      <th>Source</th>\n",
       "      <th>Destination</th>\n",
       "      <th>Total_Stops</th>\n",
       "      <th>Price</th>\n",
       "      <th>Journey_Day</th>\n",
       "      <th>Journey_Month</th>\n",
       "      <th>Dep_Hour</th>\n",
       "      <th>Dep_Min</th>\n",
       "      <th>Arival_Hour</th>\n",
       "      <th>Arival_Min</th>\n",
       "      <th>Duration_hours</th>\n",
       "      <th>Duration_mins</th>\n",
       "    </tr>\n",
       "  </thead>\n",
       "  <tbody>\n",
       "    <tr>\n",
       "      <th>0</th>\n",
       "      <td>IndiGo</td>\n",
       "      <td>Banglore</td>\n",
       "      <td>New Delhi</td>\n",
       "      <td>non-stop</td>\n",
       "      <td>3897</td>\n",
       "      <td>24</td>\n",
       "      <td>3</td>\n",
       "      <td>22</td>\n",
       "      <td>20</td>\n",
       "      <td>1</td>\n",
       "      <td>10</td>\n",
       "      <td>2</td>\n",
       "      <td>50</td>\n",
       "    </tr>\n",
       "    <tr>\n",
       "      <th>1</th>\n",
       "      <td>Air India</td>\n",
       "      <td>Kolkata</td>\n",
       "      <td>Banglore</td>\n",
       "      <td>2 stops</td>\n",
       "      <td>7662</td>\n",
       "      <td>1</td>\n",
       "      <td>5</td>\n",
       "      <td>5</td>\n",
       "      <td>50</td>\n",
       "      <td>13</td>\n",
       "      <td>15</td>\n",
       "      <td>7</td>\n",
       "      <td>25</td>\n",
       "    </tr>\n",
       "    <tr>\n",
       "      <th>2</th>\n",
       "      <td>Jet Airways</td>\n",
       "      <td>Delhi</td>\n",
       "      <td>Cochin</td>\n",
       "      <td>2 stops</td>\n",
       "      <td>13882</td>\n",
       "      <td>9</td>\n",
       "      <td>6</td>\n",
       "      <td>9</td>\n",
       "      <td>25</td>\n",
       "      <td>4</td>\n",
       "      <td>25</td>\n",
       "      <td>19</td>\n",
       "      <td>0</td>\n",
       "    </tr>\n",
       "    <tr>\n",
       "      <th>3</th>\n",
       "      <td>IndiGo</td>\n",
       "      <td>Kolkata</td>\n",
       "      <td>Banglore</td>\n",
       "      <td>1 stop</td>\n",
       "      <td>6218</td>\n",
       "      <td>12</td>\n",
       "      <td>5</td>\n",
       "      <td>18</td>\n",
       "      <td>5</td>\n",
       "      <td>23</td>\n",
       "      <td>30</td>\n",
       "      <td>5</td>\n",
       "      <td>25</td>\n",
       "    </tr>\n",
       "    <tr>\n",
       "      <th>4</th>\n",
       "      <td>IndiGo</td>\n",
       "      <td>Banglore</td>\n",
       "      <td>New Delhi</td>\n",
       "      <td>1 stop</td>\n",
       "      <td>13302</td>\n",
       "      <td>1</td>\n",
       "      <td>3</td>\n",
       "      <td>16</td>\n",
       "      <td>50</td>\n",
       "      <td>21</td>\n",
       "      <td>35</td>\n",
       "      <td>4</td>\n",
       "      <td>45</td>\n",
       "    </tr>\n",
       "  </tbody>\n",
       "</table>\n",
       "</div>"
      ],
      "text/plain": [
       "       Airline    Source Destination Total_Stops  Price  Journey_Day  \\\n",
       "0       IndiGo  Banglore   New Delhi    non-stop   3897           24   \n",
       "1    Air India   Kolkata    Banglore     2 stops   7662            1   \n",
       "2  Jet Airways     Delhi      Cochin     2 stops  13882            9   \n",
       "3       IndiGo   Kolkata    Banglore      1 stop   6218           12   \n",
       "4       IndiGo  Banglore   New Delhi      1 stop  13302            1   \n",
       "\n",
       "   Journey_Month  Dep_Hour  Dep_Min  Arival_Hour  Arival_Min  Duration_hours  \\\n",
       "0              3        22       20            1          10               2   \n",
       "1              5         5       50           13          15               7   \n",
       "2              6         9       25            4          25              19   \n",
       "3              5        18        5           23          30               5   \n",
       "4              3        16       50           21          35               4   \n",
       "\n",
       "   Duration_mins  \n",
       "0             50  \n",
       "1             25  \n",
       "2              0  \n",
       "3             25  \n",
       "4             45  "
      ]
     },
     "execution_count": 39,
     "metadata": {},
     "output_type": "execute_result"
    }
   ],
   "source": [
    "df1.head()"
   ]
  },
  {
   "cell_type": "markdown",
   "metadata": {},
   "source": [
    "##Since we have taken care of all the datetime features, lets focus now on Catogorical features. Will have to encode them.\n",
    "\n",
    "1.Lable Encoding  for ordinal Features\n",
    "2.Onehot encoding for Nominal Features. "
   ]
  },
  {
   "cell_type": "code",
   "execution_count": 40,
   "metadata": {
    "scrolled": false
   },
   "outputs": [
    {
     "data": {
      "image/png": "[encoded data removed]",
      "text/plain": [
       "<Figure size 1296x432 with 1 Axes>"
      ]
     },
     "metadata": {
      "needs_background": "light"
     },
     "output_type": "display_data"
    }
   ],
   "source": [
    "# Now lets discover each catogorical feature and its relationship with Target-Price. \n",
    "# Relation of Airlinetype with Price using Catplot.\n",
    "\n",
    "sns.catplot(y = \"Price\", x = \"Airline\", data = df1.sort_values(\"Price\", ascending = False), \n",
    "            kind=\"boxen\", height = 6, aspect = 3)\n",
    "plt.show()\n",
    "\n",
    "# So From the below catplot, we could see that for the Jet Airways, the price is at higher side. \n",
    "# While for the rest of the airlines, it almost same price.\n",
    "# Airline is basically Nominal Feature so will use One-Hot encoding for this. "
   ]
  },
  {
   "cell_type": "code",
   "execution_count": 41,
   "metadata": {},
   "outputs": [
    {
     "data": {
      "text/html": [
       "<div>\n",
       "<style scoped>\n",
       "    .dataframe tbody tr th:only-of-type {\n",
       "        vertical-align: middle;\n",
       "    }\n",
       "\n",
       "    .dataframe tbody tr th {\n",
       "        vertical-align: top;\n",
       "    }\n",
       "\n",
       "    .dataframe thead th {\n",
       "        text-align: right;\n",
       "    }\n",
       "</style>\n",
       "<table border=\"1\" class=\"dataframe\">\n",
       "  <thead>\n",
       "    <tr style=\"text-align: right;\">\n",
       "      <th></th>\n",
       "      <th>Airline_Air India</th>\n",
       "      <th>Airline_GoAir</th>\n",
       "      <th>Airline_IndiGo</th>\n",
       "      <th>Airline_Jet Airways</th>\n",
       "      <th>Airline_Jet Airways Business</th>\n",
       "      <th>Airline_Multiple carriers</th>\n",
       "      <th>Airline_Multiple carriers Premium economy</th>\n",
       "      <th>Airline_SpiceJet</th>\n",
       "      <th>Airline_Trujet</th>\n",
       "      <th>Airline_Vistara</th>\n",
       "      <th>Airline_Vistara Premium economy</th>\n",
       "    </tr>\n",
       "  </thead>\n",
       "  <tbody>\n",
       "    <tr>\n",
       "      <th>0</th>\n",
       "      <td>0</td>\n",
       "      <td>0</td>\n",
       "      <td>1</td>\n",
       "      <td>0</td>\n",
       "      <td>0</td>\n",
       "      <td>0</td>\n",
       "      <td>0</td>\n",
       "      <td>0</td>\n",
       "      <td>0</td>\n",
       "      <td>0</td>\n",
       "      <td>0</td>\n",
       "    </tr>\n",
       "    <tr>\n",
       "      <th>1</th>\n",
       "      <td>1</td>\n",
       "      <td>0</td>\n",
       "      <td>0</td>\n",
       "      <td>0</td>\n",
       "      <td>0</td>\n",
       "      <td>0</td>\n",
       "      <td>0</td>\n",
       "      <td>0</td>\n",
       "      <td>0</td>\n",
       "      <td>0</td>\n",
       "      <td>0</td>\n",
       "    </tr>\n",
       "    <tr>\n",
       "      <th>2</th>\n",
       "      <td>0</td>\n",
       "      <td>0</td>\n",
       "      <td>0</td>\n",
       "      <td>1</td>\n",
       "      <td>0</td>\n",
       "      <td>0</td>\n",
       "      <td>0</td>\n",
       "      <td>0</td>\n",
       "      <td>0</td>\n",
       "      <td>0</td>\n",
       "      <td>0</td>\n",
       "    </tr>\n",
       "    <tr>\n",
       "      <th>3</th>\n",
       "      <td>0</td>\n",
       "      <td>0</td>\n",
       "      <td>1</td>\n",
       "      <td>0</td>\n",
       "      <td>0</td>\n",
       "      <td>0</td>\n",
       "      <td>0</td>\n",
       "      <td>0</td>\n",
       "      <td>0</td>\n",
       "      <td>0</td>\n",
       "      <td>0</td>\n",
       "    </tr>\n",
       "    <tr>\n",
       "      <th>4</th>\n",
       "      <td>0</td>\n",
       "      <td>0</td>\n",
       "      <td>1</td>\n",
       "      <td>0</td>\n",
       "      <td>0</td>\n",
       "      <td>0</td>\n",
       "      <td>0</td>\n",
       "      <td>0</td>\n",
       "      <td>0</td>\n",
       "      <td>0</td>\n",
       "      <td>0</td>\n",
       "    </tr>\n",
       "  </tbody>\n",
       "</table>\n",
       "</div>"
      ],
      "text/plain": [
       "   Airline_Air India  Airline_GoAir  Airline_IndiGo  Airline_Jet Airways  \\\n",
       "0                  0              0               1                    0   \n",
       "1                  1              0               0                    0   \n",
       "2                  0              0               0                    1   \n",
       "3                  0              0               1                    0   \n",
       "4                  0              0               1                    0   \n",
       "\n",
       "   Airline_Jet Airways Business  Airline_Multiple carriers  \\\n",
       "0                             0                          0   \n",
       "1                             0                          0   \n",
       "2                             0                          0   \n",
       "3                             0                          0   \n",
       "4                             0                          0   \n",
       "\n",
       "   Airline_Multiple carriers Premium economy  Airline_SpiceJet  \\\n",
       "0                                          0                 0   \n",
       "1                                          0                 0   \n",
       "2                                          0                 0   \n",
       "3                                          0                 0   \n",
       "4                                          0                 0   \n",
       "\n",
       "   Airline_Trujet  Airline_Vistara  Airline_Vistara Premium economy  \n",
       "0               0                0                                0  \n",
       "1               0                0                                0  \n",
       "2               0                0                                0  \n",
       "3               0                0                                0  \n",
       "4               0                0                                0  "
      ]
     },
     "execution_count": 41,
     "metadata": {},
     "output_type": "execute_result"
    }
   ],
   "source": [
    "Airline = df1[[\"Airline\"]]\n",
    "Airline = pd.get_dummies(Airline, drop_first= True)\n",
    "Airline.head()"
   ]
  },
  {
   "cell_type": "code",
   "execution_count": 42,
   "metadata": {
    "scrolled": true
   },
   "outputs": [
    {
     "data": {
      "image/png": "[encoded data removed]",
      "text/plain": [
       "<Figure size 1296x432 with 1 Axes>"
      ]
     },
     "metadata": {
      "needs_background": "light"
     },
     "output_type": "display_data"
    }
   ],
   "source": [
    "# Relation of Source with Price using Catplot.\n",
    "\n",
    "sns.catplot(y = \"Price\", x = \"Source\", data = df1.sort_values(\"Price\", ascending = False), \n",
    "            kind=\"boxen\", height = 6, aspect = 3)\n",
    "plt.show()\n",
    "\n",
    "#Nominal Feature. will use One-hot encoding."
   ]
  },
  {
   "cell_type": "code",
   "execution_count": 43,
   "metadata": {},
   "outputs": [
    {
     "data": {
      "text/html": [
       "<div>\n",
       "<style scoped>\n",
       "    .dataframe tbody tr th:only-of-type {\n",
       "        vertical-align: middle;\n",
       "    }\n",
       "\n",
       "    .dataframe tbody tr th {\n",
       "        vertical-align: top;\n",
       "    }\n",
       "\n",
       "    .dataframe thead th {\n",
       "        text-align: right;\n",
       "    }\n",
       "</style>\n",
       "<table border=\"1\" class=\"dataframe\">\n",
       "  <thead>\n",
       "    <tr style=\"text-align: right;\">\n",
       "      <th></th>\n",
       "      <th>Source_Chennai</th>\n",
       "      <th>Source_Delhi</th>\n",
       "      <th>Source_Kolkata</th>\n",
       "      <th>Source_Mumbai</th>\n",
       "    </tr>\n",
       "  </thead>\n",
       "  <tbody>\n",
       "    <tr>\n",
       "      <th>0</th>\n",
       "      <td>0</td>\n",
       "      <td>0</td>\n",
       "      <td>0</td>\n",
       "      <td>0</td>\n",
       "    </tr>\n",
       "    <tr>\n",
       "      <th>1</th>\n",
       "      <td>0</td>\n",
       "      <td>0</td>\n",
       "      <td>1</td>\n",
       "      <td>0</td>\n",
       "    </tr>\n",
       "    <tr>\n",
       "      <th>2</th>\n",
       "      <td>0</td>\n",
       "      <td>1</td>\n",
       "      <td>0</td>\n",
       "      <td>0</td>\n",
       "    </tr>\n",
       "    <tr>\n",
       "      <th>3</th>\n",
       "      <td>0</td>\n",
       "      <td>0</td>\n",
       "      <td>1</td>\n",
       "      <td>0</td>\n",
       "    </tr>\n",
       "    <tr>\n",
       "      <th>4</th>\n",
       "      <td>0</td>\n",
       "      <td>0</td>\n",
       "      <td>0</td>\n",
       "      <td>0</td>\n",
       "    </tr>\n",
       "  </tbody>\n",
       "</table>\n",
       "</div>"
      ],
      "text/plain": [
       "   Source_Chennai  Source_Delhi  Source_Kolkata  Source_Mumbai\n",
       "0               0             0               0              0\n",
       "1               0             0               1              0\n",
       "2               0             1               0              0\n",
       "3               0             0               1              0\n",
       "4               0             0               0              0"
      ]
     },
     "execution_count": 43,
     "metadata": {},
     "output_type": "execute_result"
    }
   ],
   "source": [
    "Source= df1[['Source']]\n",
    "Source= pd.get_dummies(Source,drop_first=True)\n",
    "Source.head()"
   ]
  },
  {
   "cell_type": "code",
   "execution_count": 44,
   "metadata": {},
   "outputs": [
    {
     "data": {
      "image/png": "[encoded data removed]",
      "text/plain": [
       "<Figure size 1296x432 with 1 Axes>"
      ]
     },
     "metadata": {
      "needs_background": "light"
     },
     "output_type": "display_data"
    }
   ],
   "source": [
    "# Relation of Destination with Price using Catplot.\n",
    "\n",
    "sns.catplot(y = \"Price\", x = \"Destination\", data = df1.sort_values(\"Price\", ascending = False), \n",
    "            kind=\"boxen\", height = 6, aspect = 3)\n",
    "plt.show()\n",
    "\n",
    "#Nominal Feature. will use One-hot encoding. "
   ]
  },
  {
   "cell_type": "code",
   "execution_count": 45,
   "metadata": {},
   "outputs": [
    {
     "data": {
      "text/html": [
       "<div>\n",
       "<style scoped>\n",
       "    .dataframe tbody tr th:only-of-type {\n",
       "        vertical-align: middle;\n",
       "    }\n",
       "\n",
       "    .dataframe tbody tr th {\n",
       "        vertical-align: top;\n",
       "    }\n",
       "\n",
       "    .dataframe thead th {\n",
       "        text-align: right;\n",
       "    }\n",
       "</style>\n",
       "<table border=\"1\" class=\"dataframe\">\n",
       "  <thead>\n",
       "    <tr style=\"text-align: right;\">\n",
       "      <th></th>\n",
       "      <th>Destination_Cochin</th>\n",
       "      <th>Destination_Delhi</th>\n",
       "      <th>Destination_Hyderabad</th>\n",
       "      <th>Destination_Kolkata</th>\n",
       "      <th>Destination_New Delhi</th>\n",
       "    </tr>\n",
       "  </thead>\n",
       "  <tbody>\n",
       "    <tr>\n",
       "      <th>0</th>\n",
       "      <td>0</td>\n",
       "      <td>0</td>\n",
       "      <td>0</td>\n",
       "      <td>0</td>\n",
       "      <td>1</td>\n",
       "    </tr>\n",
       "    <tr>\n",
       "      <th>1</th>\n",
       "      <td>0</td>\n",
       "      <td>0</td>\n",
       "      <td>0</td>\n",
       "      <td>0</td>\n",
       "      <td>0</td>\n",
       "    </tr>\n",
       "    <tr>\n",
       "      <th>2</th>\n",
       "      <td>1</td>\n",
       "      <td>0</td>\n",
       "      <td>0</td>\n",
       "      <td>0</td>\n",
       "      <td>0</td>\n",
       "    </tr>\n",
       "    <tr>\n",
       "      <th>3</th>\n",
       "      <td>0</td>\n",
       "      <td>0</td>\n",
       "      <td>0</td>\n",
       "      <td>0</td>\n",
       "      <td>0</td>\n",
       "    </tr>\n",
       "    <tr>\n",
       "      <th>4</th>\n",
       "      <td>0</td>\n",
       "      <td>0</td>\n",
       "      <td>0</td>\n",
       "      <td>0</td>\n",
       "      <td>1</td>\n",
       "    </tr>\n",
       "  </tbody>\n",
       "</table>\n",
       "</div>"
      ],
      "text/plain": [
       "   Destination_Cochin  Destination_Delhi  Destination_Hyderabad  \\\n",
       "0                   0                  0                      0   \n",
       "1                   0                  0                      0   \n",
       "2                   1                  0                      0   \n",
       "3                   0                  0                      0   \n",
       "4                   0                  0                      0   \n",
       "\n",
       "   Destination_Kolkata  Destination_New Delhi  \n",
       "0                    0                      1  \n",
       "1                    0                      0  \n",
       "2                    0                      0  \n",
       "3                    0                      0  \n",
       "4                    0                      1  "
      ]
     },
     "execution_count": 45,
     "metadata": {},
     "output_type": "execute_result"
    }
   ],
   "source": [
    "Destination=df1[['Destination']]\n",
    "Destination=pd.get_dummies(Destination,drop_first=True)\n",
    "Destination.head()"
   ]
  },
  {
   "cell_type": "code",
   "execution_count": 46,
   "metadata": {},
   "outputs": [
    {
     "data": {
      "image/png": "[encoded data removed]",
      "text/plain": [
       "<Figure size 1296x432 with 1 Axes>"
      ]
     },
     "metadata": {
      "needs_background": "light"
     },
     "output_type": "display_data"
    }
   ],
   "source": [
    "# Relation of Total_Stops and Price using Catplot.\n",
    "\n",
    "sns.catplot(y = \"Price\", x = \"Total_Stops\", data = df1.sort_values(\"Price\", ascending = False), kind=\"boxen\", height = 6, aspect = 3)\n",
    "plt.show()\n",
    "\n",
    "# If we could carefully observe, there is pattern in this feature. As Number of stops increases, the price increases. \n",
    "# Non-stop has lowest price and then there is increment as we go on till 4 stops. \n",
    "# So We could conclude that,Total_Stops is an Ordinal feature. So will use Label Encoding for this. "
   ]
  },
  {
   "cell_type": "code",
   "execution_count": 47,
   "metadata": {},
   "outputs": [],
   "source": [
    "encode={\"non-stop\": 0, \"1 stop\": 1, \"2 stops\": 2, \"3 stops\": 3, \"4 stops\": 4}\n",
    "df1.replace(encode, inplace = True)"
   ]
  },
  {
   "cell_type": "code",
   "execution_count": 48,
   "metadata": {
    "scrolled": true
   },
   "outputs": [
    {
     "data": {
      "text/html": [
       "<div>\n",
       "<style scoped>\n",
       "    .dataframe tbody tr th:only-of-type {\n",
       "        vertical-align: middle;\n",
       "    }\n",
       "\n",
       "    .dataframe tbody tr th {\n",
       "        vertical-align: top;\n",
       "    }\n",
       "\n",
       "    .dataframe thead th {\n",
       "        text-align: right;\n",
       "    }\n",
       "</style>\n",
       "<table border=\"1\" class=\"dataframe\">\n",
       "  <thead>\n",
       "    <tr style=\"text-align: right;\">\n",
       "      <th></th>\n",
       "      <th>Airline</th>\n",
       "      <th>Source</th>\n",
       "      <th>Destination</th>\n",
       "      <th>Total_Stops</th>\n",
       "      <th>Price</th>\n",
       "      <th>Journey_Day</th>\n",
       "      <th>Journey_Month</th>\n",
       "      <th>Dep_Hour</th>\n",
       "      <th>Dep_Min</th>\n",
       "      <th>Arival_Hour</th>\n",
       "      <th>Arival_Min</th>\n",
       "      <th>Duration_hours</th>\n",
       "      <th>Duration_mins</th>\n",
       "    </tr>\n",
       "  </thead>\n",
       "  <tbody>\n",
       "    <tr>\n",
       "      <th>0</th>\n",
       "      <td>IndiGo</td>\n",
       "      <td>Banglore</td>\n",
       "      <td>New Delhi</td>\n",
       "      <td>0</td>\n",
       "      <td>3897</td>\n",
       "      <td>24</td>\n",
       "      <td>3</td>\n",
       "      <td>22</td>\n",
       "      <td>20</td>\n",
       "      <td>1</td>\n",
       "      <td>10</td>\n",
       "      <td>2</td>\n",
       "      <td>50</td>\n",
       "    </tr>\n",
       "    <tr>\n",
       "      <th>1</th>\n",
       "      <td>Air India</td>\n",
       "      <td>Kolkata</td>\n",
       "      <td>Banglore</td>\n",
       "      <td>2</td>\n",
       "      <td>7662</td>\n",
       "      <td>1</td>\n",
       "      <td>5</td>\n",
       "      <td>5</td>\n",
       "      <td>50</td>\n",
       "      <td>13</td>\n",
       "      <td>15</td>\n",
       "      <td>7</td>\n",
       "      <td>25</td>\n",
       "    </tr>\n",
       "    <tr>\n",
       "      <th>2</th>\n",
       "      <td>Jet Airways</td>\n",
       "      <td>Delhi</td>\n",
       "      <td>Cochin</td>\n",
       "      <td>2</td>\n",
       "      <td>13882</td>\n",
       "      <td>9</td>\n",
       "      <td>6</td>\n",
       "      <td>9</td>\n",
       "      <td>25</td>\n",
       "      <td>4</td>\n",
       "      <td>25</td>\n",
       "      <td>19</td>\n",
       "      <td>0</td>\n",
       "    </tr>\n",
       "    <tr>\n",
       "      <th>3</th>\n",
       "      <td>IndiGo</td>\n",
       "      <td>Kolkata</td>\n",
       "      <td>Banglore</td>\n",
       "      <td>1</td>\n",
       "      <td>6218</td>\n",
       "      <td>12</td>\n",
       "      <td>5</td>\n",
       "      <td>18</td>\n",
       "      <td>5</td>\n",
       "      <td>23</td>\n",
       "      <td>30</td>\n",
       "      <td>5</td>\n",
       "      <td>25</td>\n",
       "    </tr>\n",
       "    <tr>\n",
       "      <th>4</th>\n",
       "      <td>IndiGo</td>\n",
       "      <td>Banglore</td>\n",
       "      <td>New Delhi</td>\n",
       "      <td>1</td>\n",
       "      <td>13302</td>\n",
       "      <td>1</td>\n",
       "      <td>3</td>\n",
       "      <td>16</td>\n",
       "      <td>50</td>\n",
       "      <td>21</td>\n",
       "      <td>35</td>\n",
       "      <td>4</td>\n",
       "      <td>45</td>\n",
       "    </tr>\n",
       "  </tbody>\n",
       "</table>\n",
       "</div>"
      ],
      "text/plain": [
       "       Airline    Source Destination  Total_Stops  Price  Journey_Day  \\\n",
       "0       IndiGo  Banglore   New Delhi            0   3897           24   \n",
       "1    Air India   Kolkata    Banglore            2   7662            1   \n",
       "2  Jet Airways     Delhi      Cochin            2  13882            9   \n",
       "3       IndiGo   Kolkata    Banglore            1   6218           12   \n",
       "4       IndiGo  Banglore   New Delhi            1  13302            1   \n",
       "\n",
       "   Journey_Month  Dep_Hour  Dep_Min  Arival_Hour  Arival_Min  Duration_hours  \\\n",
       "0              3        22       20            1          10               2   \n",
       "1              5         5       50           13          15               7   \n",
       "2              6         9       25            4          25              19   \n",
       "3              5        18        5           23          30               5   \n",
       "4              3        16       50           21          35               4   \n",
       "\n",
       "   Duration_mins  \n",
       "0             50  \n",
       "1             25  \n",
       "2              0  \n",
       "3             25  \n",
       "4             45  "
      ]
     },
     "execution_count": 48,
     "metadata": {},
     "output_type": "execute_result"
    }
   ],
   "source": [
    "df1.head()"
   ]
  },
  {
   "cell_type": "code",
   "execution_count": 49,
   "metadata": {},
   "outputs": [],
   "source": [
    "#Now lets concat each converted feature with df1. .\n",
    "\n",
    "data_train= pd.concat([df1,Airline,Source,Destination],axis=1)"
   ]
  },
  {
   "cell_type": "code",
   "execution_count": 50,
   "metadata": {
    "scrolled": true
   },
   "outputs": [
    {
     "data": {
      "text/html": [
       "<div>\n",
       "<style scoped>\n",
       "    .dataframe tbody tr th:only-of-type {\n",
       "        vertical-align: middle;\n",
       "    }\n",
       "\n",
       "    .dataframe tbody tr th {\n",
       "        vertical-align: top;\n",
       "    }\n",
       "\n",
       "    .dataframe thead th {\n",
       "        text-align: right;\n",
       "    }\n",
       "</style>\n",
       "<table border=\"1\" class=\"dataframe\">\n",
       "  <thead>\n",
       "    <tr style=\"text-align: right;\">\n",
       "      <th></th>\n",
       "      <th>Airline</th>\n",
       "      <th>Source</th>\n",
       "      <th>Destination</th>\n",
       "      <th>Total_Stops</th>\n",
       "      <th>Price</th>\n",
       "      <th>Journey_Day</th>\n",
       "      <th>Journey_Month</th>\n",
       "      <th>Dep_Hour</th>\n",
       "      <th>Dep_Min</th>\n",
       "      <th>Arival_Hour</th>\n",
       "      <th>Arival_Min</th>\n",
       "      <th>Duration_hours</th>\n",
       "      <th>Duration_mins</th>\n",
       "      <th>Airline_Air India</th>\n",
       "      <th>Airline_GoAir</th>\n",
       "      <th>Airline_IndiGo</th>\n",
       "      <th>Airline_Jet Airways</th>\n",
       "      <th>Airline_Jet Airways Business</th>\n",
       "      <th>Airline_Multiple carriers</th>\n",
       "      <th>Airline_Multiple carriers Premium economy</th>\n",
       "      <th>Airline_SpiceJet</th>\n",
       "      <th>Airline_Trujet</th>\n",
       "      <th>Airline_Vistara</th>\n",
       "      <th>Airline_Vistara Premium economy</th>\n",
       "      <th>Source_Chennai</th>\n",
       "      <th>Source_Delhi</th>\n",
       "      <th>Source_Kolkata</th>\n",
       "      <th>Source_Mumbai</th>\n",
       "      <th>Destination_Cochin</th>\n",
       "      <th>Destination_Delhi</th>\n",
       "      <th>Destination_Hyderabad</th>\n",
       "      <th>Destination_Kolkata</th>\n",
       "      <th>Destination_New Delhi</th>\n",
       "    </tr>\n",
       "  </thead>\n",
       "  <tbody>\n",
       "    <tr>\n",
       "      <th>0</th>\n",
       "      <td>IndiGo</td>\n",
       "      <td>Banglore</td>\n",
       "      <td>New Delhi</td>\n",
       "      <td>0</td>\n",
       "      <td>3897</td>\n",
       "      <td>24</td>\n",
       "      <td>3</td>\n",
       "      <td>22</td>\n",
       "      <td>20</td>\n",
       "      <td>1</td>\n",
       "      <td>10</td>\n",
       "      <td>2</td>\n",
       "      <td>50</td>\n",
       "      <td>0</td>\n",
       "      <td>0</td>\n",
       "      <td>1</td>\n",
       "      <td>0</td>\n",
       "      <td>0</td>\n",
       "      <td>0</td>\n",
       "      <td>0</td>\n",
       "      <td>0</td>\n",
       "      <td>0</td>\n",
       "      <td>0</td>\n",
       "      <td>0</td>\n",
       "      <td>0</td>\n",
       "      <td>0</td>\n",
       "      <td>0</td>\n",
       "      <td>0</td>\n",
       "      <td>0</td>\n",
       "      <td>0</td>\n",
       "      <td>0</td>\n",
       "      <td>0</td>\n",
       "      <td>1</td>\n",
       "    </tr>\n",
       "    <tr>\n",
       "      <th>1</th>\n",
       "      <td>Air India</td>\n",
       "      <td>Kolkata</td>\n",
       "      <td>Banglore</td>\n",
       "      <td>2</td>\n",
       "      <td>7662</td>\n",
       "      <td>1</td>\n",
       "      <td>5</td>\n",
       "      <td>5</td>\n",
       "      <td>50</td>\n",
       "      <td>13</td>\n",
       "      <td>15</td>\n",
       "      <td>7</td>\n",
       "      <td>25</td>\n",
       "      <td>1</td>\n",
       "      <td>0</td>\n",
       "      <td>0</td>\n",
       "      <td>0</td>\n",
       "      <td>0</td>\n",
       "      <td>0</td>\n",
       "      <td>0</td>\n",
       "      <td>0</td>\n",
       "      <td>0</td>\n",
       "      <td>0</td>\n",
       "      <td>0</td>\n",
       "      <td>0</td>\n",
       "      <td>0</td>\n",
       "      <td>1</td>\n",
       "      <td>0</td>\n",
       "      <td>0</td>\n",
       "      <td>0</td>\n",
       "      <td>0</td>\n",
       "      <td>0</td>\n",
       "      <td>0</td>\n",
       "    </tr>\n",
       "    <tr>\n",
       "      <th>2</th>\n",
       "      <td>Jet Airways</td>\n",
       "      <td>Delhi</td>\n",
       "      <td>Cochin</td>\n",
       "      <td>2</td>\n",
       "      <td>13882</td>\n",
       "      <td>9</td>\n",
       "      <td>6</td>\n",
       "      <td>9</td>\n",
       "      <td>25</td>\n",
       "      <td>4</td>\n",
       "      <td>25</td>\n",
       "      <td>19</td>\n",
       "      <td>0</td>\n",
       "      <td>0</td>\n",
       "      <td>0</td>\n",
       "      <td>0</td>\n",
       "      <td>1</td>\n",
       "      <td>0</td>\n",
       "      <td>0</td>\n",
       "      <td>0</td>\n",
       "      <td>0</td>\n",
       "      <td>0</td>\n",
       "      <td>0</td>\n",
       "      <td>0</td>\n",
       "      <td>0</td>\n",
       "      <td>1</td>\n",
       "      <td>0</td>\n",
       "      <td>0</td>\n",
       "      <td>1</td>\n",
       "      <td>0</td>\n",
       "      <td>0</td>\n",
       "      <td>0</td>\n",
       "      <td>0</td>\n",
       "    </tr>\n",
       "    <tr>\n",
       "      <th>3</th>\n",
       "      <td>IndiGo</td>\n",
       "      <td>Kolkata</td>\n",
       "      <td>Banglore</td>\n",
       "      <td>1</td>\n",
       "      <td>6218</td>\n",
       "      <td>12</td>\n",
       "      <td>5</td>\n",
       "      <td>18</td>\n",
       "      <td>5</td>\n",
       "      <td>23</td>\n",
       "      <td>30</td>\n",
       "      <td>5</td>\n",
       "      <td>25</td>\n",
       "      <td>0</td>\n",
       "      <td>0</td>\n",
       "      <td>1</td>\n",
       "      <td>0</td>\n",
       "      <td>0</td>\n",
       "      <td>0</td>\n",
       "      <td>0</td>\n",
       "      <td>0</td>\n",
       "      <td>0</td>\n",
       "      <td>0</td>\n",
       "      <td>0</td>\n",
       "      <td>0</td>\n",
       "      <td>0</td>\n",
       "      <td>1</td>\n",
       "      <td>0</td>\n",
       "      <td>0</td>\n",
       "      <td>0</td>\n",
       "      <td>0</td>\n",
       "      <td>0</td>\n",
       "      <td>0</td>\n",
       "    </tr>\n",
       "    <tr>\n",
       "      <th>4</th>\n",
       "      <td>IndiGo</td>\n",
       "      <td>Banglore</td>\n",
       "      <td>New Delhi</td>\n",
       "      <td>1</td>\n",
       "      <td>13302</td>\n",
       "      <td>1</td>\n",
       "      <td>3</td>\n",
       "      <td>16</td>\n",
       "      <td>50</td>\n",
       "      <td>21</td>\n",
       "      <td>35</td>\n",
       "      <td>4</td>\n",
       "      <td>45</td>\n",
       "      <td>0</td>\n",
       "      <td>0</td>\n",
       "      <td>1</td>\n",
       "      <td>0</td>\n",
       "      <td>0</td>\n",
       "      <td>0</td>\n",
       "      <td>0</td>\n",
       "      <td>0</td>\n",
       "      <td>0</td>\n",
       "      <td>0</td>\n",
       "      <td>0</td>\n",
       "      <td>0</td>\n",
       "      <td>0</td>\n",
       "      <td>0</td>\n",
       "      <td>0</td>\n",
       "      <td>0</td>\n",
       "      <td>0</td>\n",
       "      <td>0</td>\n",
       "      <td>0</td>\n",
       "      <td>1</td>\n",
       "    </tr>\n",
       "  </tbody>\n",
       "</table>\n",
       "</div>"
      ],
      "text/plain": [
       "       Airline    Source Destination  Total_Stops  Price  Journey_Day  \\\n",
       "0       IndiGo  Banglore   New Delhi            0   3897           24   \n",
       "1    Air India   Kolkata    Banglore            2   7662            1   \n",
       "2  Jet Airways     Delhi      Cochin            2  13882            9   \n",
       "3       IndiGo   Kolkata    Banglore            1   6218           12   \n",
       "4       IndiGo  Banglore   New Delhi            1  13302            1   \n",
       "\n",
       "   Journey_Month  Dep_Hour  Dep_Min  Arival_Hour  Arival_Min  Duration_hours  \\\n",
       "0              3        22       20            1          10               2   \n",
       "1              5         5       50           13          15               7   \n",
       "2              6         9       25            4          25              19   \n",
       "3              5        18        5           23          30               5   \n",
       "4              3        16       50           21          35               4   \n",
       "\n",
       "   Duration_mins  Airline_Air India  Airline_GoAir  Airline_IndiGo  \\\n",
       "0             50                  0              0               1   \n",
       "1             25                  1              0               0   \n",
       "2              0                  0              0               0   \n",
       "3             25                  0              0               1   \n",
       "4             45                  0              0               1   \n",
       "\n",
       "   Airline_Jet Airways  Airline_Jet Airways Business  \\\n",
       "0                    0                             0   \n",
       "1                    0                             0   \n",
       "2                    1                             0   \n",
       "3                    0                             0   \n",
       "4                    0                             0   \n",
       "\n",
       "   Airline_Multiple carriers  Airline_Multiple carriers Premium economy  \\\n",
       "0                          0                                          0   \n",
       "1                          0                                          0   \n",
       "2                          0                                          0   \n",
       "3                          0                                          0   \n",
       "4                          0                                          0   \n",
       "\n",
       "   Airline_SpiceJet  Airline_Trujet  Airline_Vistara  \\\n",
       "0                 0               0                0   \n",
       "1                 0               0                0   \n",
       "2                 0               0                0   \n",
       "3                 0               0                0   \n",
       "4                 0               0                0   \n",
       "\n",
       "   Airline_Vistara Premium economy  Source_Chennai  Source_Delhi  \\\n",
       "0                                0               0             0   \n",
       "1                                0               0             0   \n",
       "2                                0               0             1   \n",
       "3                                0               0             0   \n",
       "4                                0               0             0   \n",
       "\n",
       "   Source_Kolkata  Source_Mumbai  Destination_Cochin  Destination_Delhi  \\\n",
       "0               0              0                   0                  0   \n",
       "1               1              0                   0                  0   \n",
       "2               0              0                   1                  0   \n",
       "3               1              0                   0                  0   \n",
       "4               0              0                   0                  0   \n",
       "\n",
       "   Destination_Hyderabad  Destination_Kolkata  Destination_New Delhi  \n",
       "0                      0                    0                      1  \n",
       "1                      0                    0                      0  \n",
       "2                      0                    0                      0  \n",
       "3                      0                    0                      0  \n",
       "4                      0                    0                      1  "
      ]
     },
     "execution_count": 50,
     "metadata": {},
     "output_type": "execute_result"
    }
   ],
   "source": [
    "data_train.head()"
   ]
  },
  {
   "cell_type": "code",
   "execution_count": 51,
   "metadata": {},
   "outputs": [],
   "source": [
    "# Lets drop the original features. \n",
    "data_train.drop(['Airline','Source','Destination'],axis=1,inplace=True)"
   ]
  },
  {
   "cell_type": "code",
   "execution_count": 52,
   "metadata": {
    "scrolled": false
   },
   "outputs": [
    {
     "data": {
      "text/html": [
       "<div>\n",
       "<style scoped>\n",
       "    .dataframe tbody tr th:only-of-type {\n",
       "        vertical-align: middle;\n",
       "    }\n",
       "\n",
       "    .dataframe tbody tr th {\n",
       "        vertical-align: top;\n",
       "    }\n",
       "\n",
       "    .dataframe thead th {\n",
       "        text-align: right;\n",
       "    }\n",
       "</style>\n",
       "<table border=\"1\" class=\"dataframe\">\n",
       "  <thead>\n",
       "    <tr style=\"text-align: right;\">\n",
       "      <th></th>\n",
       "      <th>Total_Stops</th>\n",
       "      <th>Price</th>\n",
       "      <th>Journey_Day</th>\n",
       "      <th>Journey_Month</th>\n",
       "      <th>Dep_Hour</th>\n",
       "      <th>Dep_Min</th>\n",
       "      <th>Arival_Hour</th>\n",
       "      <th>Arival_Min</th>\n",
       "      <th>Duration_hours</th>\n",
       "      <th>Duration_mins</th>\n",
       "      <th>Airline_Air India</th>\n",
       "      <th>Airline_GoAir</th>\n",
       "      <th>Airline_IndiGo</th>\n",
       "      <th>Airline_Jet Airways</th>\n",
       "      <th>Airline_Jet Airways Business</th>\n",
       "      <th>Airline_Multiple carriers</th>\n",
       "      <th>Airline_Multiple carriers Premium economy</th>\n",
       "      <th>Airline_SpiceJet</th>\n",
       "      <th>Airline_Trujet</th>\n",
       "      <th>Airline_Vistara</th>\n",
       "      <th>Airline_Vistara Premium economy</th>\n",
       "      <th>Source_Chennai</th>\n",
       "      <th>Source_Delhi</th>\n",
       "      <th>Source_Kolkata</th>\n",
       "      <th>Source_Mumbai</th>\n",
       "      <th>Destination_Cochin</th>\n",
       "      <th>Destination_Delhi</th>\n",
       "      <th>Destination_Hyderabad</th>\n",
       "      <th>Destination_Kolkata</th>\n",
       "      <th>Destination_New Delhi</th>\n",
       "    </tr>\n",
       "  </thead>\n",
       "  <tbody>\n",
       "    <tr>\n",
       "      <th>0</th>\n",
       "      <td>0</td>\n",
       "      <td>3897</td>\n",
       "      <td>24</td>\n",
       "      <td>3</td>\n",
       "      <td>22</td>\n",
       "      <td>20</td>\n",
       "      <td>1</td>\n",
       "      <td>10</td>\n",
       "      <td>2</td>\n",
       "      <td>50</td>\n",
       "      <td>0</td>\n",
       "      <td>0</td>\n",
       "      <td>1</td>\n",
       "      <td>0</td>\n",
       "      <td>0</td>\n",
       "      <td>0</td>\n",
       "      <td>0</td>\n",
       "      <td>0</td>\n",
       "      <td>0</td>\n",
       "      <td>0</td>\n",
       "      <td>0</td>\n",
       "      <td>0</td>\n",
       "      <td>0</td>\n",
       "      <td>0</td>\n",
       "      <td>0</td>\n",
       "      <td>0</td>\n",
       "      <td>0</td>\n",
       "      <td>0</td>\n",
       "      <td>0</td>\n",
       "      <td>1</td>\n",
       "    </tr>\n",
       "    <tr>\n",
       "      <th>1</th>\n",
       "      <td>2</td>\n",
       "      <td>7662</td>\n",
       "      <td>1</td>\n",
       "      <td>5</td>\n",
       "      <td>5</td>\n",
       "      <td>50</td>\n",
       "      <td>13</td>\n",
       "      <td>15</td>\n",
       "      <td>7</td>\n",
       "      <td>25</td>\n",
       "      <td>1</td>\n",
       "      <td>0</td>\n",
       "      <td>0</td>\n",
       "      <td>0</td>\n",
       "      <td>0</td>\n",
       "      <td>0</td>\n",
       "      <td>0</td>\n",
       "      <td>0</td>\n",
       "      <td>0</td>\n",
       "      <td>0</td>\n",
       "      <td>0</td>\n",
       "      <td>0</td>\n",
       "      <td>0</td>\n",
       "      <td>1</td>\n",
       "      <td>0</td>\n",
       "      <td>0</td>\n",
       "      <td>0</td>\n",
       "      <td>0</td>\n",
       "      <td>0</td>\n",
       "      <td>0</td>\n",
       "    </tr>\n",
       "    <tr>\n",
       "      <th>2</th>\n",
       "      <td>2</td>\n",
       "      <td>13882</td>\n",
       "      <td>9</td>\n",
       "      <td>6</td>\n",
       "      <td>9</td>\n",
       "      <td>25</td>\n",
       "      <td>4</td>\n",
       "      <td>25</td>\n",
       "      <td>19</td>\n",
       "      <td>0</td>\n",
       "      <td>0</td>\n",
       "      <td>0</td>\n",
       "      <td>0</td>\n",
       "      <td>1</td>\n",
       "      <td>0</td>\n",
       "      <td>0</td>\n",
       "      <td>0</td>\n",
       "      <td>0</td>\n",
       "      <td>0</td>\n",
       "      <td>0</td>\n",
       "      <td>0</td>\n",
       "      <td>0</td>\n",
       "      <td>1</td>\n",
       "      <td>0</td>\n",
       "      <td>0</td>\n",
       "      <td>1</td>\n",
       "      <td>0</td>\n",
       "      <td>0</td>\n",
       "      <td>0</td>\n",
       "      <td>0</td>\n",
       "    </tr>\n",
       "    <tr>\n",
       "      <th>3</th>\n",
       "      <td>1</td>\n",
       "      <td>6218</td>\n",
       "      <td>12</td>\n",
       "      <td>5</td>\n",
       "      <td>18</td>\n",
       "      <td>5</td>\n",
       "      <td>23</td>\n",
       "      <td>30</td>\n",
       "      <td>5</td>\n",
       "      <td>25</td>\n",
       "      <td>0</td>\n",
       "      <td>0</td>\n",
       "      <td>1</td>\n",
       "      <td>0</td>\n",
       "      <td>0</td>\n",
       "      <td>0</td>\n",
       "      <td>0</td>\n",
       "      <td>0</td>\n",
       "      <td>0</td>\n",
       "      <td>0</td>\n",
       "      <td>0</td>\n",
       "      <td>0</td>\n",
       "      <td>0</td>\n",
       "      <td>1</td>\n",
       "      <td>0</td>\n",
       "      <td>0</td>\n",
       "      <td>0</td>\n",
       "      <td>0</td>\n",
       "      <td>0</td>\n",
       "      <td>0</td>\n",
       "    </tr>\n",
       "    <tr>\n",
       "      <th>4</th>\n",
       "      <td>1</td>\n",
       "      <td>13302</td>\n",
       "      <td>1</td>\n",
       "      <td>3</td>\n",
       "      <td>16</td>\n",
       "      <td>50</td>\n",
       "      <td>21</td>\n",
       "      <td>35</td>\n",
       "      <td>4</td>\n",
       "      <td>45</td>\n",
       "      <td>0</td>\n",
       "      <td>0</td>\n",
       "      <td>1</td>\n",
       "      <td>0</td>\n",
       "      <td>0</td>\n",
       "      <td>0</td>\n",
       "      <td>0</td>\n",
       "      <td>0</td>\n",
       "      <td>0</td>\n",
       "      <td>0</td>\n",
       "      <td>0</td>\n",
       "      <td>0</td>\n",
       "      <td>0</td>\n",
       "      <td>0</td>\n",
       "      <td>0</td>\n",
       "      <td>0</td>\n",
       "      <td>0</td>\n",
       "      <td>0</td>\n",
       "      <td>0</td>\n",
       "      <td>1</td>\n",
       "    </tr>\n",
       "  </tbody>\n",
       "</table>\n",
       "</div>"
      ],
      "text/plain": [
       "   Total_Stops  Price  Journey_Day  Journey_Month  Dep_Hour  Dep_Min  \\\n",
       "0            0   3897           24              3        22       20   \n",
       "1            2   7662            1              5         5       50   \n",
       "2            2  13882            9              6         9       25   \n",
       "3            1   6218           12              5        18        5   \n",
       "4            1  13302            1              3        16       50   \n",
       "\n",
       "   Arival_Hour  Arival_Min  Duration_hours  Duration_mins  Airline_Air India  \\\n",
       "0            1          10               2             50                  0   \n",
       "1           13          15               7             25                  1   \n",
       "2            4          25              19              0                  0   \n",
       "3           23          30               5             25                  0   \n",
       "4           21          35               4             45                  0   \n",
       "\n",
       "   Airline_GoAir  Airline_IndiGo  Airline_Jet Airways  \\\n",
       "0              0               1                    0   \n",
       "1              0               0                    0   \n",
       "2              0               0                    1   \n",
       "3              0               1                    0   \n",
       "4              0               1                    0   \n",
       "\n",
       "   Airline_Jet Airways Business  Airline_Multiple carriers  \\\n",
       "0                             0                          0   \n",
       "1                             0                          0   \n",
       "2                             0                          0   \n",
       "3                             0                          0   \n",
       "4                             0                          0   \n",
       "\n",
       "   Airline_Multiple carriers Premium economy  Airline_SpiceJet  \\\n",
       "0                                          0                 0   \n",
       "1                                          0                 0   \n",
       "2                                          0                 0   \n",
       "3                                          0                 0   \n",
       "4                                          0                 0   \n",
       "\n",
       "   Airline_Trujet  Airline_Vistara  Airline_Vistara Premium economy  \\\n",
       "0               0                0                                0   \n",
       "1               0                0                                0   \n",
       "2               0                0                                0   \n",
       "3               0                0                                0   \n",
       "4               0                0                                0   \n",
       "\n",
       "   Source_Chennai  Source_Delhi  Source_Kolkata  Source_Mumbai  \\\n",
       "0               0             0               0              0   \n",
       "1               0             0               1              0   \n",
       "2               0             1               0              0   \n",
       "3               0             0               1              0   \n",
       "4               0             0               0              0   \n",
       "\n",
       "   Destination_Cochin  Destination_Delhi  Destination_Hyderabad  \\\n",
       "0                   0                  0                      0   \n",
       "1                   0                  0                      0   \n",
       "2                   1                  0                      0   \n",
       "3                   0                  0                      0   \n",
       "4                   0                  0                      0   \n",
       "\n",
       "   Destination_Kolkata  Destination_New Delhi  \n",
       "0                    0                      1  \n",
       "1                    0                      0  \n",
       "2                    0                      0  \n",
       "3                    0                      0  \n",
       "4                    0                      1  "
      ]
     },
     "execution_count": 52,
     "metadata": {},
     "output_type": "execute_result"
    }
   ],
   "source": [
    "data_train.head() #Now Our Training Data is ready. "
   ]
  },
  {
   "cell_type": "markdown",
   "metadata": {},
   "source": [
    "# Test Data Pre-Prosessing"
   ]
  },
  {
   "cell_type": "code",
   "execution_count": 53,
   "metadata": {},
   "outputs": [],
   "source": [
    "#Now in the same way, we have to perform Feature Engineering on Test data\n",
    "df2=pd.read_excel(r'datasets_140442_330428_Test_set.xlsx')"
   ]
  },
  {
   "cell_type": "code",
   "execution_count": 54,
   "metadata": {
    "scrolled": false
   },
   "outputs": [
    {
     "data": {
      "text/html": [
       "<div>\n",
       "<style scoped>\n",
       "    .dataframe tbody tr th:only-of-type {\n",
       "        vertical-align: middle;\n",
       "    }\n",
       "\n",
       "    .dataframe tbody tr th {\n",
       "        vertical-align: top;\n",
       "    }\n",
       "\n",
       "    .dataframe thead th {\n",
       "        text-align: right;\n",
       "    }\n",
       "</style>\n",
       "<table border=\"1\" class=\"dataframe\">\n",
       "  <thead>\n",
       "    <tr style=\"text-align: right;\">\n",
       "      <th></th>\n",
       "      <th>Airline</th>\n",
       "      <th>Date_of_Journey</th>\n",
       "      <th>Source</th>\n",
       "      <th>Destination</th>\n",
       "      <th>Route</th>\n",
       "      <th>Dep_Time</th>\n",
       "      <th>Arrival_Time</th>\n",
       "      <th>Duration</th>\n",
       "      <th>Total_Stops</th>\n",
       "      <th>Additional_Info</th>\n",
       "    </tr>\n",
       "  </thead>\n",
       "  <tbody>\n",
       "    <tr>\n",
       "      <th>0</th>\n",
       "      <td>Jet Airways</td>\n",
       "      <td>6/06/2019</td>\n",
       "      <td>Delhi</td>\n",
       "      <td>Cochin</td>\n",
       "      <td>DEL → BOM → COK</td>\n",
       "      <td>17:30</td>\n",
       "      <td>04:25 07 Jun</td>\n",
       "      <td>10h 55m</td>\n",
       "      <td>1 stop</td>\n",
       "      <td>No info</td>\n",
       "    </tr>\n",
       "    <tr>\n",
       "      <th>1</th>\n",
       "      <td>IndiGo</td>\n",
       "      <td>12/05/2019</td>\n",
       "      <td>Kolkata</td>\n",
       "      <td>Banglore</td>\n",
       "      <td>CCU → MAA → BLR</td>\n",
       "      <td>06:20</td>\n",
       "      <td>10:20</td>\n",
       "      <td>4h</td>\n",
       "      <td>1 stop</td>\n",
       "      <td>No info</td>\n",
       "    </tr>\n",
       "    <tr>\n",
       "      <th>2</th>\n",
       "      <td>Jet Airways</td>\n",
       "      <td>21/05/2019</td>\n",
       "      <td>Delhi</td>\n",
       "      <td>Cochin</td>\n",
       "      <td>DEL → BOM → COK</td>\n",
       "      <td>19:15</td>\n",
       "      <td>19:00 22 May</td>\n",
       "      <td>23h 45m</td>\n",
       "      <td>1 stop</td>\n",
       "      <td>In-flight meal not included</td>\n",
       "    </tr>\n",
       "    <tr>\n",
       "      <th>3</th>\n",
       "      <td>Multiple carriers</td>\n",
       "      <td>21/05/2019</td>\n",
       "      <td>Delhi</td>\n",
       "      <td>Cochin</td>\n",
       "      <td>DEL → BOM → COK</td>\n",
       "      <td>08:00</td>\n",
       "      <td>21:00</td>\n",
       "      <td>13h</td>\n",
       "      <td>1 stop</td>\n",
       "      <td>No info</td>\n",
       "    </tr>\n",
       "    <tr>\n",
       "      <th>4</th>\n",
       "      <td>Air Asia</td>\n",
       "      <td>24/06/2019</td>\n",
       "      <td>Banglore</td>\n",
       "      <td>Delhi</td>\n",
       "      <td>BLR → DEL</td>\n",
       "      <td>23:55</td>\n",
       "      <td>02:45 25 Jun</td>\n",
       "      <td>2h 50m</td>\n",
       "      <td>non-stop</td>\n",
       "      <td>No info</td>\n",
       "    </tr>\n",
       "  </tbody>\n",
       "</table>\n",
       "</div>"
      ],
      "text/plain": [
       "             Airline Date_of_Journey    Source Destination            Route  \\\n",
       "0        Jet Airways       6/06/2019     Delhi      Cochin  DEL → BOM → COK   \n",
       "1             IndiGo      12/05/2019   Kolkata    Banglore  CCU → MAA → BLR   \n",
       "2        Jet Airways      21/05/2019     Delhi      Cochin  DEL → BOM → COK   \n",
       "3  Multiple carriers      21/05/2019     Delhi      Cochin  DEL → BOM → COK   \n",
       "4           Air Asia      24/06/2019  Banglore       Delhi        BLR → DEL   \n",
       "\n",
       "  Dep_Time  Arrival_Time Duration Total_Stops              Additional_Info  \n",
       "0    17:30  04:25 07 Jun  10h 55m      1 stop                      No info  \n",
       "1    06:20         10:20       4h      1 stop                      No info  \n",
       "2    19:15  19:00 22 May  23h 45m      1 stop  In-flight meal not included  \n",
       "3    08:00         21:00      13h      1 stop                      No info  \n",
       "4    23:55  02:45 25 Jun   2h 50m    non-stop                      No info  "
      ]
     },
     "execution_count": 54,
     "metadata": {},
     "output_type": "execute_result"
    }
   ],
   "source": [
    "df2.head()"
   ]
  },
  {
   "cell_type": "code",
   "execution_count": 55,
   "metadata": {},
   "outputs": [
    {
     "name": "stdout",
     "output_type": "stream",
     "text": [
      "Dataset Shape: (2671, 10)\n"
     ]
    },
    {
     "data": {
      "text/html": [
       "<div>\n",
       "<style scoped>\n",
       "    .dataframe tbody tr th:only-of-type {\n",
       "        vertical-align: middle;\n",
       "    }\n",
       "\n",
       "    .dataframe tbody tr th {\n",
       "        vertical-align: top;\n",
       "    }\n",
       "\n",
       "    .dataframe thead th {\n",
       "        text-align: right;\n",
       "    }\n",
       "</style>\n",
       "<table border=\"1\" class=\"dataframe\">\n",
       "  <thead>\n",
       "    <tr style=\"text-align: right;\">\n",
       "      <th></th>\n",
       "      <th>Name</th>\n",
       "      <th>dtypes</th>\n",
       "      <th>Missing Values</th>\n",
       "      <th>Uniques Values</th>\n",
       "    </tr>\n",
       "  </thead>\n",
       "  <tbody>\n",
       "    <tr>\n",
       "      <th>0</th>\n",
       "      <td>Airline</td>\n",
       "      <td>object</td>\n",
       "      <td>0</td>\n",
       "      <td>11</td>\n",
       "    </tr>\n",
       "    <tr>\n",
       "      <th>1</th>\n",
       "      <td>Date_of_Journey</td>\n",
       "      <td>object</td>\n",
       "      <td>0</td>\n",
       "      <td>44</td>\n",
       "    </tr>\n",
       "    <tr>\n",
       "      <th>2</th>\n",
       "      <td>Source</td>\n",
       "      <td>object</td>\n",
       "      <td>0</td>\n",
       "      <td>5</td>\n",
       "    </tr>\n",
       "    <tr>\n",
       "      <th>3</th>\n",
       "      <td>Destination</td>\n",
       "      <td>object</td>\n",
       "      <td>0</td>\n",
       "      <td>6</td>\n",
       "    </tr>\n",
       "    <tr>\n",
       "      <th>4</th>\n",
       "      <td>Route</td>\n",
       "      <td>object</td>\n",
       "      <td>0</td>\n",
       "      <td>100</td>\n",
       "    </tr>\n",
       "    <tr>\n",
       "      <th>5</th>\n",
       "      <td>Dep_Time</td>\n",
       "      <td>object</td>\n",
       "      <td>0</td>\n",
       "      <td>199</td>\n",
       "    </tr>\n",
       "    <tr>\n",
       "      <th>6</th>\n",
       "      <td>Arrival_Time</td>\n",
       "      <td>object</td>\n",
       "      <td>0</td>\n",
       "      <td>704</td>\n",
       "    </tr>\n",
       "    <tr>\n",
       "      <th>7</th>\n",
       "      <td>Duration</td>\n",
       "      <td>object</td>\n",
       "      <td>0</td>\n",
       "      <td>320</td>\n",
       "    </tr>\n",
       "    <tr>\n",
       "      <th>8</th>\n",
       "      <td>Total_Stops</td>\n",
       "      <td>object</td>\n",
       "      <td>0</td>\n",
       "      <td>5</td>\n",
       "    </tr>\n",
       "    <tr>\n",
       "      <th>9</th>\n",
       "      <td>Additional_Info</td>\n",
       "      <td>object</td>\n",
       "      <td>0</td>\n",
       "      <td>6</td>\n",
       "    </tr>\n",
       "  </tbody>\n",
       "</table>\n",
       "</div>"
      ],
      "text/plain": [
       "              Name  dtypes  Missing Values  Uniques Values\n",
       "0          Airline  object               0              11\n",
       "1  Date_of_Journey  object               0              44\n",
       "2           Source  object               0               5\n",
       "3      Destination  object               0               6\n",
       "4            Route  object               0             100\n",
       "5         Dep_Time  object               0             199\n",
       "6     Arrival_Time  object               0             704\n",
       "7         Duration  object               0             320\n",
       "8      Total_Stops  object               0               5\n",
       "9  Additional_Info  object               0               6"
      ]
     },
     "execution_count": 55,
     "metadata": {},
     "output_type": "execute_result"
    }
   ],
   "source": [
    "summary_table(df2)\n",
    "\n",
    "#There are no missing values in test data"
   ]
  },
  {
   "cell_type": "code",
   "execution_count": 56,
   "metadata": {},
   "outputs": [],
   "source": [
    "# Feature Enginnering\n",
    "\n",
    "# Date_of_Journey\n",
    "df2[\"Journey_Day\"] = pd.to_datetime(df2.Date_of_Journey, format=\"%d/%m/%Y\").dt.day\n",
    "df2[\"Journey_Month\"] = pd.to_datetime(df2[\"Date_of_Journey\"], format = \"%d/%m/%Y\").dt.month\n",
    "df2.drop([\"Date_of_Journey\"], axis = 1, inplace = True)\n",
    "\n",
    "# Dep_Time\n",
    "df2[\"Dep_Hour\"] = pd.to_datetime(df2[\"Dep_Time\"]).dt.hour\n",
    "df2[\"Dep_Min\"] = pd.to_datetime(df2[\"Dep_Time\"]).dt.minute\n",
    "df2.drop([\"Dep_Time\"], axis = 1, inplace = True)\n",
    "\n",
    "# Arrival_Time\n",
    "df2[\"Arrival_Hour\"] = pd.to_datetime(df2.Arrival_Time).dt.hour\n",
    "df2[\"Arrival_Min\"] = pd.to_datetime(df2.Arrival_Time).dt.minute\n",
    "df2.drop([\"Arrival_Time\"], axis = 1, inplace = True)"
   ]
  },
  {
   "cell_type": "code",
   "execution_count": 57,
   "metadata": {},
   "outputs": [],
   "source": [
    "# Duration\n",
    "duration = list(df2[\"Duration\"])\n",
    "\n",
    "for i in range(len(duration)):\n",
    "    if len(duration[i].split()) != 2:    # Check if duration contains only hour or mins\n",
    "        if \"h\" in duration[i]:\n",
    "            duration[i] = duration[i].strip() + \" 0m\"   # Adds 0 minute\n",
    "        else:\n",
    "            duration[i] = \"0h \" + duration[i]           # Adds 0 hour\n",
    "\n",
    "duration_hours = []\n",
    "duration_mins = []\n",
    "for i in range(len(duration)):\n",
    "    duration_hours.append(int(duration[i].split(sep = \"h\")[0]))    # Extract hours from duration\n",
    "    duration_mins.append(int(duration[i].split(sep = \"m\")[0].split()[-1]))   # Extracts only minutes from duration\n",
    "\n",
    "# Adding Duration column to test set\n",
    "df2[\"Duration_hours\"] = duration_hours\n",
    "df2[\"Duration_mins\"] = duration_mins\n",
    "df2.drop([\"Duration\"], axis = 1, inplace = True)"
   ]
  },
  {
   "cell_type": "code",
   "execution_count": 58,
   "metadata": {},
   "outputs": [],
   "source": [
    "# Additional_Info contains almost 80% no_info\n",
    "# Route and Total_Stops are related to each other\n",
    "df2.drop([\"Route\", \"Additional_Info\"], axis = 1, inplace = True)"
   ]
  },
  {
   "cell_type": "code",
   "execution_count": 59,
   "metadata": {
    "scrolled": false
   },
   "outputs": [
    {
     "name": "stdout",
     "output_type": "stream",
     "text": [
      "Airline\n",
      "---------------------------------------------------------------------------\n",
      "Jet Airways                          897\n",
      "IndiGo                               511\n",
      "Air India                            440\n",
      "Multiple carriers                    347\n",
      "SpiceJet                             208\n",
      "Vistara                              129\n",
      "Air Asia                              86\n",
      "GoAir                                 46\n",
      "Multiple carriers Premium economy      3\n",
      "Vistara Premium economy                2\n",
      "Jet Airways Business                   2\n",
      "Name: Airline, dtype: int64\n",
      "\n",
      "Source\n",
      "---------------------------------------------------------------------------\n",
      "Delhi       1145\n",
      "Kolkata      710\n",
      "Banglore     555\n",
      "Mumbai       186\n",
      "Chennai       75\n",
      "Name: Source, dtype: int64\n",
      "\n",
      "Destination\n",
      "---------------------------------------------------------------------------\n",
      "Cochin       1145\n",
      "Banglore      710\n",
      "Delhi         317\n",
      "New Delhi     238\n",
      "Hyderabad     186\n",
      "Kolkata        75\n",
      "Name: Destination, dtype: int64\n",
      "\n",
      "\n",
      "Shape of test data :  (2671, 28)\n"
     ]
    }
   ],
   "source": [
    "# Categorical data\n",
    "\n",
    "print(\"Airline\")\n",
    "print(\"-\"*75)\n",
    "print(df2[\"Airline\"].value_counts())\n",
    "Airline = pd.get_dummies(df2[[\"Airline\"]], drop_first= True)\n",
    "\n",
    "print()\n",
    "\n",
    "print(\"Source\")\n",
    "print(\"-\"*75)\n",
    "print(df2[\"Source\"].value_counts())\n",
    "Source = pd.get_dummies(df2[[\"Source\"]], drop_first= True)\n",
    "\n",
    "print()\n",
    "\n",
    "print(\"Destination\")\n",
    "print(\"-\"*75)\n",
    "print(df2[\"Destination\"].value_counts())\n",
    "Destination = pd.get_dummies(df2[[\"Destination\"]], drop_first = True)\n",
    "\n",
    "# Replacing Total_Stops\n",
    "df2.replace({\"non-stop\": 0, \"1 stop\": 1, \"2 stops\": 2, \"3 stops\": 3, \"4 stops\": 4}, inplace = True)\n",
    "\n",
    "# Concatenate dataframe --> df2 + Airline + Source + Destination\n",
    "data_test = pd.concat([df2, Airline, Source, Destination], axis = 1)\n",
    "\n",
    "data_test.drop([\"Airline\", \"Source\", \"Destination\"], axis = 1, inplace = True)\n",
    "\n",
    "print()\n",
    "print()\n",
    "\n",
    "print(\"Shape of test data : \", data_test.shape)"
   ]
  },
  {
   "cell_type": "code",
   "execution_count": 60,
   "metadata": {
    "scrolled": true
   },
   "outputs": [
    {
     "data": {
      "text/html": [
       "<div>\n",
       "<style scoped>\n",
       "    .dataframe tbody tr th:only-of-type {\n",
       "        vertical-align: middle;\n",
       "    }\n",
       "\n",
       "    .dataframe tbody tr th {\n",
       "        vertical-align: top;\n",
       "    }\n",
       "\n",
       "    .dataframe thead th {\n",
       "        text-align: right;\n",
       "    }\n",
       "</style>\n",
       "<table border=\"1\" class=\"dataframe\">\n",
       "  <thead>\n",
       "    <tr style=\"text-align: right;\">\n",
       "      <th></th>\n",
       "      <th>Total_Stops</th>\n",
       "      <th>Journey_Day</th>\n",
       "      <th>Journey_Month</th>\n",
       "      <th>Dep_Hour</th>\n",
       "      <th>Dep_Min</th>\n",
       "      <th>Arrival_Hour</th>\n",
       "      <th>Arrival_Min</th>\n",
       "      <th>Duration_hours</th>\n",
       "      <th>Duration_mins</th>\n",
       "      <th>Airline_Air India</th>\n",
       "      <th>Airline_GoAir</th>\n",
       "      <th>Airline_IndiGo</th>\n",
       "      <th>Airline_Jet Airways</th>\n",
       "      <th>Airline_Jet Airways Business</th>\n",
       "      <th>Airline_Multiple carriers</th>\n",
       "      <th>Airline_Multiple carriers Premium economy</th>\n",
       "      <th>Airline_SpiceJet</th>\n",
       "      <th>Airline_Vistara</th>\n",
       "      <th>Airline_Vistara Premium economy</th>\n",
       "      <th>Source_Chennai</th>\n",
       "      <th>Source_Delhi</th>\n",
       "      <th>Source_Kolkata</th>\n",
       "      <th>Source_Mumbai</th>\n",
       "      <th>Destination_Cochin</th>\n",
       "      <th>Destination_Delhi</th>\n",
       "      <th>Destination_Hyderabad</th>\n",
       "      <th>Destination_Kolkata</th>\n",
       "      <th>Destination_New Delhi</th>\n",
       "    </tr>\n",
       "  </thead>\n",
       "  <tbody>\n",
       "    <tr>\n",
       "      <th>0</th>\n",
       "      <td>1</td>\n",
       "      <td>6</td>\n",
       "      <td>6</td>\n",
       "      <td>17</td>\n",
       "      <td>30</td>\n",
       "      <td>4</td>\n",
       "      <td>25</td>\n",
       "      <td>10</td>\n",
       "      <td>55</td>\n",
       "      <td>0</td>\n",
       "      <td>0</td>\n",
       "      <td>0</td>\n",
       "      <td>1</td>\n",
       "      <td>0</td>\n",
       "      <td>0</td>\n",
       "      <td>0</td>\n",
       "      <td>0</td>\n",
       "      <td>0</td>\n",
       "      <td>0</td>\n",
       "      <td>0</td>\n",
       "      <td>1</td>\n",
       "      <td>0</td>\n",
       "      <td>0</td>\n",
       "      <td>1</td>\n",
       "      <td>0</td>\n",
       "      <td>0</td>\n",
       "      <td>0</td>\n",
       "      <td>0</td>\n",
       "    </tr>\n",
       "    <tr>\n",
       "      <th>1</th>\n",
       "      <td>1</td>\n",
       "      <td>12</td>\n",
       "      <td>5</td>\n",
       "      <td>6</td>\n",
       "      <td>20</td>\n",
       "      <td>10</td>\n",
       "      <td>20</td>\n",
       "      <td>4</td>\n",
       "      <td>0</td>\n",
       "      <td>0</td>\n",
       "      <td>0</td>\n",
       "      <td>1</td>\n",
       "      <td>0</td>\n",
       "      <td>0</td>\n",
       "      <td>0</td>\n",
       "      <td>0</td>\n",
       "      <td>0</td>\n",
       "      <td>0</td>\n",
       "      <td>0</td>\n",
       "      <td>0</td>\n",
       "      <td>0</td>\n",
       "      <td>1</td>\n",
       "      <td>0</td>\n",
       "      <td>0</td>\n",
       "      <td>0</td>\n",
       "      <td>0</td>\n",
       "      <td>0</td>\n",
       "      <td>0</td>\n",
       "    </tr>\n",
       "    <tr>\n",
       "      <th>2</th>\n",
       "      <td>1</td>\n",
       "      <td>21</td>\n",
       "      <td>5</td>\n",
       "      <td>19</td>\n",
       "      <td>15</td>\n",
       "      <td>19</td>\n",
       "      <td>0</td>\n",
       "      <td>23</td>\n",
       "      <td>45</td>\n",
       "      <td>0</td>\n",
       "      <td>0</td>\n",
       "      <td>0</td>\n",
       "      <td>1</td>\n",
       "      <td>0</td>\n",
       "      <td>0</td>\n",
       "      <td>0</td>\n",
       "      <td>0</td>\n",
       "      <td>0</td>\n",
       "      <td>0</td>\n",
       "      <td>0</td>\n",
       "      <td>1</td>\n",
       "      <td>0</td>\n",
       "      <td>0</td>\n",
       "      <td>1</td>\n",
       "      <td>0</td>\n",
       "      <td>0</td>\n",
       "      <td>0</td>\n",
       "      <td>0</td>\n",
       "    </tr>\n",
       "    <tr>\n",
       "      <th>3</th>\n",
       "      <td>1</td>\n",
       "      <td>21</td>\n",
       "      <td>5</td>\n",
       "      <td>8</td>\n",
       "      <td>0</td>\n",
       "      <td>21</td>\n",
       "      <td>0</td>\n",
       "      <td>13</td>\n",
       "      <td>0</td>\n",
       "      <td>0</td>\n",
       "      <td>0</td>\n",
       "      <td>0</td>\n",
       "      <td>0</td>\n",
       "      <td>0</td>\n",
       "      <td>1</td>\n",
       "      <td>0</td>\n",
       "      <td>0</td>\n",
       "      <td>0</td>\n",
       "      <td>0</td>\n",
       "      <td>0</td>\n",
       "      <td>1</td>\n",
       "      <td>0</td>\n",
       "      <td>0</td>\n",
       "      <td>1</td>\n",
       "      <td>0</td>\n",
       "      <td>0</td>\n",
       "      <td>0</td>\n",
       "      <td>0</td>\n",
       "    </tr>\n",
       "    <tr>\n",
       "      <th>4</th>\n",
       "      <td>0</td>\n",
       "      <td>24</td>\n",
       "      <td>6</td>\n",
       "      <td>23</td>\n",
       "      <td>55</td>\n",
       "      <td>2</td>\n",
       "      <td>45</td>\n",
       "      <td>2</td>\n",
       "      <td>50</td>\n",
       "      <td>0</td>\n",
       "      <td>0</td>\n",
       "      <td>0</td>\n",
       "      <td>0</td>\n",
       "      <td>0</td>\n",
       "      <td>0</td>\n",
       "      <td>0</td>\n",
       "      <td>0</td>\n",
       "      <td>0</td>\n",
       "      <td>0</td>\n",
       "      <td>0</td>\n",
       "      <td>0</td>\n",
       "      <td>0</td>\n",
       "      <td>0</td>\n",
       "      <td>0</td>\n",
       "      <td>1</td>\n",
       "      <td>0</td>\n",
       "      <td>0</td>\n",
       "      <td>0</td>\n",
       "    </tr>\n",
       "  </tbody>\n",
       "</table>\n",
       "</div>"
      ],
      "text/plain": [
       "   Total_Stops  Journey_Day  Journey_Month  Dep_Hour  Dep_Min  Arrival_Hour  \\\n",
       "0            1            6              6        17       30             4   \n",
       "1            1           12              5         6       20            10   \n",
       "2            1           21              5        19       15            19   \n",
       "3            1           21              5         8        0            21   \n",
       "4            0           24              6        23       55             2   \n",
       "\n",
       "   Arrival_Min  Duration_hours  Duration_mins  Airline_Air India  \\\n",
       "0           25              10             55                  0   \n",
       "1           20               4              0                  0   \n",
       "2            0              23             45                  0   \n",
       "3            0              13              0                  0   \n",
       "4           45               2             50                  0   \n",
       "\n",
       "   Airline_GoAir  Airline_IndiGo  Airline_Jet Airways  \\\n",
       "0              0               0                    1   \n",
       "1              0               1                    0   \n",
       "2              0               0                    1   \n",
       "3              0               0                    0   \n",
       "4              0               0                    0   \n",
       "\n",
       "   Airline_Jet Airways Business  Airline_Multiple carriers  \\\n",
       "0                             0                          0   \n",
       "1                             0                          0   \n",
       "2                             0                          0   \n",
       "3                             0                          1   \n",
       "4                             0                          0   \n",
       "\n",
       "   Airline_Multiple carriers Premium economy  Airline_SpiceJet  \\\n",
       "0                                          0                 0   \n",
       "1                                          0                 0   \n",
       "2                                          0                 0   \n",
       "3                                          0                 0   \n",
       "4                                          0                 0   \n",
       "\n",
       "   Airline_Vistara  Airline_Vistara Premium economy  Source_Chennai  \\\n",
       "0                0                                0               0   \n",
       "1                0                                0               0   \n",
       "2                0                                0               0   \n",
       "3                0                                0               0   \n",
       "4                0                                0               0   \n",
       "\n",
       "   Source_Delhi  Source_Kolkata  Source_Mumbai  Destination_Cochin  \\\n",
       "0             1               0              0                   1   \n",
       "1             0               1              0                   0   \n",
       "2             1               0              0                   1   \n",
       "3             1               0              0                   1   \n",
       "4             0               0              0                   0   \n",
       "\n",
       "   Destination_Delhi  Destination_Hyderabad  Destination_Kolkata  \\\n",
       "0                  0                      0                    0   \n",
       "1                  0                      0                    0   \n",
       "2                  0                      0                    0   \n",
       "3                  0                      0                    0   \n",
       "4                  1                      0                    0   \n",
       "\n",
       "   Destination_New Delhi  \n",
       "0                      0  \n",
       "1                      0  \n",
       "2                      0  \n",
       "3                      0  \n",
       "4                      0  "
      ]
     },
     "execution_count": 60,
     "metadata": {},
     "output_type": "execute_result"
    }
   ],
   "source": [
    "data_test.head()"
   ]
  },
  {
   "cell_type": "markdown",
   "metadata": {},
   "source": [
    "# Model Building \n",
    "\n",
    "Random Forest"
   ]
  },
  {
   "cell_type": "code",
   "execution_count": 61,
   "metadata": {},
   "outputs": [],
   "source": [
    "#Lets import Random Forest \n",
    "from sklearn.ensemble import RandomForestRegressor\n",
    "rf=RandomForestRegressor()"
   ]
  },
  {
   "cell_type": "code",
   "execution_count": 62,
   "metadata": {},
   "outputs": [],
   "source": [
    "#Lets define X and Y\n",
    "x=data_train.drop(\"Price\",axis=1)\n",
    "y=data_train[\"Price\"]"
   ]
  },
  {
   "cell_type": "code",
   "execution_count": 63,
   "metadata": {},
   "outputs": [
    {
     "data": {
      "text/plain": [
       "(10682, 29)"
      ]
     },
     "execution_count": 63,
     "metadata": {},
     "output_type": "execute_result"
    }
   ],
   "source": [
    "x.shape"
   ]
  },
  {
   "cell_type": "code",
   "execution_count": 64,
   "metadata": {},
   "outputs": [],
   "source": [
    "#Splitting the data into training and testing \n",
    "from sklearn.model_selection import train_test_split\n",
    "x_train,x_test,y_train,y_test=train_test_split (x,y,test_size=0.3,random_state=100)"
   ]
  },
  {
   "cell_type": "code",
   "execution_count": 65,
   "metadata": {},
   "outputs": [
    {
     "data": {
      "text/plain": [
       "(7477, 29)"
      ]
     },
     "execution_count": 65,
     "metadata": {},
     "output_type": "execute_result"
    }
   ],
   "source": [
    "x_train.shape"
   ]
  },
  {
   "cell_type": "code",
   "execution_count": 66,
   "metadata": {
    "scrolled": true
   },
   "outputs": [
    {
     "data": {
      "text/plain": [
       "(3205, 29)"
      ]
     },
     "execution_count": 66,
     "metadata": {},
     "output_type": "execute_result"
    }
   ],
   "source": [
    "x_test.shape"
   ]
  },
  {
   "cell_type": "code",
   "execution_count": 67,
   "metadata": {
    "scrolled": true
   },
   "outputs": [
    {
     "data": {
      "text/plain": [
       "RandomForestRegressor(bootstrap=True, ccp_alpha=0.0, criterion='mse',\n",
       "                      max_depth=None, max_features='auto', max_leaf_nodes=None,\n",
       "                      max_samples=None, min_impurity_decrease=0.0,\n",
       "                      min_impurity_split=None, min_samples_leaf=1,\n",
       "                      min_samples_split=2, min_weight_fraction_leaf=0.0,\n",
       "                      n_estimators=100, n_jobs=None, oob_score=False,\n",
       "                      random_state=None, verbose=0, warm_start=False)"
      ]
     },
     "execution_count": 67,
     "metadata": {},
     "output_type": "execute_result"
    }
   ],
   "source": [
    "#Lets fit the data to model \n",
    "rf.fit(x_train,y_train)"
   ]
  },
  {
   "cell_type": "code",
   "execution_count": 68,
   "metadata": {},
   "outputs": [],
   "source": [
    "#Predictions\n",
    "pred=rf.predict(x_test)"
   ]
  },
  {
   "cell_type": "code",
   "execution_count": 69,
   "metadata": {
    "scrolled": true
   },
   "outputs": [
    {
     "data": {
      "text/plain": [
       "0.9566668592749614"
      ]
     },
     "execution_count": 69,
     "metadata": {},
     "output_type": "execute_result"
    }
   ],
   "source": [
    "#Score On training Data\n",
    "rf.score(x_train,y_train)"
   ]
  },
  {
   "cell_type": "code",
   "execution_count": 70,
   "metadata": {},
   "outputs": [
    {
     "data": {
      "text/plain": [
       "0.8171960883816589"
      ]
     },
     "execution_count": 70,
     "metadata": {},
     "output_type": "execute_result"
    }
   ],
   "source": [
    "#Score On testing Data\n",
    "rf.score(x_test,y_test)"
   ]
  },
  {
   "cell_type": "code",
   "execution_count": 71,
   "metadata": {},
   "outputs": [],
   "source": [
    "#Evalutation metrics\n",
    "from sklearn.metrics import mean_squared_error,r2_score,mean_absolute_error"
   ]
  },
  {
   "cell_type": "code",
   "execution_count": 72,
   "metadata": {},
   "outputs": [],
   "source": [
    "#Error calculation\n",
    "RMSE = np.sqrt(mean_squared_error(y_test, pred))\n",
    "MAE = mean_absolute_error(y_test, pred)\n",
    "r_squre= r2_score(y_test, pred)"
   ]
  },
  {
   "cell_type": "code",
   "execution_count": 73,
   "metadata": {
    "scrolled": true
   },
   "outputs": [
    {
     "name": "stdout",
     "output_type": "stream",
     "text": [
      "RMSE : 1956.5298520413778\n",
      "MAE: 1199.667624273499\n",
      "r_square: 0.8171960883816589\n"
     ]
    }
   ],
   "source": [
    "print('RMSE :',RMSE) \n",
    "print('MAE:', MAE)\n",
    "print(\"r_square:\",r_squre)"
   ]
  },
  {
   "cell_type": "code",
   "execution_count": 74,
   "metadata": {
    "scrolled": false
   },
   "outputs": [
    {
     "name": "stdout",
     "output_type": "stream",
     "text": [
      "('Total_Stops', 0.03316555385854683)\n",
      "('Journey_Day', 0.1496399124685614)\n",
      "('Journey_Month', 0.051039286158818205)\n",
      "('Dep_Hour', 0.029368282835869175)\n",
      "('Dep_Min', 0.02298798056370256)\n",
      "('Arival_Hour', 0.03715203348616598)\n",
      "('Arival_Min', 0.019135691430298325)\n",
      "('Duration_hours', 0.4339664813385926)\n",
      "('Duration_mins', 0.01946443594427015)\n",
      "('Airline_Air India', 0.005344651305005962)\n",
      "('Airline_GoAir', 0.0017486984136150861)\n",
      "('Airline_IndiGo', 0.005983396369187898)\n",
      "('Airline_Jet Airways', 0.06543862535240914)\n",
      "('Airline_Jet Airways Business', 0.0530008341684036)\n",
      "('Airline_Multiple carriers', 0.019327255001482024)\n",
      "('Airline_Multiple carriers Premium economy', 0.0006522803718696957)\n",
      "('Airline_SpiceJet', 0.002485282678849217)\n",
      "('Airline_Trujet', 4.988172561171287e-06)\n",
      "('Airline_Vistara', 0.0030873189151704276)\n",
      "('Airline_Vistara Premium economy', 2.7628635154082887e-05)\n",
      "('Source_Chennai', 0.0006193234004608458)\n",
      "('Source_Delhi', 0.002368470103773385)\n",
      "('Source_Kolkata', 0.0029472352478143913)\n",
      "('Source_Mumbai', 0.0046141042935857095)\n",
      "('Destination_Cochin', 0.002546343869892257)\n",
      "('Destination_Delhi', 0.00019272090418247727)\n",
      "('Destination_Hyderabad', 0.003958633017977777)\n",
      "('Destination_Kolkata', 0.0006536777208361276)\n",
      "('Destination_New Delhi', 0.02907887397294339)\n"
     ]
    }
   ],
   "source": [
    "#Lets Check the Feaure Importance \n",
    "importances=rf.feature_importances_\n",
    "\n",
    "for feature in zip (x.columns, importances):\n",
    "    print (feature)"
   ]
  },
  {
   "cell_type": "code",
   "execution_count": 75,
   "metadata": {
    "scrolled": false
   },
   "outputs": [
    {
     "data": {
      "image/png": "[encoded data removed]",
      "text/plain": [
       "<Figure size 864x432 with 1 Axes>"
      ]
     },
     "metadata": {
      "needs_background": "light"
     },
     "output_type": "display_data"
    }
   ],
   "source": [
    "# Sort feature importances in descending order\n",
    "indices = np.argsort(importances)[::-1]\n",
    "\n",
    "# Rearrange feature names so they match the sorted feature importances\n",
    "names = [x.columns[i] for i in indices]\n",
    "\n",
    "# Create plot\n",
    "plt.figure(figsize=(12,6))\n",
    "\n",
    "# Create plot title\n",
    "plt.title(\"Feature Importance\")\n",
    "\n",
    "# Add bars\n",
    "plt.bar(range(x.shape[1]), importances[indices])\n",
    "\n",
    "# Add feature names as x-axis labels\n",
    "plt.xticks(range(x.shape[1]), names, rotation=90)\n",
    "\n",
    "# Show plot\n",
    "plt.show()"
   ]
  },
  {
   "cell_type": "code",
   "execution_count": 76,
   "metadata": {},
   "outputs": [
    {
     "data": {
      "image/png": "[encoded data removed]",
      "text/plain": [
       "<Figure size 432x288 with 1 Axes>"
      ]
     },
     "metadata": {
      "needs_background": "light"
     },
     "output_type": "display_data"
    }
   ],
   "source": [
    "#From Feature importance gharph, Duration hours is the most significant feature. Lets see the relation with Price\n",
    "#Lets plot a scatter for Actual Vs Predicted\n",
    "plt.scatter(data_train.Duration_hours, data_train.Price, alpha = 0.5)\n",
    "plt.xlabel(\"Duration_hours\")\n",
    "plt.ylabel(\"Price\")\n",
    "plt.show()"
   ]
  },
  {
   "cell_type": "code",
   "execution_count": 77,
   "metadata": {},
   "outputs": [
    {
     "data": {
      "image/png": "[encoded data removed]",
      "text/plain": [
       "<Figure size 432x288 with 1 Axes>"
      ]
     },
     "metadata": {
      "needs_background": "light"
     },
     "output_type": "display_data"
    }
   ],
   "source": [
    "#Lets plot the error destribustion\n",
    "sns.distplot(y_test-pred)\n",
    "plt.show()"
   ]
  },
  {
   "cell_type": "code",
   "execution_count": 78,
   "metadata": {},
   "outputs": [
    {
     "data": {
      "image/png": "[encoded data removed]",
      "text/plain": [
       "<Figure size 432x288 with 1 Axes>"
      ]
     },
     "metadata": {
      "needs_background": "light"
     },
     "output_type": "display_data"
    }
   ],
   "source": [
    "#Lets plot a scatter for Actual Vs Predicted\n",
    "plt.scatter(y_test, pred, alpha = 0.5)\n",
    "plt.xlabel(\"y_test\")\n",
    "plt.ylabel(\"pred\")\n",
    "plt.show()"
   ]
  },
  {
   "cell_type": "markdown",
   "metadata": {},
   "source": [
    "# Hyperparameter Tuning"
   ]
  },
  {
   "cell_type": "code",
   "execution_count": 79,
   "metadata": {},
   "outputs": [],
   "source": [
    "# We are going to use RandomizedsearchCV\n",
    "from sklearn.model_selection import RandomizedSearchCV"
   ]
  },
  {
   "cell_type": "code",
   "execution_count": 80,
   "metadata": {},
   "outputs": [],
   "source": [
    "# Number of trees in random forest\n",
    "n_estimators = [int(x) for x in np.linspace(start = 100, stop = 1200, num = 12)]\n",
    "# Number of features to consider at every split\n",
    "max_features = ['auto', 'sqrt']\n",
    "# Maximum number of levels in tree\n",
    "max_depth = [int(x) for x in np.linspace(5, 30, num = 6)]\n",
    "# Minimum number of samples required to split a node\n",
    "min_samples_split = [2, 5, 10, 15, 100]\n",
    "# Minimum number of samples required at each leaf node\n",
    "min_samples_leaf = [1, 2, 5, 10]"
   ]
  },
  {
   "cell_type": "code",
   "execution_count": 81,
   "metadata": {},
   "outputs": [],
   "source": [
    "# Create the random grid\n",
    "\n",
    "random_grid = {'n_estimators': n_estimators,\n",
    "               'max_features': max_features,\n",
    "               'max_depth': max_depth,\n",
    "               'min_samples_split': min_samples_split,\n",
    "               'min_samples_leaf': min_samples_leaf}"
   ]
  },
  {
   "cell_type": "code",
   "execution_count": 82,
   "metadata": {},
   "outputs": [],
   "source": [
    "# Random search of parameters, using 5 fold cross validation, \n",
    "# search across 100 different combinations\n",
    "rf_random = RandomizedSearchCV(estimator = rf, param_distributions = random_grid,scoring='neg_mean_squared_error', \n",
    "                               n_iter = 10, cv = 5, verbose=2, random_state=42, n_jobs = 1)"
   ]
  },
  {
   "cell_type": "code",
   "execution_count": 245,
   "metadata": {
    "scrolled": false
   },
   "outputs": [
    {
     "name": "stdout",
     "output_type": "stream",
     "text": [
      "Fitting 5 folds for each of 10 candidates, totalling 50 fits\n",
      "[CV] n_estimators=900, min_samples_split=5, min_samples_leaf=5, max_features=sqrt, max_depth=10 \n"
     ]
    },
    {
     "name": "stderr",
     "output_type": "stream",
     "text": [
      "[Parallel(n_jobs=1)]: Using backend SequentialBackend with 1 concurrent workers.\n"
     ]
    },
    {
     "name": "stdout",
     "output_type": "stream",
     "text": [
      "[CV]  n_estimators=900, min_samples_split=5, min_samples_leaf=5, max_features=sqrt, max_depth=10, total=   7.4s\n",
      "[CV] n_estimators=900, min_samples_split=5, min_samples_leaf=5, max_features=sqrt, max_depth=10 \n"
     ]
    },
    {
     "name": "stderr",
     "output_type": "stream",
     "text": [
      "[Parallel(n_jobs=1)]: Done   1 out of   1 | elapsed:    7.3s remaining:    0.0s\n"
     ]
    },
    {
     "name": "stdout",
     "output_type": "stream",
     "text": [
      "[CV]  n_estimators=900, min_samples_split=5, min_samples_leaf=5, max_features=sqrt, max_depth=10, total=   7.5s\n",
      "[CV] n_estimators=900, min_samples_split=5, min_samples_leaf=5, max_features=sqrt, max_depth=10 \n",
      "[CV]  n_estimators=900, min_samples_split=5, min_samples_leaf=5, max_features=sqrt, max_depth=10, total=   7.3s\n",
      "[CV] n_estimators=900, min_samples_split=5, min_samples_leaf=5, max_features=sqrt, max_depth=10 \n",
      "[CV]  n_estimators=900, min_samples_split=5, min_samples_leaf=5, max_features=sqrt, max_depth=10, total=   7.0s\n",
      "[CV] n_estimators=900, min_samples_split=5, min_samples_leaf=5, max_features=sqrt, max_depth=10 \n",
      "[CV]  n_estimators=900, min_samples_split=5, min_samples_leaf=5, max_features=sqrt, max_depth=10, total=   7.2s\n",
      "[CV] n_estimators=1100, min_samples_split=10, min_samples_leaf=2, max_features=sqrt, max_depth=15 \n",
      "[CV]  n_estimators=1100, min_samples_split=10, min_samples_leaf=2, max_features=sqrt, max_depth=15, total=  10.7s\n",
      "[CV] n_estimators=1100, min_samples_split=10, min_samples_leaf=2, max_features=sqrt, max_depth=15 \n",
      "[CV]  n_estimators=1100, min_samples_split=10, min_samples_leaf=2, max_features=sqrt, max_depth=15, total=  10.8s\n",
      "[CV] n_estimators=1100, min_samples_split=10, min_samples_leaf=2, max_features=sqrt, max_depth=15 \n",
      "[CV]  n_estimators=1100, min_samples_split=10, min_samples_leaf=2, max_features=sqrt, max_depth=15, total=  11.2s\n",
      "[CV] n_estimators=1100, min_samples_split=10, min_samples_leaf=2, max_features=sqrt, max_depth=15 \n",
      "[CV]  n_estimators=1100, min_samples_split=10, min_samples_leaf=2, max_features=sqrt, max_depth=15, total=  10.6s\n",
      "[CV] n_estimators=1100, min_samples_split=10, min_samples_leaf=2, max_features=sqrt, max_depth=15 \n",
      "[CV]  n_estimators=1100, min_samples_split=10, min_samples_leaf=2, max_features=sqrt, max_depth=15, total=  10.5s\n",
      "[CV] n_estimators=300, min_samples_split=100, min_samples_leaf=5, max_features=auto, max_depth=15 \n",
      "[CV]  n_estimators=300, min_samples_split=100, min_samples_leaf=5, max_features=auto, max_depth=15, total=   5.9s\n",
      "[CV] n_estimators=300, min_samples_split=100, min_samples_leaf=5, max_features=auto, max_depth=15 \n",
      "[CV]  n_estimators=300, min_samples_split=100, min_samples_leaf=5, max_features=auto, max_depth=15, total=   5.7s\n",
      "[CV] n_estimators=300, min_samples_split=100, min_samples_leaf=5, max_features=auto, max_depth=15 \n",
      "[CV]  n_estimators=300, min_samples_split=100, min_samples_leaf=5, max_features=auto, max_depth=15, total=   5.7s\n",
      "[CV] n_estimators=300, min_samples_split=100, min_samples_leaf=5, max_features=auto, max_depth=15 \n",
      "[CV]  n_estimators=300, min_samples_split=100, min_samples_leaf=5, max_features=auto, max_depth=15, total=   6.0s\n",
      "[CV] n_estimators=300, min_samples_split=100, min_samples_leaf=5, max_features=auto, max_depth=15 \n",
      "[CV]  n_estimators=300, min_samples_split=100, min_samples_leaf=5, max_features=auto, max_depth=15, total=   5.6s\n",
      "[CV] n_estimators=400, min_samples_split=5, min_samples_leaf=5, max_features=auto, max_depth=15 \n",
      "[CV]  n_estimators=400, min_samples_split=5, min_samples_leaf=5, max_features=auto, max_depth=15, total=  10.6s\n",
      "[CV] n_estimators=400, min_samples_split=5, min_samples_leaf=5, max_features=auto, max_depth=15 \n",
      "[CV]  n_estimators=400, min_samples_split=5, min_samples_leaf=5, max_features=auto, max_depth=15, total=  10.2s\n",
      "[CV] n_estimators=400, min_samples_split=5, min_samples_leaf=5, max_features=auto, max_depth=15 \n",
      "[CV]  n_estimators=400, min_samples_split=5, min_samples_leaf=5, max_features=auto, max_depth=15, total=  10.7s\n",
      "[CV] n_estimators=400, min_samples_split=5, min_samples_leaf=5, max_features=auto, max_depth=15 \n",
      "[CV]  n_estimators=400, min_samples_split=5, min_samples_leaf=5, max_features=auto, max_depth=15, total=  10.6s\n",
      "[CV] n_estimators=400, min_samples_split=5, min_samples_leaf=5, max_features=auto, max_depth=15 \n",
      "[CV]  n_estimators=400, min_samples_split=5, min_samples_leaf=5, max_features=auto, max_depth=15, total=  10.5s\n",
      "[CV] n_estimators=700, min_samples_split=5, min_samples_leaf=10, max_features=auto, max_depth=20 \n",
      "[CV]  n_estimators=700, min_samples_split=5, min_samples_leaf=10, max_features=auto, max_depth=20, total=  16.9s\n",
      "[CV] n_estimators=700, min_samples_split=5, min_samples_leaf=10, max_features=auto, max_depth=20 \n",
      "[CV]  n_estimators=700, min_samples_split=5, min_samples_leaf=10, max_features=auto, max_depth=20, total=  16.4s\n",
      "[CV] n_estimators=700, min_samples_split=5, min_samples_leaf=10, max_features=auto, max_depth=20 \n",
      "[CV]  n_estimators=700, min_samples_split=5, min_samples_leaf=10, max_features=auto, max_depth=20, total=  16.2s\n",
      "[CV] n_estimators=700, min_samples_split=5, min_samples_leaf=10, max_features=auto, max_depth=20 \n",
      "[CV]  n_estimators=700, min_samples_split=5, min_samples_leaf=10, max_features=auto, max_depth=20, total=  16.3s\n",
      "[CV] n_estimators=700, min_samples_split=5, min_samples_leaf=10, max_features=auto, max_depth=20 \n",
      "[CV]  n_estimators=700, min_samples_split=5, min_samples_leaf=10, max_features=auto, max_depth=20, total=  16.1s\n",
      "[CV] n_estimators=1000, min_samples_split=2, min_samples_leaf=1, max_features=sqrt, max_depth=25 \n",
      "[CV]  n_estimators=1000, min_samples_split=2, min_samples_leaf=1, max_features=sqrt, max_depth=25, total=  16.9s\n",
      "[CV] n_estimators=1000, min_samples_split=2, min_samples_leaf=1, max_features=sqrt, max_depth=25 \n",
      "[CV]  n_estimators=1000, min_samples_split=2, min_samples_leaf=1, max_features=sqrt, max_depth=25, total=  17.3s\n",
      "[CV] n_estimators=1000, min_samples_split=2, min_samples_leaf=1, max_features=sqrt, max_depth=25 \n",
      "[CV]  n_estimators=1000, min_samples_split=2, min_samples_leaf=1, max_features=sqrt, max_depth=25, total=  17.0s\n",
      "[CV] n_estimators=1000, min_samples_split=2, min_samples_leaf=1, max_features=sqrt, max_depth=25 \n",
      "[CV]  n_estimators=1000, min_samples_split=2, min_samples_leaf=1, max_features=sqrt, max_depth=25, total=  17.0s\n",
      "[CV] n_estimators=1000, min_samples_split=2, min_samples_leaf=1, max_features=sqrt, max_depth=25 \n",
      "[CV]  n_estimators=1000, min_samples_split=2, min_samples_leaf=1, max_features=sqrt, max_depth=25, total=  16.9s\n",
      "[CV] n_estimators=1100, min_samples_split=15, min_samples_leaf=10, max_features=sqrt, max_depth=5 \n",
      "[CV]  n_estimators=1100, min_samples_split=15, min_samples_leaf=10, max_features=sqrt, max_depth=5, total=   5.8s\n",
      "[CV] n_estimators=1100, min_samples_split=15, min_samples_leaf=10, max_features=sqrt, max_depth=5 \n",
      "[CV]  n_estimators=1100, min_samples_split=15, min_samples_leaf=10, max_features=sqrt, max_depth=5, total=   6.2s\n",
      "[CV] n_estimators=1100, min_samples_split=15, min_samples_leaf=10, max_features=sqrt, max_depth=5 \n",
      "[CV]  n_estimators=1100, min_samples_split=15, min_samples_leaf=10, max_features=sqrt, max_depth=5, total=   6.0s\n",
      "[CV] n_estimators=1100, min_samples_split=15, min_samples_leaf=10, max_features=sqrt, max_depth=5 \n",
      "[CV]  n_estimators=1100, min_samples_split=15, min_samples_leaf=10, max_features=sqrt, max_depth=5, total=   5.8s\n",
      "[CV] n_estimators=1100, min_samples_split=15, min_samples_leaf=10, max_features=sqrt, max_depth=5 \n",
      "[CV]  n_estimators=1100, min_samples_split=15, min_samples_leaf=10, max_features=sqrt, max_depth=5, total=   6.3s\n",
      "[CV] n_estimators=300, min_samples_split=15, min_samples_leaf=1, max_features=sqrt, max_depth=15 \n",
      "[CV]  n_estimators=300, min_samples_split=15, min_samples_leaf=1, max_features=sqrt, max_depth=15, total=   2.7s\n",
      "[CV] n_estimators=300, min_samples_split=15, min_samples_leaf=1, max_features=sqrt, max_depth=15 \n",
      "[CV]  n_estimators=300, min_samples_split=15, min_samples_leaf=1, max_features=sqrt, max_depth=15, total=   2.7s\n",
      "[CV] n_estimators=300, min_samples_split=15, min_samples_leaf=1, max_features=sqrt, max_depth=15 \n",
      "[CV]  n_estimators=300, min_samples_split=15, min_samples_leaf=1, max_features=sqrt, max_depth=15, total=   2.8s\n",
      "[CV] n_estimators=300, min_samples_split=15, min_samples_leaf=1, max_features=sqrt, max_depth=15 \n",
      "[CV]  n_estimators=300, min_samples_split=15, min_samples_leaf=1, max_features=sqrt, max_depth=15, total=   2.7s\n",
      "[CV] n_estimators=300, min_samples_split=15, min_samples_leaf=1, max_features=sqrt, max_depth=15 \n",
      "[CV]  n_estimators=300, min_samples_split=15, min_samples_leaf=1, max_features=sqrt, max_depth=15, total=   3.0s\n",
      "[CV] n_estimators=700, min_samples_split=10, min_samples_leaf=2, max_features=sqrt, max_depth=5 \n"
     ]
    },
    {
     "name": "stdout",
     "output_type": "stream",
     "text": [
      "[CV]  n_estimators=700, min_samples_split=10, min_samples_leaf=2, max_features=sqrt, max_depth=5, total=   4.0s\n",
      "[CV] n_estimators=700, min_samples_split=10, min_samples_leaf=2, max_features=sqrt, max_depth=5 \n",
      "[CV]  n_estimators=700, min_samples_split=10, min_samples_leaf=2, max_features=sqrt, max_depth=5, total=   4.4s\n",
      "[CV] n_estimators=700, min_samples_split=10, min_samples_leaf=2, max_features=sqrt, max_depth=5 \n",
      "[CV]  n_estimators=700, min_samples_split=10, min_samples_leaf=2, max_features=sqrt, max_depth=5, total=   3.9s\n",
      "[CV] n_estimators=700, min_samples_split=10, min_samples_leaf=2, max_features=sqrt, max_depth=5 \n",
      "[CV]  n_estimators=700, min_samples_split=10, min_samples_leaf=2, max_features=sqrt, max_depth=5, total=   4.2s\n",
      "[CV] n_estimators=700, min_samples_split=10, min_samples_leaf=2, max_features=sqrt, max_depth=5 \n",
      "[CV]  n_estimators=700, min_samples_split=10, min_samples_leaf=2, max_features=sqrt, max_depth=5, total=   4.0s\n",
      "[CV] n_estimators=700, min_samples_split=15, min_samples_leaf=1, max_features=auto, max_depth=20 \n",
      "[CV]  n_estimators=700, min_samples_split=15, min_samples_leaf=1, max_features=auto, max_depth=20, total=  19.5s\n",
      "[CV] n_estimators=700, min_samples_split=15, min_samples_leaf=1, max_features=auto, max_depth=20 \n",
      "[CV]  n_estimators=700, min_samples_split=15, min_samples_leaf=1, max_features=auto, max_depth=20, total=  19.6s\n",
      "[CV] n_estimators=700, min_samples_split=15, min_samples_leaf=1, max_features=auto, max_depth=20 \n",
      "[CV]  n_estimators=700, min_samples_split=15, min_samples_leaf=1, max_features=auto, max_depth=20, total=  19.7s\n",
      "[CV] n_estimators=700, min_samples_split=15, min_samples_leaf=1, max_features=auto, max_depth=20 \n",
      "[CV]  n_estimators=700, min_samples_split=15, min_samples_leaf=1, max_features=auto, max_depth=20, total=  19.2s\n",
      "[CV] n_estimators=700, min_samples_split=15, min_samples_leaf=1, max_features=auto, max_depth=20 \n",
      "[CV]  n_estimators=700, min_samples_split=15, min_samples_leaf=1, max_features=auto, max_depth=20, total=  19.7s\n"
     ]
    },
    {
     "name": "stderr",
     "output_type": "stream",
     "text": [
      "[Parallel(n_jobs=1)]: Done  50 out of  50 | elapsed:  8.4min finished\n"
     ]
    },
    {
     "data": {
      "text/plain": [
       "RandomizedSearchCV(cv=5, error_score=nan,\n",
       "                   estimator=RandomForestRegressor(bootstrap=True,\n",
       "                                                   ccp_alpha=0.0,\n",
       "                                                   criterion='mse',\n",
       "                                                   max_depth=None,\n",
       "                                                   max_features='auto',\n",
       "                                                   max_leaf_nodes=None,\n",
       "                                                   max_samples=None,\n",
       "                                                   min_impurity_decrease=0.0,\n",
       "                                                   min_impurity_split=None,\n",
       "                                                   min_samples_leaf=1,\n",
       "                                                   min_samples_split=2,\n",
       "                                                   min_weight_fraction_leaf=0.0,\n",
       "                                                   n_estimators=100,\n",
       "                                                   n_jobs=None, oob_score=Fals...\n",
       "                   iid='deprecated', n_iter=10, n_jobs=1,\n",
       "                   param_distributions={'max_depth': [5, 10, 15, 20, 25, 30],\n",
       "                                        'max_features': ['auto', 'sqrt'],\n",
       "                                        'min_samples_leaf': [1, 2, 5, 10],\n",
       "                                        'min_samples_split': [2, 5, 10, 15,\n",
       "                                                              100],\n",
       "                                        'n_estimators': [100, 200, 300, 400,\n",
       "                                                         500, 600, 700, 800,\n",
       "                                                         900, 1000, 1100,\n",
       "                                                         1200]},\n",
       "                   pre_dispatch='2*n_jobs', random_state=42, refit=True,\n",
       "                   return_train_score=False, scoring='neg_mean_squared_error',\n",
       "                   verbose=2)"
      ]
     },
     "execution_count": 245,
     "metadata": {},
     "output_type": "execute_result"
    }
   ],
   "source": [
    "#Fit the data\n",
    "rf_random.fit(x_train,y_train)"
   ]
  },
  {
   "cell_type": "code",
   "execution_count": 246,
   "metadata": {
    "scrolled": true
   },
   "outputs": [
    {
     "data": {
      "text/plain": [
       "{'n_estimators': 700,\n",
       " 'min_samples_split': 15,\n",
       " 'min_samples_leaf': 1,\n",
       " 'max_features': 'auto',\n",
       " 'max_depth': 20}"
      ]
     },
     "execution_count": 246,
     "metadata": {},
     "output_type": "execute_result"
    }
   ],
   "source": [
    "rf_random.best_params_"
   ]
  },
  {
   "cell_type": "code",
   "execution_count": 247,
   "metadata": {},
   "outputs": [],
   "source": [
    "random_pred= rf_random.predict(x_test)"
   ]
  },
  {
   "cell_type": "code",
   "execution_count": 248,
   "metadata": {},
   "outputs": [],
   "source": [
    "#Error calculation\n",
    "RMSE = np.sqrt(mean_squared_error(y_test, random_pred))\n",
    "MAE = mean_absolute_error(y_test, random_pred)\n",
    "r_squre= r2_score(y_test, random_pred)"
   ]
  },
  {
   "cell_type": "code",
   "execution_count": 249,
   "metadata": {},
   "outputs": [
    {
     "name": "stdout",
     "output_type": "stream",
     "text": [
      "RMSE : 1855.9839300356475\n",
      "MAE: 1176.1164095138206\n",
      "r_square: 0.8355018756259418\n"
     ]
    }
   ],
   "source": [
    "print('RMSE :',RMSE) \n",
    "print('MAE:', MAE)\n",
    "print(\"r_square:\",r_squre)"
   ]
  },
  {
   "cell_type": "code",
   "execution_count": 251,
   "metadata": {
    "scrolled": false
   },
   "outputs": [
    {
     "data": {
      "image/png": "[encoded data removed]",
      "text/plain": [
       "<Figure size 432x432 with 1 Axes>"
      ]
     },
     "metadata": {
      "needs_background": "light"
     },
     "output_type": "display_data"
    }
   ],
   "source": [
    "plt.figure(figsize = (6,6))\n",
    "sns.distplot(y_test-random_pred)\n",
    "plt.shbow()"
   ]
  },
  {
   "cell_type": "markdown",
   "metadata": {},
   "source": [
    "# Gradient Boosting"
   ]
  },
  {
   "cell_type": "code",
   "execution_count": 83,
   "metadata": {},
   "outputs": [],
   "source": [
    "#Lest Try Gradient boosting \n",
    "from sklearn.ensemble import GradientBoostingRegressor\n",
    "gb=GradientBoostingRegressor()"
   ]
  },
  {
   "cell_type": "code",
   "execution_count": 84,
   "metadata": {
    "scrolled": true
   },
   "outputs": [
    {
     "data": {
      "text/plain": [
       "GradientBoostingRegressor(alpha=0.9, ccp_alpha=0.0, criterion='friedman_mse',\n",
       "                          init=None, learning_rate=0.1, loss='ls', max_depth=3,\n",
       "                          max_features=None, max_leaf_nodes=None,\n",
       "                          min_impurity_decrease=0.0, min_impurity_split=None,\n",
       "                          min_samples_leaf=1, min_samples_split=2,\n",
       "                          min_weight_fraction_leaf=0.0, n_estimators=100,\n",
       "                          n_iter_no_change=None, presort='deprecated',\n",
       "                          random_state=None, subsample=1.0, tol=0.0001,\n",
       "                          validation_fraction=0.1, verbose=0, warm_start=False)"
      ]
     },
     "execution_count": 84,
     "metadata": {},
     "output_type": "execute_result"
    }
   ],
   "source": [
    "gb.fit(x_train,y_train)"
   ]
  },
  {
   "cell_type": "code",
   "execution_count": 85,
   "metadata": {},
   "outputs": [],
   "source": [
    "gb_pred=gb.predict(x_test)"
   ]
  },
  {
   "cell_type": "code",
   "execution_count": 86,
   "metadata": {},
   "outputs": [],
   "source": [
    "#Error calculation\n",
    "RMSE = np.sqrt(mean_squared_error(y_test, gb_pred))\n",
    "MAE = mean_absolute_error(y_test, gb_pred)\n",
    "r_squre= r2_score(y_test, gb_pred)"
   ]
  },
  {
   "cell_type": "code",
   "execution_count": 87,
   "metadata": {
    "scrolled": true
   },
   "outputs": [
    {
     "name": "stdout",
     "output_type": "stream",
     "text": [
      "RMSE : 2106.713493514713\n",
      "MAE: 1517.301902459573\n",
      "r_square: 0.7880548508791339\n"
     ]
    }
   ],
   "source": [
    "print('RMSE :',RMSE) \n",
    "print('MAE:', MAE)\n",
    "print(\"r_square:\",r_squre)"
   ]
  },
  {
   "cell_type": "code",
   "execution_count": 88,
   "metadata": {},
   "outputs": [],
   "source": [
    "#Hyperparameter Tuning \n",
    "#Randomized Search CV\n",
    "\n",
    "# Number of trees in random forest\n",
    "n_estimators = [int(x) for x in np.linspace(start = 100, stop = 1000, num = 10)]\n",
    "# Number of features to consider at every split\n",
    "max_features = ['auto', 'sqrt']\n",
    "# Maximum number of levels in tree\n",
    "max_depth = [int(x) for x in np.linspace(1, 10, num = 10)]\n",
    "#Loss function\n",
    "loss = ['ls', 'lad', 'huber']\n",
    "#Criteria\n",
    "criterion =['mse','friedman_mse']"
   ]
  },
  {
   "cell_type": "code",
   "execution_count": 89,
   "metadata": {},
   "outputs": [],
   "source": [
    "# Create the random grid\n",
    "\n",
    "random_grid = {'n_estimators': n_estimators,\n",
    "               'max_features': max_features,\n",
    "               'max_depth': max_depth,\n",
    "               \n",
    "                'loss':loss,\n",
    "               'criterion':criterion\n",
    "              \n",
    "              }"
   ]
  },
  {
   "cell_type": "code",
   "execution_count": 90,
   "metadata": {},
   "outputs": [],
   "source": [
    "# Random search of parameters, using 5 fold cross validation, \n",
    "# search across 100 different combinations\n",
    "gb_random = RandomizedSearchCV(estimator = gb, param_distributions = random_grid,scoring='neg_mean_squared_error', \n",
    "                               n_iter = 10, cv = 5, verbose=2, random_state=42, n_jobs = 1)"
   ]
  },
  {
   "cell_type": "code",
   "execution_count": 91,
   "metadata": {
    "scrolled": true
   },
   "outputs": [
    {
     "name": "stdout",
     "output_type": "stream",
     "text": [
      "Fitting 5 folds for each of 10 candidates, totalling 50 fits\n",
      "[CV] n_estimators=700, max_features=auto, max_depth=7, loss=huber, criterion=friedman_mse \n"
     ]
    },
    {
     "name": "stderr",
     "output_type": "stream",
     "text": [
      "[Parallel(n_jobs=1)]: Using backend SequentialBackend with 1 concurrent workers.\n"
     ]
    },
    {
     "name": "stdout",
     "output_type": "stream",
     "text": [
      "[CV]  n_estimators=700, max_features=auto, max_depth=7, loss=huber, criterion=friedman_mse, total=  40.9s\n",
      "[CV] n_estimators=700, max_features=auto, max_depth=7, loss=huber, criterion=friedman_mse \n"
     ]
    },
    {
     "name": "stderr",
     "output_type": "stream",
     "text": [
      "[Parallel(n_jobs=1)]: Done   1 out of   1 | elapsed:   40.8s remaining:    0.0s\n"
     ]
    },
    {
     "name": "stdout",
     "output_type": "stream",
     "text": [
      "[CV]  n_estimators=700, max_features=auto, max_depth=7, loss=huber, criterion=friedman_mse, total=  44.1s\n",
      "[CV] n_estimators=700, max_features=auto, max_depth=7, loss=huber, criterion=friedman_mse \n",
      "[CV]  n_estimators=700, max_features=auto, max_depth=7, loss=huber, criterion=friedman_mse, total=  41.7s\n",
      "[CV] n_estimators=700, max_features=auto, max_depth=7, loss=huber, criterion=friedman_mse \n",
      "[CV]  n_estimators=700, max_features=auto, max_depth=7, loss=huber, criterion=friedman_mse, total=  42.7s\n",
      "[CV] n_estimators=700, max_features=auto, max_depth=7, loss=huber, criterion=friedman_mse \n",
      "[CV]  n_estimators=700, max_features=auto, max_depth=7, loss=huber, criterion=friedman_mse, total=  40.4s\n",
      "[CV] n_estimators=100, max_features=auto, max_depth=4, loss=lad, criterion=friedman_mse \n",
      "[CV]  n_estimators=100, max_features=auto, max_depth=4, loss=lad, criterion=friedman_mse, total=   2.3s\n",
      "[CV] n_estimators=100, max_features=auto, max_depth=4, loss=lad, criterion=friedman_mse \n",
      "[CV]  n_estimators=100, max_features=auto, max_depth=4, loss=lad, criterion=friedman_mse, total=   2.2s\n",
      "[CV] n_estimators=100, max_features=auto, max_depth=4, loss=lad, criterion=friedman_mse \n",
      "[CV]  n_estimators=100, max_features=auto, max_depth=4, loss=lad, criterion=friedman_mse, total=   2.2s\n",
      "[CV] n_estimators=100, max_features=auto, max_depth=4, loss=lad, criterion=friedman_mse \n",
      "[CV]  n_estimators=100, max_features=auto, max_depth=4, loss=lad, criterion=friedman_mse, total=   2.4s\n",
      "[CV] n_estimators=100, max_features=auto, max_depth=4, loss=lad, criterion=friedman_mse \n",
      "[CV]  n_estimators=100, max_features=auto, max_depth=4, loss=lad, criterion=friedman_mse, total=   2.1s\n",
      "[CV] n_estimators=100, max_features=sqrt, max_depth=7, loss=huber, criterion=friedman_mse \n",
      "[CV]  n_estimators=100, max_features=sqrt, max_depth=7, loss=huber, criterion=friedman_mse, total=   4.3s\n",
      "[CV] n_estimators=100, max_features=sqrt, max_depth=7, loss=huber, criterion=friedman_mse \n",
      "[CV]  n_estimators=100, max_features=sqrt, max_depth=7, loss=huber, criterion=friedman_mse, total=   4.9s\n",
      "[CV] n_estimators=100, max_features=sqrt, max_depth=7, loss=huber, criterion=friedman_mse \n",
      "[CV]  n_estimators=100, max_features=sqrt, max_depth=7, loss=huber, criterion=friedman_mse, total=   4.6s\n",
      "[CV] n_estimators=100, max_features=sqrt, max_depth=7, loss=huber, criterion=friedman_mse \n",
      "[CV]  n_estimators=100, max_features=sqrt, max_depth=7, loss=huber, criterion=friedman_mse, total=   4.3s\n",
      "[CV] n_estimators=100, max_features=sqrt, max_depth=7, loss=huber, criterion=friedman_mse \n",
      "[CV]  n_estimators=100, max_features=sqrt, max_depth=7, loss=huber, criterion=friedman_mse, total=   4.4s\n",
      "[CV] n_estimators=600, max_features=sqrt, max_depth=5, loss=huber, criterion=friedman_mse \n",
      "[CV]  n_estimators=600, max_features=sqrt, max_depth=5, loss=huber, criterion=friedman_mse, total=  11.3s\n",
      "[CV] n_estimators=600, max_features=sqrt, max_depth=5, loss=huber, criterion=friedman_mse \n",
      "[CV]  n_estimators=600, max_features=sqrt, max_depth=5, loss=huber, criterion=friedman_mse, total=  11.5s\n",
      "[CV] n_estimators=600, max_features=sqrt, max_depth=5, loss=huber, criterion=friedman_mse \n",
      "[CV]  n_estimators=600, max_features=sqrt, max_depth=5, loss=huber, criterion=friedman_mse, total=  11.4s\n",
      "[CV] n_estimators=600, max_features=sqrt, max_depth=5, loss=huber, criterion=friedman_mse \n",
      "[CV]  n_estimators=600, max_features=sqrt, max_depth=5, loss=huber, criterion=friedman_mse, total=  11.2s\n",
      "[CV] n_estimators=600, max_features=sqrt, max_depth=5, loss=huber, criterion=friedman_mse \n",
      "[CV]  n_estimators=600, max_features=sqrt, max_depth=5, loss=huber, criterion=friedman_mse, total=  11.4s\n",
      "[CV] n_estimators=500, max_features=auto, max_depth=3, loss=huber, criterion=friedman_mse \n",
      "[CV]  n_estimators=500, max_features=auto, max_depth=3, loss=huber, criterion=friedman_mse, total=   8.9s\n",
      "[CV] n_estimators=500, max_features=auto, max_depth=3, loss=huber, criterion=friedman_mse \n",
      "[CV]  n_estimators=500, max_features=auto, max_depth=3, loss=huber, criterion=friedman_mse, total=   8.8s\n",
      "[CV] n_estimators=500, max_features=auto, max_depth=3, loss=huber, criterion=friedman_mse \n",
      "[CV]  n_estimators=500, max_features=auto, max_depth=3, loss=huber, criterion=friedman_mse, total=   9.1s\n",
      "[CV] n_estimators=500, max_features=auto, max_depth=3, loss=huber, criterion=friedman_mse \n",
      "[CV]  n_estimators=500, max_features=auto, max_depth=3, loss=huber, criterion=friedman_mse, total=   9.0s\n",
      "[CV] n_estimators=500, max_features=auto, max_depth=3, loss=huber, criterion=friedman_mse \n",
      "[CV]  n_estimators=500, max_features=auto, max_depth=3, loss=huber, criterion=friedman_mse, total=   9.2s\n",
      "[CV] n_estimators=200, max_features=auto, max_depth=7, loss=ls, criterion=mse \n",
      "[CV]  n_estimators=200, max_features=auto, max_depth=7, loss=ls, criterion=mse, total=   5.2s\n",
      "[CV] n_estimators=200, max_features=auto, max_depth=7, loss=ls, criterion=mse \n",
      "[CV]  n_estimators=200, max_features=auto, max_depth=7, loss=ls, criterion=mse, total=   5.2s\n",
      "[CV] n_estimators=200, max_features=auto, max_depth=7, loss=ls, criterion=mse \n",
      "[CV]  n_estimators=200, max_features=auto, max_depth=7, loss=ls, criterion=mse, total=   5.2s\n",
      "[CV] n_estimators=200, max_features=auto, max_depth=7, loss=ls, criterion=mse \n",
      "[CV]  n_estimators=200, max_features=auto, max_depth=7, loss=ls, criterion=mse, total=   5.0s\n",
      "[CV] n_estimators=200, max_features=auto, max_depth=7, loss=ls, criterion=mse \n",
      "[CV]  n_estimators=200, max_features=auto, max_depth=7, loss=ls, criterion=mse, total=   5.1s\n",
      "[CV] n_estimators=700, max_features=auto, max_depth=4, loss=huber, criterion=mse \n",
      "[CV]  n_estimators=700, max_features=auto, max_depth=4, loss=huber, criterion=mse, total=  17.4s\n",
      "[CV] n_estimators=700, max_features=auto, max_depth=4, loss=huber, criterion=mse \n",
      "[CV]  n_estimators=700, max_features=auto, max_depth=4, loss=huber, criterion=mse, total=  17.0s\n",
      "[CV] n_estimators=700, max_features=auto, max_depth=4, loss=huber, criterion=mse \n",
      "[CV]  n_estimators=700, max_features=auto, max_depth=4, loss=huber, criterion=mse, total=  16.9s\n",
      "[CV] n_estimators=700, max_features=auto, max_depth=4, loss=huber, criterion=mse \n",
      "[CV]  n_estimators=700, max_features=auto, max_depth=4, loss=huber, criterion=mse, total=  17.3s\n",
      "[CV] n_estimators=700, max_features=auto, max_depth=4, loss=huber, criterion=mse \n",
      "[CV]  n_estimators=700, max_features=auto, max_depth=4, loss=huber, criterion=mse, total=  17.2s\n",
      "[CV] n_estimators=100, max_features=sqrt, max_depth=7, loss=lad, criterion=mse \n",
      "[CV]  n_estimators=100, max_features=sqrt, max_depth=7, loss=lad, criterion=mse, total=   3.4s\n",
      "[CV] n_estimators=100, max_features=sqrt, max_depth=7, loss=lad, criterion=mse \n",
      "[CV]  n_estimators=100, max_features=sqrt, max_depth=7, loss=lad, criterion=mse, total=   3.3s\n",
      "[CV] n_estimators=100, max_features=sqrt, max_depth=7, loss=lad, criterion=mse \n",
      "[CV]  n_estimators=100, max_features=sqrt, max_depth=7, loss=lad, criterion=mse, total=   3.2s\n",
      "[CV] n_estimators=100, max_features=sqrt, max_depth=7, loss=lad, criterion=mse \n",
      "[CV]  n_estimators=100, max_features=sqrt, max_depth=7, loss=lad, criterion=mse, total=   3.6s\n",
      "[CV] n_estimators=100, max_features=sqrt, max_depth=7, loss=lad, criterion=mse \n",
      "[CV]  n_estimators=100, max_features=sqrt, max_depth=7, loss=lad, criterion=mse, total=   3.3s\n",
      "[CV] n_estimators=800, max_features=auto, max_depth=5, loss=ls, criterion=mse \n",
      "[CV]  n_estimators=800, max_features=auto, max_depth=5, loss=ls, criterion=mse, total=  15.2s\n",
      "[CV] n_estimators=800, max_features=auto, max_depth=5, loss=ls, criterion=mse \n",
      "[CV]  n_estimators=800, max_features=auto, max_depth=5, loss=ls, criterion=mse, total=  15.5s\n",
      "[CV] n_estimators=800, max_features=auto, max_depth=5, loss=ls, criterion=mse \n",
      "[CV]  n_estimators=800, max_features=auto, max_depth=5, loss=ls, criterion=mse, total=  15.4s\n",
      "[CV] n_estimators=800, max_features=auto, max_depth=5, loss=ls, criterion=mse \n",
      "[CV]  n_estimators=800, max_features=auto, max_depth=5, loss=ls, criterion=mse, total=  15.3s\n",
      "[CV] n_estimators=800, max_features=auto, max_depth=5, loss=ls, criterion=mse \n",
      "[CV]  n_estimators=800, max_features=auto, max_depth=5, loss=ls, criterion=mse, total=  15.2s\n",
      "[CV] n_estimators=400, max_features=auto, max_depth=7, loss=huber, criterion=friedman_mse \n"
     ]
    },
    {
     "name": "stdout",
     "output_type": "stream",
     "text": [
      "[CV]  n_estimators=400, max_features=auto, max_depth=7, loss=huber, criterion=friedman_mse, total=  26.2s\n",
      "[CV] n_estimators=400, max_features=auto, max_depth=7, loss=huber, criterion=friedman_mse \n",
      "[CV]  n_estimators=400, max_features=auto, max_depth=7, loss=huber, criterion=friedman_mse, total=  26.0s\n",
      "[CV] n_estimators=400, max_features=auto, max_depth=7, loss=huber, criterion=friedman_mse \n",
      "[CV]  n_estimators=400, max_features=auto, max_depth=7, loss=huber, criterion=friedman_mse, total=  24.9s\n",
      "[CV] n_estimators=400, max_features=auto, max_depth=7, loss=huber, criterion=friedman_mse \n",
      "[CV]  n_estimators=400, max_features=auto, max_depth=7, loss=huber, criterion=friedman_mse, total=  24.6s\n",
      "[CV] n_estimators=400, max_features=auto, max_depth=7, loss=huber, criterion=friedman_mse \n",
      "[CV]  n_estimators=400, max_features=auto, max_depth=7, loss=huber, criterion=friedman_mse, total=  25.1s\n"
     ]
    },
    {
     "name": "stderr",
     "output_type": "stream",
     "text": [
      "[Parallel(n_jobs=1)]: Done  50 out of  50 | elapsed: 11.3min finished\n"
     ]
    },
    {
     "data": {
      "text/plain": [
       "RandomizedSearchCV(cv=5, error_score=nan,\n",
       "                   estimator=GradientBoostingRegressor(alpha=0.9, ccp_alpha=0.0,\n",
       "                                                       criterion='friedman_mse',\n",
       "                                                       init=None,\n",
       "                                                       learning_rate=0.1,\n",
       "                                                       loss='ls', max_depth=3,\n",
       "                                                       max_features=None,\n",
       "                                                       max_leaf_nodes=None,\n",
       "                                                       min_impurity_decrease=0.0,\n",
       "                                                       min_impurity_split=None,\n",
       "                                                       min_samples_leaf=1,\n",
       "                                                       min_samples_split=2,\n",
       "                                                       min_weight_fraction_leaf=0.0,\n",
       "                                                       n_estimators=100,\n",
       "                                                       n_...\n",
       "                   iid='deprecated', n_iter=10, n_jobs=1,\n",
       "                   param_distributions={'criterion': ['mse', 'friedman_mse'],\n",
       "                                        'loss': ['ls', 'lad', 'huber'],\n",
       "                                        'max_depth': [1, 2, 3, 4, 5, 6, 7, 8, 9,\n",
       "                                                      10],\n",
       "                                        'max_features': ['auto', 'sqrt'],\n",
       "                                        'n_estimators': [100, 200, 300, 400,\n",
       "                                                         500, 600, 700, 800,\n",
       "                                                         900, 1000]},\n",
       "                   pre_dispatch='2*n_jobs', random_state=42, refit=True,\n",
       "                   return_train_score=False, scoring='neg_mean_squared_error',\n",
       "                   verbose=2)"
      ]
     },
     "execution_count": 91,
     "metadata": {},
     "output_type": "execute_result"
    }
   ],
   "source": [
    "gb_random.fit(x_train,y_train)"
   ]
  },
  {
   "cell_type": "code",
   "execution_count": 92,
   "metadata": {},
   "outputs": [
    {
     "data": {
      "text/plain": [
       "{'n_estimators': 600,\n",
       " 'max_features': 'sqrt',\n",
       " 'max_depth': 5,\n",
       " 'loss': 'huber',\n",
       " 'criterion': 'friedman_mse'}"
      ]
     },
     "execution_count": 92,
     "metadata": {},
     "output_type": "execute_result"
    }
   ],
   "source": [
    "gb_random.best_params_"
   ]
  },
  {
   "cell_type": "code",
   "execution_count": 111,
   "metadata": {},
   "outputs": [],
   "source": [
    "gb_pred=gb_random.predict(x_test)"
   ]
  },
  {
   "cell_type": "code",
   "execution_count": 112,
   "metadata": {},
   "outputs": [],
   "source": [
    "#Error calculation\n",
    "RMSE = np.sqrt(mean_squared_error(y_test, gb_pred))\n",
    "MAE = mean_absolute_error(y_test, gb_pred)\n",
    "r_squre= r2_score(y_test, gb_pred)"
   ]
  },
  {
   "cell_type": "code",
   "execution_count": 113,
   "metadata": {
    "scrolled": true
   },
   "outputs": [
    {
     "name": "stdout",
     "output_type": "stream",
     "text": [
      "RMSE : 1733.1065204574757\n",
      "MAE: 1148.0008844122665\n",
      "r_square: 0.8565623901880849\n"
     ]
    }
   ],
   "source": [
    "print('RMSE :',RMSE) \n",
    "print('MAE:', MAE)\n",
    "print(\"r_square:\",r_squre)"
   ]
  },
  {
   "cell_type": "code",
   "execution_count": 114,
   "metadata": {},
   "outputs": [
    {
     "data": {
      "image/png": "[encoded data removed]",
      "text/plain": [
       "<Figure size 432x288 with 1 Axes>"
      ]
     },
     "metadata": {
      "needs_background": "light"
     },
     "output_type": "display_data"
    }
   ],
   "source": [
    "#Lets plot the error destribustion\n",
    "sns.distplot(y_test-gb_pred)\n",
    "plt.show()"
   ]
  },
  {
   "cell_type": "markdown",
   "metadata": {},
   "source": [
    "# Catboost"
   ]
  },
  {
   "cell_type": "code",
   "execution_count": 99,
   "metadata": {},
   "outputs": [],
   "source": [
    "#Lest try Catboost algorithum\n",
    "from catboost import CatBoostRegressor\n",
    "cr=CatBoostRegressor(iterations=200, loss_function='RMSE',\n",
    "                              random_state = 2021, \n",
    "                              eval_metric=\"RMSE\")"
   ]
  },
  {
   "cell_type": "code",
   "execution_count": 100,
   "metadata": {
    "scrolled": true
   },
   "outputs": [
    {
     "name": "stdout",
     "output_type": "stream",
     "text": [
      "Learning rate set to 0.189732\n",
      "0:\tlearn: 4165.0243218\ttotal: 512ms\tremaining: 1m 41s\n",
      "1:\tlearn: 3751.1192031\ttotal: 520ms\tremaining: 51.4s\n",
      "2:\tlearn: 3468.7456529\ttotal: 527ms\tremaining: 34.6s\n",
      "3:\tlearn: 3215.5531975\ttotal: 536ms\tremaining: 26.3s\n",
      "4:\tlearn: 3063.2020461\ttotal: 543ms\tremaining: 21.2s\n",
      "5:\tlearn: 2895.0345382\ttotal: 548ms\tremaining: 17.7s\n",
      "6:\tlearn: 2809.5218184\ttotal: 553ms\tremaining: 15.2s\n",
      "7:\tlearn: 2731.3405480\ttotal: 557ms\tremaining: 13.4s\n",
      "8:\tlearn: 2661.8280030\ttotal: 561ms\tremaining: 11.9s\n",
      "9:\tlearn: 2589.6978959\ttotal: 565ms\tremaining: 10.7s\n",
      "10:\tlearn: 2558.0127706\ttotal: 570ms\tremaining: 9.79s\n",
      "11:\tlearn: 2525.7291971\ttotal: 574ms\tremaining: 8.99s\n",
      "12:\tlearn: 2471.7738085\ttotal: 578ms\tremaining: 8.31s\n",
      "13:\tlearn: 2449.1748437\ttotal: 583ms\tremaining: 7.75s\n",
      "14:\tlearn: 2423.5631650\ttotal: 587ms\tremaining: 7.24s\n",
      "15:\tlearn: 2406.7699932\ttotal: 591ms\tremaining: 6.8s\n",
      "16:\tlearn: 2388.3318126\ttotal: 595ms\tremaining: 6.41s\n",
      "17:\tlearn: 2366.7155330\ttotal: 603ms\tremaining: 6.1s\n",
      "18:\tlearn: 2338.9728884\ttotal: 608ms\tremaining: 5.79s\n",
      "19:\tlearn: 2321.9900273\ttotal: 613ms\tremaining: 5.51s\n",
      "20:\tlearn: 2313.2033281\ttotal: 617ms\tremaining: 5.26s\n",
      "21:\tlearn: 2305.5842440\ttotal: 620ms\tremaining: 5.02s\n",
      "22:\tlearn: 2282.1711626\ttotal: 625ms\tremaining: 4.81s\n",
      "23:\tlearn: 2268.8507902\ttotal: 629ms\tremaining: 4.61s\n",
      "24:\tlearn: 2257.5022604\ttotal: 633ms\tremaining: 4.43s\n",
      "25:\tlearn: 2241.4045265\ttotal: 637ms\tremaining: 4.26s\n",
      "26:\tlearn: 2230.9114347\ttotal: 642ms\tremaining: 4.11s\n",
      "27:\tlearn: 2221.2610376\ttotal: 645ms\tremaining: 3.96s\n",
      "28:\tlearn: 2207.5405626\ttotal: 649ms\tremaining: 3.83s\n",
      "29:\tlearn: 2191.0392882\ttotal: 653ms\tremaining: 3.7s\n",
      "30:\tlearn: 2176.8263319\ttotal: 657ms\tremaining: 3.58s\n",
      "31:\tlearn: 2166.0822980\ttotal: 661ms\tremaining: 3.47s\n",
      "32:\tlearn: 2156.2407835\ttotal: 665ms\tremaining: 3.36s\n",
      "33:\tlearn: 2146.9295444\ttotal: 669ms\tremaining: 3.27s\n",
      "34:\tlearn: 2142.4595325\ttotal: 673ms\tremaining: 3.17s\n",
      "35:\tlearn: 2129.9708380\ttotal: 678ms\tremaining: 3.09s\n",
      "36:\tlearn: 2121.3638728\ttotal: 683ms\tremaining: 3.01s\n",
      "37:\tlearn: 2113.6780256\ttotal: 688ms\tremaining: 2.93s\n",
      "38:\tlearn: 2106.6371590\ttotal: 693ms\tremaining: 2.86s\n",
      "39:\tlearn: 2092.2709353\ttotal: 697ms\tremaining: 2.79s\n",
      "40:\tlearn: 2085.5964565\ttotal: 702ms\tremaining: 2.72s\n",
      "41:\tlearn: 2075.7963503\ttotal: 705ms\tremaining: 2.65s\n",
      "42:\tlearn: 2065.0066920\ttotal: 710ms\tremaining: 2.59s\n",
      "43:\tlearn: 2058.7992205\ttotal: 714ms\tremaining: 2.53s\n",
      "44:\tlearn: 2054.7338864\ttotal: 718ms\tremaining: 2.47s\n",
      "45:\tlearn: 2050.1137480\ttotal: 728ms\tremaining: 2.44s\n",
      "46:\tlearn: 2041.0880016\ttotal: 733ms\tremaining: 2.38s\n",
      "47:\tlearn: 2038.4442888\ttotal: 738ms\tremaining: 2.34s\n",
      "48:\tlearn: 2032.1239898\ttotal: 744ms\tremaining: 2.29s\n",
      "49:\tlearn: 2016.7107503\ttotal: 749ms\tremaining: 2.25s\n",
      "50:\tlearn: 2006.7591757\ttotal: 754ms\tremaining: 2.2s\n",
      "51:\tlearn: 1999.8016434\ttotal: 758ms\tremaining: 2.16s\n",
      "52:\tlearn: 1991.0140734\ttotal: 761ms\tremaining: 2.11s\n",
      "53:\tlearn: 1984.9079328\ttotal: 765ms\tremaining: 2.07s\n",
      "54:\tlearn: 1976.0744175\ttotal: 769ms\tremaining: 2.03s\n",
      "55:\tlearn: 1970.8866068\ttotal: 773ms\tremaining: 1.99s\n",
      "56:\tlearn: 1966.8161652\ttotal: 777ms\tremaining: 1.95s\n",
      "57:\tlearn: 1956.2277414\ttotal: 781ms\tremaining: 1.91s\n",
      "58:\tlearn: 1953.3437045\ttotal: 784ms\tremaining: 1.87s\n",
      "59:\tlearn: 1950.4891866\ttotal: 788ms\tremaining: 1.84s\n",
      "60:\tlearn: 1939.8835573\ttotal: 793ms\tremaining: 1.8s\n",
      "61:\tlearn: 1931.3839570\ttotal: 797ms\tremaining: 1.77s\n",
      "62:\tlearn: 1929.3657393\ttotal: 801ms\tremaining: 1.74s\n",
      "63:\tlearn: 1927.2684694\ttotal: 804ms\tremaining: 1.71s\n",
      "64:\tlearn: 1925.3543580\ttotal: 808ms\tremaining: 1.68s\n",
      "65:\tlearn: 1919.5711264\ttotal: 811ms\tremaining: 1.65s\n",
      "66:\tlearn: 1918.2594495\ttotal: 815ms\tremaining: 1.62s\n",
      "67:\tlearn: 1914.3947784\ttotal: 819ms\tremaining: 1.59s\n",
      "68:\tlearn: 1905.8487963\ttotal: 823ms\tremaining: 1.56s\n",
      "69:\tlearn: 1904.3542477\ttotal: 826ms\tremaining: 1.53s\n",
      "70:\tlearn: 1896.3884277\ttotal: 830ms\tremaining: 1.51s\n",
      "71:\tlearn: 1892.6996272\ttotal: 834ms\tremaining: 1.48s\n",
      "72:\tlearn: 1885.1748796\ttotal: 839ms\tremaining: 1.46s\n",
      "73:\tlearn: 1879.5702987\ttotal: 843ms\tremaining: 1.44s\n",
      "74:\tlearn: 1878.7909660\ttotal: 847ms\tremaining: 1.41s\n",
      "75:\tlearn: 1876.1226730\ttotal: 851ms\tremaining: 1.39s\n",
      "76:\tlearn: 1869.2553179\ttotal: 856ms\tremaining: 1.37s\n",
      "77:\tlearn: 1869.0370011\ttotal: 860ms\tremaining: 1.34s\n",
      "78:\tlearn: 1861.9224891\ttotal: 865ms\tremaining: 1.32s\n",
      "79:\tlearn: 1854.1755142\ttotal: 869ms\tremaining: 1.3s\n",
      "80:\tlearn: 1854.0461742\ttotal: 872ms\tremaining: 1.28s\n",
      "81:\tlearn: 1853.5192022\ttotal: 879ms\tremaining: 1.26s\n",
      "82:\tlearn: 1847.5118261\ttotal: 883ms\tremaining: 1.25s\n",
      "83:\tlearn: 1842.0003787\ttotal: 888ms\tremaining: 1.23s\n",
      "84:\tlearn: 1841.8454041\ttotal: 891ms\tremaining: 1.21s\n",
      "85:\tlearn: 1841.7117557\ttotal: 895ms\tremaining: 1.19s\n",
      "86:\tlearn: 1836.4172477\ttotal: 899ms\tremaining: 1.17s\n",
      "87:\tlearn: 1831.5464613\ttotal: 904ms\tremaining: 1.15s\n",
      "88:\tlearn: 1818.0432646\ttotal: 909ms\tremaining: 1.13s\n",
      "89:\tlearn: 1816.6573710\ttotal: 915ms\tremaining: 1.12s\n",
      "90:\tlearn: 1813.1329922\ttotal: 920ms\tremaining: 1.1s\n",
      "91:\tlearn: 1805.4459778\ttotal: 924ms\tremaining: 1.08s\n",
      "92:\tlearn: 1799.5930583\ttotal: 928ms\tremaining: 1.07s\n",
      "93:\tlearn: 1795.3359325\ttotal: 932ms\tremaining: 1.05s\n",
      "94:\tlearn: 1795.2305055\ttotal: 935ms\tremaining: 1.03s\n",
      "95:\tlearn: 1789.5534559\ttotal: 939ms\tremaining: 1.02s\n",
      "96:\tlearn: 1782.3589405\ttotal: 943ms\tremaining: 1s\n",
      "97:\tlearn: 1778.7709626\ttotal: 947ms\tremaining: 986ms\n",
      "98:\tlearn: 1776.6513320\ttotal: 951ms\tremaining: 970ms\n",
      "99:\tlearn: 1773.6075332\ttotal: 955ms\tremaining: 955ms\n",
      "100:\tlearn: 1768.7438715\ttotal: 959ms\tremaining: 940ms\n",
      "101:\tlearn: 1768.6097803\ttotal: 962ms\tremaining: 925ms\n",
      "102:\tlearn: 1763.2003301\ttotal: 966ms\tremaining: 910ms\n",
      "103:\tlearn: 1760.0024458\ttotal: 970ms\tremaining: 895ms\n",
      "104:\tlearn: 1756.0932582\ttotal: 974ms\tremaining: 881ms\n",
      "105:\tlearn: 1751.7594085\ttotal: 977ms\tremaining: 867ms\n",
      "106:\tlearn: 1749.8445254\ttotal: 982ms\tremaining: 853ms\n",
      "107:\tlearn: 1744.8779858\ttotal: 985ms\tremaining: 839ms\n",
      "108:\tlearn: 1742.8159141\ttotal: 989ms\tremaining: 826ms\n",
      "109:\tlearn: 1737.9797034\ttotal: 993ms\tremaining: 812ms\n",
      "110:\tlearn: 1734.5843168\ttotal: 997ms\tremaining: 800ms\n",
      "111:\tlearn: 1728.3406870\ttotal: 1s\tremaining: 787ms\n",
      "112:\tlearn: 1727.3896817\ttotal: 1.01s\tremaining: 775ms\n",
      "113:\tlearn: 1724.2098223\ttotal: 1.01s\tremaining: 763ms\n",
      "114:\tlearn: 1721.9116048\ttotal: 1.01s\tremaining: 750ms\n",
      "115:\tlearn: 1719.4666238\ttotal: 1.02s\tremaining: 738ms\n",
      "116:\tlearn: 1719.3655358\ttotal: 1.02s\tremaining: 726ms\n",
      "117:\tlearn: 1719.3001788\ttotal: 1.03s\tremaining: 714ms\n",
      "118:\tlearn: 1716.8315679\ttotal: 1.03s\tremaining: 702ms\n",
      "119:\tlearn: 1708.5589903\ttotal: 1.04s\tremaining: 691ms\n",
      "120:\tlearn: 1705.7363398\ttotal: 1.04s\tremaining: 679ms\n",
      "121:\tlearn: 1705.3710640\ttotal: 1.04s\tremaining: 667ms\n",
      "122:\tlearn: 1701.9229124\ttotal: 1.05s\tremaining: 656ms\n",
      "123:\tlearn: 1698.4708039\ttotal: 1.05s\tremaining: 645ms\n",
      "124:\tlearn: 1695.5294744\ttotal: 1.06s\tremaining: 634ms\n",
      "125:\tlearn: 1688.6680251\ttotal: 1.06s\tremaining: 624ms\n",
      "126:\tlearn: 1685.1783001\ttotal: 1.07s\tremaining: 613ms\n",
      "127:\tlearn: 1681.5837857\ttotal: 1.07s\tremaining: 603ms\n",
      "128:\tlearn: 1678.7572970\ttotal: 1.08s\tremaining: 593ms\n",
      "129:\tlearn: 1677.1814674\ttotal: 1.08s\tremaining: 583ms\n",
      "130:\tlearn: 1675.3234538\ttotal: 1.09s\tremaining: 573ms\n",
      "131:\tlearn: 1672.3499429\ttotal: 1.09s\tremaining: 563ms\n",
      "132:\tlearn: 1668.5173950\ttotal: 1.1s\tremaining: 553ms\n",
      "133:\tlearn: 1666.4396464\ttotal: 1.1s\tremaining: 543ms\n",
      "134:\tlearn: 1664.5074386\ttotal: 1.11s\tremaining: 533ms\n",
      "135:\tlearn: 1659.3579357\ttotal: 1.11s\tremaining: 523ms\n",
      "136:\tlearn: 1656.1971542\ttotal: 1.12s\tremaining: 513ms\n",
      "137:\tlearn: 1654.6097444\ttotal: 1.12s\tremaining: 503ms\n",
      "138:\tlearn: 1646.7990367\ttotal: 1.12s\tremaining: 494ms\n",
      "139:\tlearn: 1642.1427054\ttotal: 1.13s\tremaining: 484ms\n",
      "140:\tlearn: 1639.7646040\ttotal: 1.13s\tremaining: 474ms\n",
      "141:\tlearn: 1636.6392436\ttotal: 1.14s\tremaining: 465ms\n",
      "142:\tlearn: 1634.1352735\ttotal: 1.14s\tremaining: 456ms\n",
      "143:\tlearn: 1631.9342764\ttotal: 1.15s\tremaining: 447ms\n",
      "144:\tlearn: 1627.7780766\ttotal: 1.15s\tremaining: 438ms\n",
      "145:\tlearn: 1625.7983455\ttotal: 1.16s\tremaining: 429ms\n",
      "146:\tlearn: 1623.0371666\ttotal: 1.16s\tremaining: 419ms\n",
      "147:\tlearn: 1619.7609579\ttotal: 1.17s\tremaining: 410ms\n",
      "148:\tlearn: 1617.8579205\ttotal: 1.18s\tremaining: 402ms\n",
      "149:\tlearn: 1613.3962923\ttotal: 1.18s\tremaining: 393ms\n",
      "150:\tlearn: 1611.6933383\ttotal: 1.19s\tremaining: 385ms\n",
      "151:\tlearn: 1608.9844997\ttotal: 1.19s\tremaining: 376ms\n",
      "152:\tlearn: 1606.9469939\ttotal: 1.19s\tremaining: 367ms\n",
      "153:\tlearn: 1600.3438355\ttotal: 1.2s\tremaining: 358ms\n",
      "154:\tlearn: 1598.7098554\ttotal: 1.2s\tremaining: 349ms\n",
      "155:\tlearn: 1595.9732073\ttotal: 1.21s\tremaining: 340ms\n",
      "156:\tlearn: 1591.7980156\ttotal: 1.21s\tremaining: 332ms\n",
      "157:\tlearn: 1589.6461816\ttotal: 1.22s\tremaining: 323ms\n",
      "158:\tlearn: 1589.4552805\ttotal: 1.22s\tremaining: 315ms\n",
      "159:\tlearn: 1584.9200154\ttotal: 1.22s\tremaining: 306ms\n",
      "160:\tlearn: 1582.8523874\ttotal: 1.23s\tremaining: 297ms\n",
      "161:\tlearn: 1577.8089425\ttotal: 1.23s\tremaining: 289ms\n",
      "162:\tlearn: 1576.3415684\ttotal: 1.24s\tremaining: 281ms\n",
      "163:\tlearn: 1573.1956590\ttotal: 1.24s\tremaining: 272ms\n",
      "164:\tlearn: 1568.9052165\ttotal: 1.24s\tremaining: 264ms\n",
      "165:\tlearn: 1566.7479502\ttotal: 1.25s\tremaining: 256ms\n",
      "166:\tlearn: 1566.5431003\ttotal: 1.25s\tremaining: 247ms\n",
      "167:\tlearn: 1566.4945684\ttotal: 1.25s\tremaining: 239ms\n",
      "168:\tlearn: 1564.4742183\ttotal: 1.26s\tremaining: 231ms\n",
      "169:\tlearn: 1560.5863154\ttotal: 1.26s\tremaining: 223ms\n",
      "170:\tlearn: 1558.4103888\ttotal: 1.27s\tremaining: 215ms\n",
      "171:\tlearn: 1557.0453253\ttotal: 1.27s\tremaining: 207ms\n",
      "172:\tlearn: 1557.0248943\ttotal: 1.27s\tremaining: 199ms\n",
      "173:\tlearn: 1556.6134887\ttotal: 1.28s\tremaining: 191ms\n",
      "174:\tlearn: 1551.5522835\ttotal: 1.28s\tremaining: 183ms\n",
      "175:\tlearn: 1548.8693697\ttotal: 1.29s\tremaining: 175ms\n",
      "176:\tlearn: 1547.2540509\ttotal: 1.29s\tremaining: 168ms\n",
      "177:\tlearn: 1544.9880280\ttotal: 1.29s\tremaining: 160ms\n",
      "178:\tlearn: 1542.4162419\ttotal: 1.3s\tremaining: 152ms\n",
      "179:\tlearn: 1539.9883795\ttotal: 1.3s\tremaining: 145ms\n",
      "180:\tlearn: 1538.3839148\ttotal: 1.3s\tremaining: 137ms\n",
      "181:\tlearn: 1535.9562614\ttotal: 1.31s\tremaining: 130ms\n",
      "182:\tlearn: 1534.2605844\ttotal: 1.31s\tremaining: 122ms\n",
      "183:\tlearn: 1532.2552038\ttotal: 1.32s\tremaining: 115ms\n",
      "184:\tlearn: 1530.7236459\ttotal: 1.32s\tremaining: 107ms\n"
     ]
    },
    {
     "name": "stdout",
     "output_type": "stream",
     "text": [
      "185:\tlearn: 1529.2588564\ttotal: 1.32s\tremaining: 99.8ms\n",
      "186:\tlearn: 1527.5263175\ttotal: 1.33s\tremaining: 92.4ms\n",
      "187:\tlearn: 1526.0953241\ttotal: 1.33s\tremaining: 85.1ms\n",
      "188:\tlearn: 1524.2557342\ttotal: 1.34s\tremaining: 77.9ms\n",
      "189:\tlearn: 1521.4706765\ttotal: 1.34s\tremaining: 70.6ms\n",
      "190:\tlearn: 1519.1381578\ttotal: 1.35s\tremaining: 63.5ms\n",
      "191:\tlearn: 1517.4032838\ttotal: 1.35s\tremaining: 56.3ms\n",
      "192:\tlearn: 1516.8756668\ttotal: 1.35s\tremaining: 49.1ms\n",
      "193:\tlearn: 1513.5084587\ttotal: 1.36s\tremaining: 42ms\n",
      "194:\tlearn: 1511.2870503\ttotal: 1.36s\tremaining: 35ms\n",
      "195:\tlearn: 1509.5180620\ttotal: 1.37s\tremaining: 27.9ms\n",
      "196:\tlearn: 1507.8562707\ttotal: 1.37s\tremaining: 20.9ms\n",
      "197:\tlearn: 1504.7936493\ttotal: 1.38s\tremaining: 13.9ms\n",
      "198:\tlearn: 1503.0829419\ttotal: 1.38s\tremaining: 6.94ms\n",
      "199:\tlearn: 1500.8768922\ttotal: 1.39s\tremaining: 0us\n"
     ]
    },
    {
     "data": {
      "text/plain": [
       "<catboost.core.CatBoostRegressor at 0x10fe5668>"
      ]
     },
     "execution_count": 100,
     "metadata": {},
     "output_type": "execute_result"
    }
   ],
   "source": [
    "cr.fit(x_train,y_train)"
   ]
  },
  {
   "cell_type": "code",
   "execution_count": 101,
   "metadata": {},
   "outputs": [],
   "source": [
    "# Lets do predictions on out test data\n",
    "cr_pred=cr.predict(x_test)"
   ]
  },
  {
   "cell_type": "code",
   "execution_count": 102,
   "metadata": {},
   "outputs": [],
   "source": [
    "#Error calculation\n",
    "RMSE = np.sqrt(mean_squared_error(y_test, cr_pred))\n",
    "MAE = mean_absolute_error(y_test, cr_pred)\n",
    "r_squre= r2_score(y_test, cr_pred)"
   ]
  },
  {
   "cell_type": "code",
   "execution_count": 103,
   "metadata": {},
   "outputs": [
    {
     "name": "stdout",
     "output_type": "stream",
     "text": [
      "RMSE : 1801.7037052886353\n",
      "MAE: 1244.5162631589844\n",
      "r_square: 0.8449830204109313\n"
     ]
    }
   ],
   "source": [
    "#Results \n",
    "print('RMSE :',RMSE) \n",
    "print('MAE:', MAE)\n",
    "print(\"r_square:\",r_squre)"
   ]
  },
  {
   "cell_type": "code",
   "execution_count": 104,
   "metadata": {},
   "outputs": [
    {
     "name": "stdout",
     "output_type": "stream",
     "text": [
      "Fitting 3 folds for each of 10 candidates, totalling 30 fits\n"
     ]
    },
    {
     "name": "stderr",
     "output_type": "stream",
     "text": [
      "[Parallel(n_jobs=-1)]: Using backend LokyBackend with 4 concurrent workers.\n",
      "[Parallel(n_jobs=-1)]: Done  30 out of  30 | elapsed:   44.7s finished\n"
     ]
    },
    {
     "name": "stdout",
     "output_type": "stream",
     "text": [
      "Learning rate set to 0.09456\n",
      "0:\tlearn: 4371.3212449\ttotal: 3.95ms\tremaining: 1.97s\n",
      "1:\tlearn: 4183.7451496\ttotal: 7.57ms\tremaining: 1.89s\n",
      "2:\tlearn: 3963.7715696\ttotal: 11.2ms\tremaining: 1.85s\n",
      "3:\tlearn: 3808.1160539\ttotal: 15.6ms\tremaining: 1.94s\n",
      "4:\tlearn: 3651.6523821\ttotal: 19.2ms\tremaining: 1.91s\n",
      "5:\tlearn: 3496.9323028\ttotal: 25.9ms\tremaining: 2.13s\n",
      "6:\tlearn: 3350.5429445\ttotal: 31.3ms\tremaining: 2.21s\n",
      "7:\tlearn: 3241.5947904\ttotal: 36.8ms\tremaining: 2.26s\n",
      "8:\tlearn: 3161.0880040\ttotal: 41.9ms\tremaining: 2.28s\n",
      "9:\tlearn: 3071.8659242\ttotal: 46.6ms\tremaining: 2.28s\n",
      "10:\tlearn: 2986.5850691\ttotal: 50.8ms\tremaining: 2.26s\n",
      "11:\tlearn: 2928.1618182\ttotal: 55.4ms\tremaining: 2.25s\n",
      "12:\tlearn: 2875.7037166\ttotal: 60.3ms\tremaining: 2.26s\n",
      "13:\tlearn: 2814.6376650\ttotal: 65.1ms\tremaining: 2.26s\n",
      "14:\tlearn: 2761.7771773\ttotal: 69.4ms\tremaining: 2.24s\n",
      "15:\tlearn: 2711.9386735\ttotal: 74ms\tremaining: 2.24s\n",
      "16:\tlearn: 2668.9008778\ttotal: 78ms\tremaining: 2.22s\n",
      "17:\tlearn: 2628.9025688\ttotal: 82.5ms\tremaining: 2.21s\n",
      "18:\tlearn: 2596.6426240\ttotal: 91.7ms\tremaining: 2.32s\n",
      "19:\tlearn: 2568.4246820\ttotal: 96.4ms\tremaining: 2.31s\n",
      "20:\tlearn: 2546.9690619\ttotal: 101ms\tremaining: 2.3s\n",
      "21:\tlearn: 2523.9659291\ttotal: 106ms\tremaining: 2.29s\n",
      "22:\tlearn: 2502.0086958\ttotal: 110ms\tremaining: 2.27s\n",
      "23:\tlearn: 2488.1103931\ttotal: 114ms\tremaining: 2.27s\n",
      "24:\tlearn: 2461.8318138\ttotal: 119ms\tremaining: 2.27s\n",
      "25:\tlearn: 2449.0159123\ttotal: 124ms\tremaining: 2.27s\n",
      "26:\tlearn: 2428.8541246\ttotal: 130ms\tremaining: 2.27s\n",
      "27:\tlearn: 2419.9109293\ttotal: 134ms\tremaining: 2.26s\n",
      "28:\tlearn: 2404.4967201\ttotal: 139ms\tremaining: 2.25s\n",
      "29:\tlearn: 2384.4886188\ttotal: 143ms\tremaining: 2.24s\n",
      "30:\tlearn: 2374.3499242\ttotal: 148ms\tremaining: 2.23s\n",
      "31:\tlearn: 2364.4311603\ttotal: 152ms\tremaining: 2.22s\n",
      "32:\tlearn: 2358.5071810\ttotal: 157ms\tremaining: 2.22s\n",
      "33:\tlearn: 2349.5579203\ttotal: 162ms\tremaining: 2.22s\n",
      "34:\tlearn: 2337.6125700\ttotal: 167ms\tremaining: 2.21s\n",
      "35:\tlearn: 2328.7035027\ttotal: 171ms\tremaining: 2.2s\n",
      "36:\tlearn: 2316.0129348\ttotal: 175ms\tremaining: 2.2s\n",
      "37:\tlearn: 2306.2970226\ttotal: 187ms\tremaining: 2.27s\n",
      "38:\tlearn: 2295.6489621\ttotal: 193ms\tremaining: 2.29s\n",
      "39:\tlearn: 2288.6449946\ttotal: 199ms\tremaining: 2.29s\n",
      "40:\tlearn: 2276.5811450\ttotal: 204ms\tremaining: 2.29s\n",
      "41:\tlearn: 2273.7332426\ttotal: 208ms\tremaining: 2.27s\n",
      "42:\tlearn: 2263.0895605\ttotal: 213ms\tremaining: 2.26s\n",
      "43:\tlearn: 2254.6977783\ttotal: 218ms\tremaining: 2.25s\n",
      "44:\tlearn: 2248.6579631\ttotal: 222ms\tremaining: 2.24s\n",
      "45:\tlearn: 2244.0725746\ttotal: 227ms\tremaining: 2.24s\n",
      "46:\tlearn: 2235.1292138\ttotal: 232ms\tremaining: 2.23s\n",
      "47:\tlearn: 2228.9856840\ttotal: 236ms\tremaining: 2.22s\n",
      "48:\tlearn: 2220.7643236\ttotal: 242ms\tremaining: 2.23s\n",
      "49:\tlearn: 2213.8313025\ttotal: 246ms\tremaining: 2.22s\n",
      "50:\tlearn: 2206.1957196\ttotal: 251ms\tremaining: 2.21s\n",
      "51:\tlearn: 2197.4819802\ttotal: 257ms\tremaining: 2.22s\n",
      "52:\tlearn: 2192.6415407\ttotal: 263ms\tremaining: 2.22s\n",
      "53:\tlearn: 2185.3703522\ttotal: 268ms\tremaining: 2.21s\n",
      "54:\tlearn: 2180.1574506\ttotal: 273ms\tremaining: 2.21s\n",
      "55:\tlearn: 2176.8001837\ttotal: 277ms\tremaining: 2.19s\n",
      "56:\tlearn: 2172.3495932\ttotal: 280ms\tremaining: 2.18s\n",
      "57:\tlearn: 2167.0871386\ttotal: 284ms\tremaining: 2.16s\n",
      "58:\tlearn: 2159.4717051\ttotal: 288ms\tremaining: 2.15s\n",
      "59:\tlearn: 2151.3178926\ttotal: 292ms\tremaining: 2.14s\n",
      "60:\tlearn: 2147.7596144\ttotal: 296ms\tremaining: 2.13s\n",
      "61:\tlearn: 2142.7787704\ttotal: 299ms\tremaining: 2.11s\n",
      "62:\tlearn: 2140.2867335\ttotal: 303ms\tremaining: 2.1s\n",
      "63:\tlearn: 2133.1621358\ttotal: 306ms\tremaining: 2.09s\n",
      "64:\tlearn: 2124.2820791\ttotal: 311ms\tremaining: 2.08s\n",
      "65:\tlearn: 2121.3459967\ttotal: 314ms\tremaining: 2.06s\n",
      "66:\tlearn: 2117.9599497\ttotal: 318ms\tremaining: 2.05s\n",
      "67:\tlearn: 2113.7906671\ttotal: 322ms\tremaining: 2.05s\n",
      "68:\tlearn: 2108.2472178\ttotal: 327ms\tremaining: 2.04s\n",
      "69:\tlearn: 2103.2706367\ttotal: 332ms\tremaining: 2.04s\n",
      "70:\tlearn: 2098.6041014\ttotal: 337ms\tremaining: 2.04s\n",
      "71:\tlearn: 2093.0567030\ttotal: 341ms\tremaining: 2.03s\n",
      "72:\tlearn: 2085.1775647\ttotal: 346ms\tremaining: 2.02s\n",
      "73:\tlearn: 2081.6224701\ttotal: 351ms\tremaining: 2.02s\n",
      "74:\tlearn: 2074.8264967\ttotal: 356ms\tremaining: 2.02s\n",
      "75:\tlearn: 2069.8006533\ttotal: 362ms\tremaining: 2.02s\n",
      "76:\tlearn: 2063.6544134\ttotal: 366ms\tremaining: 2.01s\n",
      "77:\tlearn: 2062.7958727\ttotal: 370ms\tremaining: 2s\n",
      "78:\tlearn: 2057.4231983\ttotal: 374ms\tremaining: 1.99s\n",
      "79:\tlearn: 2051.8527329\ttotal: 379ms\tremaining: 1.99s\n",
      "80:\tlearn: 2048.3842086\ttotal: 383ms\tremaining: 1.98s\n",
      "81:\tlearn: 2046.7787465\ttotal: 388ms\tremaining: 1.98s\n",
      "82:\tlearn: 2042.1861262\ttotal: 397ms\tremaining: 2s\n",
      "83:\tlearn: 2038.5592594\ttotal: 402ms\tremaining: 1.99s\n",
      "84:\tlearn: 2034.5808997\ttotal: 408ms\tremaining: 1.99s\n",
      "85:\tlearn: 2029.2165437\ttotal: 411ms\tremaining: 1.98s\n",
      "86:\tlearn: 2023.0814736\ttotal: 415ms\tremaining: 1.97s\n",
      "87:\tlearn: 2019.0071788\ttotal: 420ms\tremaining: 1.96s\n",
      "88:\tlearn: 2014.7588934\ttotal: 424ms\tremaining: 1.96s\n",
      "89:\tlearn: 2011.1819206\ttotal: 428ms\tremaining: 1.95s\n",
      "90:\tlearn: 2007.9530629\ttotal: 431ms\tremaining: 1.94s\n",
      "91:\tlearn: 2002.6111596\ttotal: 435ms\tremaining: 1.93s\n",
      "92:\tlearn: 1999.2297202\ttotal: 439ms\tremaining: 1.92s\n",
      "93:\tlearn: 1996.5063248\ttotal: 443ms\tremaining: 1.91s\n",
      "94:\tlearn: 1993.5801677\ttotal: 447ms\tremaining: 1.9s\n",
      "95:\tlearn: 1990.3299748\ttotal: 450ms\tremaining: 1.89s\n",
      "96:\tlearn: 1988.1248662\ttotal: 454ms\tremaining: 1.89s\n",
      "97:\tlearn: 1984.1232267\ttotal: 458ms\tremaining: 1.88s\n",
      "98:\tlearn: 1982.2108814\ttotal: 462ms\tremaining: 1.87s\n",
      "99:\tlearn: 1978.4999318\ttotal: 466ms\tremaining: 1.86s\n",
      "100:\tlearn: 1971.2162010\ttotal: 470ms\tremaining: 1.86s\n",
      "101:\tlearn: 1966.6047421\ttotal: 474ms\tremaining: 1.85s\n",
      "102:\tlearn: 1962.6888574\ttotal: 478ms\tremaining: 1.84s\n",
      "103:\tlearn: 1957.3194262\ttotal: 481ms\tremaining: 1.83s\n",
      "104:\tlearn: 1954.0618976\ttotal: 486ms\tremaining: 1.83s\n",
      "105:\tlearn: 1951.3050565\ttotal: 491ms\tremaining: 1.82s\n",
      "106:\tlearn: 1949.8743064\ttotal: 496ms\tremaining: 1.82s\n",
      "107:\tlearn: 1946.8440806\ttotal: 500ms\tremaining: 1.81s\n",
      "108:\tlearn: 1943.7853317\ttotal: 504ms\tremaining: 1.81s\n",
      "109:\tlearn: 1941.2328261\ttotal: 509ms\tremaining: 1.8s\n",
      "110:\tlearn: 1938.1813124\ttotal: 515ms\tremaining: 1.8s\n",
      "111:\tlearn: 1936.2263960\ttotal: 519ms\tremaining: 1.8s\n",
      "112:\tlearn: 1934.2185812\ttotal: 524ms\tremaining: 1.79s\n",
      "113:\tlearn: 1929.8773493\ttotal: 528ms\tremaining: 1.79s\n",
      "114:\tlearn: 1927.5244104\ttotal: 532ms\tremaining: 1.78s\n",
      "115:\tlearn: 1926.5034144\ttotal: 536ms\tremaining: 1.77s\n",
      "116:\tlearn: 1922.3870207\ttotal: 541ms\tremaining: 1.77s\n",
      "117:\tlearn: 1921.4689116\ttotal: 548ms\tremaining: 1.77s\n",
      "118:\tlearn: 1918.0500077\ttotal: 552ms\tremaining: 1.77s\n",
      "119:\tlearn: 1917.1187491\ttotal: 557ms\tremaining: 1.76s\n",
      "120:\tlearn: 1911.4194811\ttotal: 571ms\tremaining: 1.79s\n",
      "121:\tlearn: 1909.2545609\ttotal: 577ms\tremaining: 1.79s\n",
      "122:\tlearn: 1907.9665992\ttotal: 582ms\tremaining: 1.78s\n",
      "123:\tlearn: 1907.2121396\ttotal: 586ms\tremaining: 1.78s\n",
      "124:\tlearn: 1905.3854232\ttotal: 591ms\tremaining: 1.77s\n",
      "125:\tlearn: 1904.8310404\ttotal: 596ms\tremaining: 1.77s\n",
      "126:\tlearn: 1901.1753072\ttotal: 601ms\tremaining: 1.76s\n",
      "127:\tlearn: 1894.0055926\ttotal: 605ms\tremaining: 1.76s\n",
      "128:\tlearn: 1892.7749172\ttotal: 610ms\tremaining: 1.75s\n",
      "129:\tlearn: 1891.3131688\ttotal: 614ms\tremaining: 1.75s\n",
      "130:\tlearn: 1890.2080916\ttotal: 618ms\tremaining: 1.74s\n",
      "131:\tlearn: 1889.9435114\ttotal: 622ms\tremaining: 1.73s\n",
      "132:\tlearn: 1889.6107992\ttotal: 626ms\tremaining: 1.73s\n",
      "133:\tlearn: 1885.6500902\ttotal: 630ms\tremaining: 1.72s\n",
      "134:\tlearn: 1885.0423378\ttotal: 634ms\tremaining: 1.71s\n",
      "135:\tlearn: 1884.0852837\ttotal: 639ms\tremaining: 1.71s\n",
      "136:\tlearn: 1881.2351713\ttotal: 644ms\tremaining: 1.71s\n",
      "137:\tlearn: 1879.2642985\ttotal: 653ms\tremaining: 1.71s\n",
      "138:\tlearn: 1875.2425525\ttotal: 658ms\tremaining: 1.71s\n",
      "139:\tlearn: 1871.9301453\ttotal: 663ms\tremaining: 1.7s\n",
      "140:\tlearn: 1870.1433584\ttotal: 668ms\tremaining: 1.7s\n",
      "141:\tlearn: 1866.8746177\ttotal: 672ms\tremaining: 1.69s\n",
      "142:\tlearn: 1866.5639523\ttotal: 676ms\tremaining: 1.69s\n",
      "143:\tlearn: 1860.3965815\ttotal: 680ms\tremaining: 1.68s\n",
      "144:\tlearn: 1856.5316764\ttotal: 684ms\tremaining: 1.68s\n",
      "145:\tlearn: 1853.7965695\ttotal: 688ms\tremaining: 1.67s\n",
      "146:\tlearn: 1853.3270263\ttotal: 693ms\tremaining: 1.66s\n",
      "147:\tlearn: 1853.0499803\ttotal: 697ms\tremaining: 1.66s\n",
      "148:\tlearn: 1851.4505560\ttotal: 701ms\tremaining: 1.65s\n",
      "149:\tlearn: 1851.0994277\ttotal: 705ms\tremaining: 1.64s\n",
      "150:\tlearn: 1848.7389730\ttotal: 709ms\tremaining: 1.64s\n",
      "151:\tlearn: 1847.4221361\ttotal: 714ms\tremaining: 1.63s\n",
      "152:\tlearn: 1844.6730397\ttotal: 718ms\tremaining: 1.63s\n",
      "153:\tlearn: 1844.2083989\ttotal: 722ms\tremaining: 1.62s\n",
      "154:\tlearn: 1840.9697682\ttotal: 727ms\tremaining: 1.62s\n",
      "155:\tlearn: 1837.8806303\ttotal: 731ms\tremaining: 1.61s\n",
      "156:\tlearn: 1837.4038173\ttotal: 736ms\tremaining: 1.61s\n",
      "157:\tlearn: 1837.2781169\ttotal: 740ms\tremaining: 1.6s\n",
      "158:\tlearn: 1834.7328357\ttotal: 746ms\tremaining: 1.6s\n",
      "159:\tlearn: 1831.1275608\ttotal: 749ms\tremaining: 1.59s\n",
      "160:\tlearn: 1830.8813993\ttotal: 754ms\tremaining: 1.59s\n",
      "161:\tlearn: 1830.6603223\ttotal: 758ms\tremaining: 1.58s\n",
      "162:\tlearn: 1828.2730380\ttotal: 762ms\tremaining: 1.57s\n",
      "163:\tlearn: 1826.0492466\ttotal: 767ms\tremaining: 1.57s\n",
      "164:\tlearn: 1823.3167941\ttotal: 771ms\tremaining: 1.56s\n",
      "165:\tlearn: 1823.0918277\ttotal: 775ms\tremaining: 1.56s\n",
      "166:\tlearn: 1820.9349098\ttotal: 778ms\tremaining: 1.55s\n",
      "167:\tlearn: 1817.8265518\ttotal: 784ms\tremaining: 1.55s\n",
      "168:\tlearn: 1817.6659817\ttotal: 788ms\tremaining: 1.54s\n",
      "169:\tlearn: 1817.5495695\ttotal: 792ms\tremaining: 1.54s\n",
      "170:\tlearn: 1816.9067518\ttotal: 797ms\tremaining: 1.53s\n",
      "171:\tlearn: 1816.6908301\ttotal: 801ms\tremaining: 1.53s\n",
      "172:\tlearn: 1816.6049301\ttotal: 804ms\tremaining: 1.52s\n",
      "173:\tlearn: 1815.2343592\ttotal: 808ms\tremaining: 1.51s\n"
     ]
    },
    {
     "name": "stdout",
     "output_type": "stream",
     "text": [
      "174:\tlearn: 1811.0180779\ttotal: 815ms\tremaining: 1.51s\n",
      "175:\tlearn: 1810.7940363\ttotal: 819ms\tremaining: 1.51s\n",
      "176:\tlearn: 1808.5900556\ttotal: 824ms\tremaining: 1.5s\n",
      "177:\tlearn: 1806.4609433\ttotal: 829ms\tremaining: 1.5s\n",
      "178:\tlearn: 1805.9788922\ttotal: 833ms\tremaining: 1.49s\n",
      "179:\tlearn: 1804.3723979\ttotal: 838ms\tremaining: 1.49s\n",
      "180:\tlearn: 1804.3172342\ttotal: 842ms\tremaining: 1.48s\n",
      "181:\tlearn: 1800.4828131\ttotal: 847ms\tremaining: 1.48s\n",
      "182:\tlearn: 1798.4805609\ttotal: 851ms\tremaining: 1.47s\n",
      "183:\tlearn: 1794.8367808\ttotal: 855ms\tremaining: 1.47s\n",
      "184:\tlearn: 1792.0572506\ttotal: 860ms\tremaining: 1.46s\n",
      "185:\tlearn: 1788.3477521\ttotal: 864ms\tremaining: 1.46s\n",
      "186:\tlearn: 1785.3112567\ttotal: 869ms\tremaining: 1.45s\n",
      "187:\tlearn: 1783.5488701\ttotal: 873ms\tremaining: 1.45s\n",
      "188:\tlearn: 1781.8968461\ttotal: 877ms\tremaining: 1.44s\n",
      "189:\tlearn: 1780.8843035\ttotal: 881ms\tremaining: 1.44s\n",
      "190:\tlearn: 1779.5020506\ttotal: 885ms\tremaining: 1.43s\n",
      "191:\tlearn: 1776.8582194\ttotal: 889ms\tremaining: 1.43s\n",
      "192:\tlearn: 1775.3173943\ttotal: 892ms\tremaining: 1.42s\n",
      "193:\tlearn: 1773.7976450\ttotal: 896ms\tremaining: 1.41s\n",
      "194:\tlearn: 1771.4980460\ttotal: 900ms\tremaining: 1.41s\n",
      "195:\tlearn: 1769.8685660\ttotal: 905ms\tremaining: 1.4s\n",
      "196:\tlearn: 1767.8477932\ttotal: 908ms\tremaining: 1.4s\n",
      "197:\tlearn: 1767.6635051\ttotal: 912ms\tremaining: 1.39s\n",
      "198:\tlearn: 1767.5129938\ttotal: 915ms\tremaining: 1.38s\n",
      "199:\tlearn: 1766.4390760\ttotal: 919ms\tremaining: 1.38s\n",
      "200:\tlearn: 1766.0595742\ttotal: 923ms\tremaining: 1.37s\n",
      "201:\tlearn: 1765.8423386\ttotal: 926ms\tremaining: 1.37s\n",
      "202:\tlearn: 1765.6966418\ttotal: 930ms\tremaining: 1.36s\n",
      "203:\tlearn: 1764.4691651\ttotal: 934ms\tremaining: 1.35s\n",
      "204:\tlearn: 1763.7823130\ttotal: 937ms\tremaining: 1.35s\n",
      "205:\tlearn: 1763.4316969\ttotal: 941ms\tremaining: 1.34s\n",
      "206:\tlearn: 1761.3300928\ttotal: 945ms\tremaining: 1.34s\n",
      "207:\tlearn: 1758.5218744\ttotal: 949ms\tremaining: 1.33s\n",
      "208:\tlearn: 1758.3655407\ttotal: 952ms\tremaining: 1.32s\n",
      "209:\tlearn: 1756.9751256\ttotal: 956ms\tremaining: 1.32s\n",
      "210:\tlearn: 1755.0649113\ttotal: 959ms\tremaining: 1.31s\n",
      "211:\tlearn: 1752.1109284\ttotal: 963ms\tremaining: 1.31s\n",
      "212:\tlearn: 1750.3240661\ttotal: 967ms\tremaining: 1.3s\n",
      "213:\tlearn: 1745.8871554\ttotal: 971ms\tremaining: 1.3s\n",
      "214:\tlearn: 1743.6345058\ttotal: 976ms\tremaining: 1.29s\n",
      "215:\tlearn: 1742.4645613\ttotal: 980ms\tremaining: 1.29s\n",
      "216:\tlearn: 1742.2771074\ttotal: 985ms\tremaining: 1.28s\n",
      "217:\tlearn: 1739.7545867\ttotal: 994ms\tremaining: 1.28s\n",
      "218:\tlearn: 1737.7870576\ttotal: 999ms\tremaining: 1.28s\n",
      "219:\tlearn: 1736.2515211\ttotal: 1s\tremaining: 1.28s\n",
      "220:\tlearn: 1734.4473099\ttotal: 1.01s\tremaining: 1.27s\n",
      "221:\tlearn: 1733.0720452\ttotal: 1.01s\tremaining: 1.27s\n",
      "222:\tlearn: 1729.8760284\ttotal: 1.02s\tremaining: 1.26s\n",
      "223:\tlearn: 1729.5834648\ttotal: 1.02s\tremaining: 1.26s\n",
      "224:\tlearn: 1728.2847381\ttotal: 1.02s\tremaining: 1.25s\n",
      "225:\tlearn: 1726.9784810\ttotal: 1.03s\tremaining: 1.25s\n",
      "226:\tlearn: 1725.0018504\ttotal: 1.03s\tremaining: 1.24s\n",
      "227:\tlearn: 1723.6269846\ttotal: 1.04s\tremaining: 1.24s\n",
      "228:\tlearn: 1722.0408497\ttotal: 1.04s\tremaining: 1.23s\n",
      "229:\tlearn: 1720.7636519\ttotal: 1.04s\tremaining: 1.23s\n",
      "230:\tlearn: 1718.2225277\ttotal: 1.05s\tremaining: 1.22s\n",
      "231:\tlearn: 1716.5345805\ttotal: 1.05s\tremaining: 1.22s\n",
      "232:\tlearn: 1716.3729559\ttotal: 1.06s\tremaining: 1.21s\n",
      "233:\tlearn: 1715.4564103\ttotal: 1.06s\tremaining: 1.2s\n",
      "234:\tlearn: 1715.2219484\ttotal: 1.06s\tremaining: 1.2s\n",
      "235:\tlearn: 1713.2437639\ttotal: 1.07s\tremaining: 1.19s\n",
      "236:\tlearn: 1710.8945460\ttotal: 1.07s\tremaining: 1.19s\n",
      "237:\tlearn: 1706.1746826\ttotal: 1.07s\tremaining: 1.18s\n",
      "238:\tlearn: 1704.8364666\ttotal: 1.08s\tremaining: 1.18s\n",
      "239:\tlearn: 1701.8579945\ttotal: 1.08s\tremaining: 1.17s\n",
      "240:\tlearn: 1700.5686142\ttotal: 1.08s\tremaining: 1.17s\n",
      "241:\tlearn: 1698.1264285\ttotal: 1.09s\tremaining: 1.16s\n",
      "242:\tlearn: 1698.0776219\ttotal: 1.09s\tremaining: 1.16s\n",
      "243:\tlearn: 1696.2980053\ttotal: 1.1s\tremaining: 1.15s\n",
      "244:\tlearn: 1693.7362149\ttotal: 1.1s\tremaining: 1.15s\n",
      "245:\tlearn: 1691.1092204\ttotal: 1.1s\tremaining: 1.14s\n",
      "246:\tlearn: 1688.6108583\ttotal: 1.11s\tremaining: 1.14s\n",
      "247:\tlearn: 1688.5578733\ttotal: 1.11s\tremaining: 1.13s\n",
      "248:\tlearn: 1687.0376896\ttotal: 1.11s\tremaining: 1.12s\n",
      "249:\tlearn: 1685.8117390\ttotal: 1.12s\tremaining: 1.12s\n",
      "250:\tlearn: 1682.5256588\ttotal: 1.12s\tremaining: 1.11s\n",
      "251:\tlearn: 1681.4316398\ttotal: 1.13s\tremaining: 1.11s\n",
      "252:\tlearn: 1678.9043700\ttotal: 1.13s\tremaining: 1.1s\n",
      "253:\tlearn: 1677.6647833\ttotal: 1.13s\tremaining: 1.1s\n",
      "254:\tlearn: 1676.5624298\ttotal: 1.14s\tremaining: 1.09s\n",
      "255:\tlearn: 1675.6181660\ttotal: 1.14s\tremaining: 1.09s\n",
      "256:\tlearn: 1673.4479228\ttotal: 1.15s\tremaining: 1.09s\n",
      "257:\tlearn: 1671.4961314\ttotal: 1.15s\tremaining: 1.08s\n",
      "258:\tlearn: 1670.0079141\ttotal: 1.16s\tremaining: 1.08s\n",
      "259:\tlearn: 1668.4176974\ttotal: 1.16s\tremaining: 1.07s\n",
      "260:\tlearn: 1666.8450444\ttotal: 1.17s\tremaining: 1.07s\n",
      "261:\tlearn: 1665.1702087\ttotal: 1.17s\tremaining: 1.06s\n",
      "262:\tlearn: 1664.1466334\ttotal: 1.18s\tremaining: 1.06s\n",
      "263:\tlearn: 1661.9292420\ttotal: 1.18s\tremaining: 1.05s\n",
      "264:\tlearn: 1660.6070013\ttotal: 1.18s\tremaining: 1.05s\n",
      "265:\tlearn: 1658.5303668\ttotal: 1.19s\tremaining: 1.04s\n",
      "266:\tlearn: 1655.7410895\ttotal: 1.19s\tremaining: 1.04s\n",
      "267:\tlearn: 1655.4581201\ttotal: 1.2s\tremaining: 1.03s\n",
      "268:\tlearn: 1654.3413685\ttotal: 1.2s\tremaining: 1.03s\n",
      "269:\tlearn: 1652.9328875\ttotal: 1.2s\tremaining: 1.02s\n",
      "270:\tlearn: 1651.3388879\ttotal: 1.21s\tremaining: 1.02s\n",
      "271:\tlearn: 1650.0600320\ttotal: 1.21s\tremaining: 1.01s\n",
      "272:\tlearn: 1647.8630292\ttotal: 1.21s\tremaining: 1.01s\n",
      "273:\tlearn: 1647.3155354\ttotal: 1.22s\tremaining: 1s\n",
      "274:\tlearn: 1645.8718334\ttotal: 1.22s\tremaining: 1000ms\n",
      "275:\tlearn: 1645.5734760\ttotal: 1.23s\tremaining: 995ms\n",
      "276:\tlearn: 1644.4221886\ttotal: 1.23s\tremaining: 990ms\n",
      "277:\tlearn: 1642.8742894\ttotal: 1.23s\tremaining: 985ms\n",
      "278:\tlearn: 1641.7628762\ttotal: 1.24s\tremaining: 981ms\n",
      "279:\tlearn: 1639.3986921\ttotal: 1.24s\tremaining: 976ms\n",
      "280:\tlearn: 1637.4068606\ttotal: 1.25s\tremaining: 971ms\n",
      "281:\tlearn: 1637.1492978\ttotal: 1.25s\tremaining: 966ms\n",
      "282:\tlearn: 1635.1611871\ttotal: 1.25s\tremaining: 961ms\n",
      "283:\tlearn: 1634.1640898\ttotal: 1.26s\tremaining: 956ms\n",
      "284:\tlearn: 1633.3369776\ttotal: 1.26s\tremaining: 951ms\n",
      "285:\tlearn: 1633.2462972\ttotal: 1.26s\tremaining: 946ms\n",
      "286:\tlearn: 1631.7384910\ttotal: 1.27s\tremaining: 941ms\n",
      "287:\tlearn: 1630.4733609\ttotal: 1.27s\tremaining: 936ms\n",
      "288:\tlearn: 1628.5702777\ttotal: 1.27s\tremaining: 931ms\n",
      "289:\tlearn: 1627.9423240\ttotal: 1.28s\tremaining: 926ms\n",
      "290:\tlearn: 1626.9012154\ttotal: 1.28s\tremaining: 921ms\n",
      "291:\tlearn: 1625.2316739\ttotal: 1.29s\tremaining: 918ms\n",
      "292:\tlearn: 1624.6055160\ttotal: 1.29s\tremaining: 913ms\n",
      "293:\tlearn: 1622.7583058\ttotal: 1.29s\tremaining: 908ms\n",
      "294:\tlearn: 1621.1763768\ttotal: 1.3s\tremaining: 904ms\n",
      "295:\tlearn: 1619.6635811\ttotal: 1.3s\tremaining: 899ms\n",
      "296:\tlearn: 1618.5922612\ttotal: 1.31s\tremaining: 895ms\n",
      "297:\tlearn: 1615.3989817\ttotal: 1.31s\tremaining: 890ms\n",
      "298:\tlearn: 1613.7868076\ttotal: 1.32s\tremaining: 885ms\n",
      "299:\tlearn: 1612.1328980\ttotal: 1.32s\tremaining: 880ms\n",
      "300:\tlearn: 1610.5232913\ttotal: 1.32s\tremaining: 875ms\n",
      "301:\tlearn: 1610.1247041\ttotal: 1.33s\tremaining: 870ms\n",
      "302:\tlearn: 1609.7720821\ttotal: 1.33s\tremaining: 866ms\n",
      "303:\tlearn: 1607.2882822\ttotal: 1.33s\tremaining: 861ms\n",
      "304:\tlearn: 1606.1246791\ttotal: 1.34s\tremaining: 857ms\n",
      "305:\tlearn: 1604.5169080\ttotal: 1.34s\tremaining: 852ms\n",
      "306:\tlearn: 1602.9701728\ttotal: 1.35s\tremaining: 848ms\n",
      "307:\tlearn: 1599.6187870\ttotal: 1.35s\tremaining: 843ms\n",
      "308:\tlearn: 1597.3985815\ttotal: 1.36s\tremaining: 839ms\n",
      "309:\tlearn: 1595.5731197\ttotal: 1.36s\tremaining: 835ms\n",
      "310:\tlearn: 1593.7573096\ttotal: 1.37s\tremaining: 831ms\n",
      "311:\tlearn: 1593.5271844\ttotal: 1.37s\tremaining: 826ms\n",
      "312:\tlearn: 1592.3001450\ttotal: 1.37s\tremaining: 821ms\n",
      "313:\tlearn: 1590.3480374\ttotal: 1.38s\tremaining: 817ms\n",
      "314:\tlearn: 1590.0715408\ttotal: 1.38s\tremaining: 812ms\n",
      "315:\tlearn: 1587.9415437\ttotal: 1.39s\tremaining: 807ms\n",
      "316:\tlearn: 1586.1133631\ttotal: 1.39s\tremaining: 803ms\n",
      "317:\tlearn: 1585.2799666\ttotal: 1.39s\tremaining: 798ms\n",
      "318:\tlearn: 1584.3031825\ttotal: 1.4s\tremaining: 793ms\n",
      "319:\tlearn: 1583.2285982\ttotal: 1.4s\tremaining: 789ms\n",
      "320:\tlearn: 1581.5528924\ttotal: 1.41s\tremaining: 784ms\n",
      "321:\tlearn: 1580.6248710\ttotal: 1.41s\tremaining: 779ms\n",
      "322:\tlearn: 1579.4965358\ttotal: 1.41s\tremaining: 775ms\n",
      "323:\tlearn: 1578.5114199\ttotal: 1.42s\tremaining: 770ms\n",
      "324:\tlearn: 1576.9174656\ttotal: 1.42s\tremaining: 765ms\n",
      "325:\tlearn: 1575.5846016\ttotal: 1.43s\tremaining: 761ms\n",
      "326:\tlearn: 1575.0366590\ttotal: 1.43s\tremaining: 756ms\n",
      "327:\tlearn: 1573.6361766\ttotal: 1.44s\tremaining: 753ms\n",
      "328:\tlearn: 1572.3822866\ttotal: 1.44s\tremaining: 748ms\n",
      "329:\tlearn: 1570.3892979\ttotal: 1.44s\tremaining: 744ms\n",
      "330:\tlearn: 1569.4653096\ttotal: 1.45s\tremaining: 739ms\n",
      "331:\tlearn: 1568.0765551\ttotal: 1.45s\tremaining: 734ms\n",
      "332:\tlearn: 1566.8775962\ttotal: 1.45s\tremaining: 730ms\n",
      "333:\tlearn: 1566.0856178\ttotal: 1.46s\tremaining: 725ms\n"
     ]
    },
    {
     "name": "stdout",
     "output_type": "stream",
     "text": [
      "334:\tlearn: 1564.5354590\ttotal: 1.46s\tremaining: 721ms\n",
      "335:\tlearn: 1563.5777887\ttotal: 1.47s\tremaining: 717ms\n",
      "336:\tlearn: 1563.0539833\ttotal: 1.47s\tremaining: 712ms\n",
      "337:\tlearn: 1562.5406975\ttotal: 1.48s\tremaining: 708ms\n",
      "338:\tlearn: 1562.0228878\ttotal: 1.48s\tremaining: 703ms\n",
      "339:\tlearn: 1561.3095407\ttotal: 1.49s\tremaining: 699ms\n",
      "340:\tlearn: 1559.9743044\ttotal: 1.49s\tremaining: 695ms\n",
      "341:\tlearn: 1559.0311805\ttotal: 1.49s\tremaining: 690ms\n",
      "342:\tlearn: 1558.1486808\ttotal: 1.5s\tremaining: 686ms\n",
      "343:\tlearn: 1557.9931897\ttotal: 1.5s\tremaining: 681ms\n",
      "344:\tlearn: 1556.6856786\ttotal: 1.51s\tremaining: 677ms\n",
      "345:\tlearn: 1556.1443489\ttotal: 1.51s\tremaining: 673ms\n",
      "346:\tlearn: 1555.1855274\ttotal: 1.52s\tremaining: 669ms\n",
      "347:\tlearn: 1554.1887242\ttotal: 1.52s\tremaining: 664ms\n",
      "348:\tlearn: 1553.3000053\ttotal: 1.52s\tremaining: 660ms\n",
      "349:\tlearn: 1552.2008866\ttotal: 1.53s\tremaining: 655ms\n",
      "350:\tlearn: 1551.2931337\ttotal: 1.53s\tremaining: 651ms\n",
      "351:\tlearn: 1549.9622840\ttotal: 1.54s\tremaining: 646ms\n",
      "352:\tlearn: 1549.2939304\ttotal: 1.54s\tremaining: 641ms\n",
      "353:\tlearn: 1548.4813045\ttotal: 1.54s\tremaining: 637ms\n",
      "354:\tlearn: 1547.4893358\ttotal: 1.55s\tremaining: 632ms\n",
      "355:\tlearn: 1546.4273528\ttotal: 1.55s\tremaining: 628ms\n",
      "356:\tlearn: 1544.5838859\ttotal: 1.55s\tremaining: 623ms\n",
      "357:\tlearn: 1543.4348046\ttotal: 1.56s\tremaining: 618ms\n",
      "358:\tlearn: 1542.1248711\ttotal: 1.56s\tremaining: 614ms\n",
      "359:\tlearn: 1540.8605755\ttotal: 1.57s\tremaining: 609ms\n",
      "360:\tlearn: 1538.6944042\ttotal: 1.57s\tremaining: 605ms\n",
      "361:\tlearn: 1537.4479170\ttotal: 1.57s\tremaining: 600ms\n",
      "362:\tlearn: 1536.8553762\ttotal: 1.58s\tremaining: 595ms\n",
      "363:\tlearn: 1536.7194651\ttotal: 1.58s\tremaining: 591ms\n",
      "364:\tlearn: 1534.1337617\ttotal: 1.58s\tremaining: 587ms\n",
      "365:\tlearn: 1533.0221249\ttotal: 1.59s\tremaining: 582ms\n",
      "366:\tlearn: 1532.1008677\ttotal: 1.59s\tremaining: 577ms\n",
      "367:\tlearn: 1531.4455865\ttotal: 1.6s\tremaining: 573ms\n",
      "368:\tlearn: 1530.2948101\ttotal: 1.6s\tremaining: 568ms\n",
      "369:\tlearn: 1528.9589572\ttotal: 1.6s\tremaining: 564ms\n",
      "370:\tlearn: 1527.9348585\ttotal: 1.61s\tremaining: 559ms\n",
      "371:\tlearn: 1526.9902084\ttotal: 1.61s\tremaining: 555ms\n",
      "372:\tlearn: 1525.3105686\ttotal: 1.61s\tremaining: 550ms\n",
      "373:\tlearn: 1524.5308561\ttotal: 1.62s\tremaining: 546ms\n",
      "374:\tlearn: 1523.5336328\ttotal: 1.62s\tremaining: 541ms\n",
      "375:\tlearn: 1522.4780880\ttotal: 1.63s\tremaining: 537ms\n",
      "376:\tlearn: 1521.8912634\ttotal: 1.63s\tremaining: 533ms\n",
      "377:\tlearn: 1520.5407866\ttotal: 1.64s\tremaining: 528ms\n",
      "378:\tlearn: 1518.7414012\ttotal: 1.64s\tremaining: 525ms\n",
      "379:\tlearn: 1517.6475464\ttotal: 1.65s\tremaining: 520ms\n",
      "380:\tlearn: 1517.0664849\ttotal: 1.65s\tremaining: 516ms\n",
      "381:\tlearn: 1516.3951484\ttotal: 1.66s\tremaining: 512ms\n",
      "382:\tlearn: 1516.3603396\ttotal: 1.66s\tremaining: 508ms\n",
      "383:\tlearn: 1515.7265088\ttotal: 1.67s\tremaining: 503ms\n",
      "384:\tlearn: 1514.4303627\ttotal: 1.67s\tremaining: 499ms\n",
      "385:\tlearn: 1514.2719878\ttotal: 1.67s\tremaining: 494ms\n",
      "386:\tlearn: 1513.5983781\ttotal: 1.68s\tremaining: 490ms\n",
      "387:\tlearn: 1512.5706625\ttotal: 1.68s\tremaining: 486ms\n",
      "388:\tlearn: 1512.2731014\ttotal: 1.69s\tremaining: 481ms\n",
      "389:\tlearn: 1511.0861224\ttotal: 1.69s\tremaining: 477ms\n",
      "390:\tlearn: 1510.1854106\ttotal: 1.69s\tremaining: 472ms\n",
      "391:\tlearn: 1509.4784122\ttotal: 1.7s\tremaining: 468ms\n",
      "392:\tlearn: 1508.8760945\ttotal: 1.71s\tremaining: 465ms\n",
      "393:\tlearn: 1508.2447536\ttotal: 1.71s\tremaining: 460ms\n",
      "394:\tlearn: 1507.2737188\ttotal: 1.72s\tremaining: 456ms\n",
      "395:\tlearn: 1507.1419871\ttotal: 1.72s\tremaining: 452ms\n",
      "396:\tlearn: 1505.9531596\ttotal: 1.72s\tremaining: 447ms\n",
      "397:\tlearn: 1505.3720668\ttotal: 1.73s\tremaining: 443ms\n",
      "398:\tlearn: 1504.3881031\ttotal: 1.73s\tremaining: 439ms\n",
      "399:\tlearn: 1503.7469517\ttotal: 1.74s\tremaining: 434ms\n",
      "400:\tlearn: 1503.2490043\ttotal: 1.74s\tremaining: 430ms\n",
      "401:\tlearn: 1501.9879714\ttotal: 1.75s\tremaining: 426ms\n",
      "402:\tlearn: 1501.2888694\ttotal: 1.75s\tremaining: 422ms\n",
      "403:\tlearn: 1500.4167815\ttotal: 1.76s\tremaining: 417ms\n",
      "404:\tlearn: 1499.7431777\ttotal: 1.76s\tremaining: 413ms\n",
      "405:\tlearn: 1498.8191161\ttotal: 1.76s\tremaining: 408ms\n",
      "406:\tlearn: 1498.7280378\ttotal: 1.77s\tremaining: 404ms\n",
      "407:\tlearn: 1497.5757490\ttotal: 1.77s\tremaining: 399ms\n",
      "408:\tlearn: 1496.7768292\ttotal: 1.77s\tremaining: 395ms\n",
      "409:\tlearn: 1495.9038026\ttotal: 1.78s\tremaining: 391ms\n",
      "410:\tlearn: 1495.2224928\ttotal: 1.78s\tremaining: 386ms\n",
      "411:\tlearn: 1494.7117078\ttotal: 1.79s\tremaining: 382ms\n",
      "412:\tlearn: 1494.6631275\ttotal: 1.79s\tremaining: 377ms\n",
      "413:\tlearn: 1493.3105548\ttotal: 1.79s\tremaining: 373ms\n",
      "414:\tlearn: 1492.5497785\ttotal: 1.8s\tremaining: 369ms\n",
      "415:\tlearn: 1490.8008934\ttotal: 1.8s\tremaining: 364ms\n",
      "416:\tlearn: 1489.7166731\ttotal: 1.81s\tremaining: 360ms\n",
      "417:\tlearn: 1489.0276826\ttotal: 1.82s\tremaining: 356ms\n",
      "418:\tlearn: 1487.9111029\ttotal: 1.82s\tremaining: 352ms\n",
      "419:\tlearn: 1487.2781013\ttotal: 1.82s\tremaining: 348ms\n",
      "420:\tlearn: 1486.9678874\ttotal: 1.83s\tremaining: 343ms\n",
      "421:\tlearn: 1485.6931235\ttotal: 1.83s\tremaining: 339ms\n",
      "422:\tlearn: 1485.0801773\ttotal: 1.84s\tremaining: 334ms\n",
      "423:\tlearn: 1484.8208018\ttotal: 1.84s\tremaining: 330ms\n",
      "424:\tlearn: 1484.2514557\ttotal: 1.84s\tremaining: 326ms\n",
      "425:\tlearn: 1483.5080339\ttotal: 1.85s\tremaining: 322ms\n",
      "426:\tlearn: 1482.7090326\ttotal: 1.86s\tremaining: 317ms\n",
      "427:\tlearn: 1482.5989314\ttotal: 1.86s\tremaining: 313ms\n",
      "428:\tlearn: 1482.2824246\ttotal: 1.87s\tremaining: 309ms\n",
      "429:\tlearn: 1482.0019603\ttotal: 1.87s\tremaining: 305ms\n",
      "430:\tlearn: 1481.5544236\ttotal: 1.88s\tremaining: 300ms\n",
      "431:\tlearn: 1481.2470385\ttotal: 1.88s\tremaining: 296ms\n",
      "432:\tlearn: 1480.2826496\ttotal: 1.89s\tremaining: 292ms\n",
      "433:\tlearn: 1479.8422930\ttotal: 1.89s\tremaining: 287ms\n",
      "434:\tlearn: 1478.7554169\ttotal: 1.9s\tremaining: 283ms\n",
      "435:\tlearn: 1476.8609857\ttotal: 1.9s\tremaining: 279ms\n",
      "436:\tlearn: 1475.5682329\ttotal: 1.9s\tremaining: 275ms\n",
      "437:\tlearn: 1474.8463841\ttotal: 1.91s\tremaining: 270ms\n",
      "438:\tlearn: 1473.9039833\ttotal: 1.92s\tremaining: 266ms\n",
      "439:\tlearn: 1473.1871090\ttotal: 1.92s\tremaining: 262ms\n",
      "440:\tlearn: 1472.3590487\ttotal: 1.92s\tremaining: 257ms\n",
      "441:\tlearn: 1472.1299214\ttotal: 1.93s\tremaining: 253ms\n",
      "442:\tlearn: 1471.6953364\ttotal: 1.93s\tremaining: 249ms\n",
      "443:\tlearn: 1470.7584407\ttotal: 1.94s\tremaining: 244ms\n",
      "444:\tlearn: 1470.0668574\ttotal: 1.94s\tremaining: 240ms\n",
      "445:\tlearn: 1469.3834513\ttotal: 1.95s\tremaining: 236ms\n",
      "446:\tlearn: 1469.1484255\ttotal: 1.95s\tremaining: 231ms\n",
      "447:\tlearn: 1468.6964887\ttotal: 1.96s\tremaining: 227ms\n",
      "448:\tlearn: 1468.6912165\ttotal: 1.96s\tremaining: 223ms\n",
      "449:\tlearn: 1467.8495771\ttotal: 1.97s\tremaining: 219ms\n",
      "450:\tlearn: 1467.2553401\ttotal: 1.97s\tremaining: 214ms\n",
      "451:\tlearn: 1466.3297656\ttotal: 1.98s\tremaining: 210ms\n",
      "452:\tlearn: 1465.9896252\ttotal: 1.98s\tremaining: 206ms\n",
      "453:\tlearn: 1465.8640581\ttotal: 1.99s\tremaining: 201ms\n",
      "454:\tlearn: 1465.2919984\ttotal: 1.99s\tremaining: 197ms\n",
      "455:\tlearn: 1464.4662758\ttotal: 1.99s\tremaining: 192ms\n",
      "456:\tlearn: 1464.4603021\ttotal: 2s\tremaining: 188ms\n",
      "457:\tlearn: 1463.8778656\ttotal: 2s\tremaining: 184ms\n",
      "458:\tlearn: 1463.8729215\ttotal: 2.01s\tremaining: 180ms\n",
      "459:\tlearn: 1463.2259151\ttotal: 2.01s\tremaining: 175ms\n",
      "460:\tlearn: 1462.5904774\ttotal: 2.02s\tremaining: 171ms\n",
      "461:\tlearn: 1461.9553233\ttotal: 2.02s\tremaining: 166ms\n",
      "462:\tlearn: 1460.6383738\ttotal: 2.03s\tremaining: 162ms\n",
      "463:\tlearn: 1459.9037469\ttotal: 2.03s\tremaining: 158ms\n",
      "464:\tlearn: 1459.0633771\ttotal: 2.04s\tremaining: 153ms\n",
      "465:\tlearn: 1458.7963521\ttotal: 2.04s\tremaining: 149ms\n",
      "466:\tlearn: 1457.7489791\ttotal: 2.05s\tremaining: 145ms\n",
      "467:\tlearn: 1457.7081686\ttotal: 2.05s\tremaining: 140ms\n",
      "468:\tlearn: 1457.7039736\ttotal: 2.06s\tremaining: 136ms\n",
      "469:\tlearn: 1456.7751144\ttotal: 2.06s\tremaining: 132ms\n",
      "470:\tlearn: 1456.4901192\ttotal: 2.07s\tremaining: 127ms\n",
      "471:\tlearn: 1455.1020717\ttotal: 2.07s\tremaining: 123ms\n",
      "472:\tlearn: 1454.5996422\ttotal: 2.08s\tremaining: 119ms\n",
      "473:\tlearn: 1453.7118615\ttotal: 2.08s\tremaining: 114ms\n",
      "474:\tlearn: 1453.2599605\ttotal: 2.08s\tremaining: 110ms\n",
      "475:\tlearn: 1452.3773249\ttotal: 2.09s\tremaining: 105ms\n",
      "476:\tlearn: 1452.3721993\ttotal: 2.09s\tremaining: 101ms\n",
      "477:\tlearn: 1451.8650780\ttotal: 2.1s\tremaining: 96.5ms\n",
      "478:\tlearn: 1451.1670046\ttotal: 2.1s\tremaining: 92.1ms\n",
      "479:\tlearn: 1450.4459694\ttotal: 2.11s\tremaining: 87.8ms\n",
      "480:\tlearn: 1449.8730451\ttotal: 2.11s\tremaining: 83.5ms\n",
      "481:\tlearn: 1449.0485676\ttotal: 2.12s\tremaining: 79.1ms\n",
      "482:\tlearn: 1447.9957782\ttotal: 2.12s\tremaining: 74.7ms\n",
      "483:\tlearn: 1447.1929145\ttotal: 2.13s\tremaining: 70.4ms\n",
      "484:\tlearn: 1446.6738353\ttotal: 2.13s\tremaining: 66ms\n",
      "485:\tlearn: 1446.6701471\ttotal: 2.14s\tremaining: 61.6ms\n",
      "486:\tlearn: 1445.9407439\ttotal: 2.14s\tremaining: 57.2ms\n",
      "487:\tlearn: 1445.4211041\ttotal: 2.15s\tremaining: 52.8ms\n",
      "488:\tlearn: 1444.6246151\ttotal: 2.15s\tremaining: 48.4ms\n",
      "489:\tlearn: 1443.9137231\ttotal: 2.16s\tremaining: 44ms\n",
      "490:\tlearn: 1442.1114418\ttotal: 2.16s\tremaining: 39.6ms\n",
      "491:\tlearn: 1441.1046161\ttotal: 2.17s\tremaining: 35.3ms\n",
      "492:\tlearn: 1441.1005645\ttotal: 2.17s\tremaining: 30.8ms\n",
      "493:\tlearn: 1440.4950220\ttotal: 2.18s\tremaining: 26.5ms\n",
      "494:\tlearn: 1440.0368763\ttotal: 2.18s\tremaining: 22ms\n",
      "495:\tlearn: 1439.2218272\ttotal: 2.19s\tremaining: 17.6ms\n",
      "496:\tlearn: 1438.4578846\ttotal: 2.19s\tremaining: 13.2ms\n",
      "497:\tlearn: 1437.8788285\ttotal: 2.2s\tremaining: 8.82ms\n",
      "498:\tlearn: 1436.8468768\ttotal: 2.2s\tremaining: 4.41ms\n",
      "499:\tlearn: 1436.8431085\ttotal: 2.21s\tremaining: 0us\n"
     ]
    },
    {
     "data": {
      "text/plain": [
       "GridSearchCV(cv=3, error_score=nan,\n",
       "             estimator=<catboost.core.CatBoostRegressor object at 0x000000001271E2E8>,\n",
       "             iid='deprecated', n_jobs=-1,\n",
       "             param_grid={'iterations': [100, 200, 300, 400, 500],\n",
       "                         'loss_function': ['MAE', 'RMSE']},\n",
       "             pre_dispatch='2*n_jobs', refit=True, return_train_score=False,\n",
       "             scoring=None, verbose=1)"
      ]
     },
     "execution_count": 104,
     "metadata": {},
     "output_type": "execute_result"
    }
   ],
   "source": [
    "#Lets do hyperparameter tunning \n",
    "\n",
    "from sklearn.model_selection import GridSearchCV\n",
    "\n",
    "cr1=CatBoostRegressor()\n",
    "parameters = {\n",
    "                'iterations': [100,200,300,400,500],\n",
    "                'loss_function': ['MAE', 'RMSE'],\n",
    "                \n",
    "               \n",
    "}\n",
    "\n",
    "cv = GridSearchCV(cr1, parameters, cv=3, n_jobs = -1,verbose = 1)\n",
    "cv.fit(x_train, y_train)"
   ]
  },
  {
   "cell_type": "code",
   "execution_count": 106,
   "metadata": {
    "scrolled": true
   },
   "outputs": [
    {
     "data": {
      "text/plain": [
       "{'iterations': 500, 'loss_function': 'RMSE'}"
      ]
     },
     "execution_count": 106,
     "metadata": {},
     "output_type": "execute_result"
    }
   ],
   "source": [
    "cv.best_params_"
   ]
  },
  {
   "cell_type": "code",
   "execution_count": 115,
   "metadata": {},
   "outputs": [],
   "source": [
    "cr1_pred=cv.predict(x_test)"
   ]
  },
  {
   "cell_type": "code",
   "execution_count": 116,
   "metadata": {},
   "outputs": [],
   "source": [
    "#Error calculation\n",
    "RMSE = np.sqrt(mean_squared_error(y_test, cr1_pred))\n",
    "MAE = mean_absolute_error(y_test, cr1_pred)\n",
    "r_squre= r2_score(y_test, cr1_pred)"
   ]
  },
  {
   "cell_type": "code",
   "execution_count": 117,
   "metadata": {},
   "outputs": [
    {
     "name": "stdout",
     "output_type": "stream",
     "text": [
      "RMSE : 1754.6848293239455\n",
      "MAE: 1199.6648147300248\n",
      "r_square: 0.8529683706915603\n"
     ]
    }
   ],
   "source": [
    "#Results \n",
    "print('RMSE :',RMSE) \n",
    "print('MAE:', MAE)\n",
    "print(\"r_square:\",r_squre)"
   ]
  },
  {
   "cell_type": "code",
   "execution_count": 118,
   "metadata": {
    "scrolled": true
   },
   "outputs": [
    {
     "data": {
      "image/png": "[encoded data removed]",
      "text/plain": [
       "<Figure size 432x288 with 1 Axes>"
      ]
     },
     "metadata": {
      "needs_background": "light"
     },
     "output_type": "display_data"
    }
   ],
   "source": [
    "#Lets plot the error destribustion\n",
    "sns.distplot(y_test-cr1_pred)\n",
    "plt.show()"
   ]
  },
  {
   "cell_type": "markdown",
   "metadata": {},
   "source": [
    "# Linear Regression-Stats Model "
   ]
  },
  {
   "cell_type": "code",
   "execution_count": 119,
   "metadata": {},
   "outputs": [],
   "source": [
    "import statsmodels.api as sm\n",
    "#Unlike SKLearn, statsmodels don't automatically fit a constant, \n",
    "#so you need to use the method sm.add_constant(X) in order to add a constant. \n",
    "x_train = sm.add_constant(x_train)\n",
    "# create a fitted model in one line\n",
    "lm = sm.OLS(y_train,x_train.astype(float))\n",
    "lm_result=lm.fit()"
   ]
  },
  {
   "cell_type": "code",
   "execution_count": 120,
   "metadata": {},
   "outputs": [
    {
     "name": "stdout",
     "output_type": "stream",
     "text": [
      "                            OLS Regression Results                            \n",
      "==============================================================================\n",
      "Dep. Variable:                  Price   R-squared:                       0.611\n",
      "Model:                            OLS   Adj. R-squared:                  0.609\n",
      "Method:                 Least Squares   F-statistic:                     467.3\n",
      "Date:                Mon, 20 Jul 2020   Prob (F-statistic):               0.00\n",
      "Time:                        17:20:12   Log-Likelihood:                -70185.\n",
      "No. Observations:                7477   AIC:                         1.404e+05\n",
      "Df Residuals:                    7451   BIC:                         1.406e+05\n",
      "Df Model:                          25                                         \n",
      "Covariance Type:            nonrobust                                         \n",
      "=============================================================================================================\n",
      "                                                coef    std err          t      P>|t|      [0.025      0.975]\n",
      "-------------------------------------------------------------------------------------------------------------\n",
      "const                                      6156.6808    252.783     24.356      0.000    5661.154    6652.208\n",
      "Total_Stops                                2766.2795     89.443     30.928      0.000    2590.947    2941.612\n",
      "Journey_Day                                 -77.6067      4.011    -19.351      0.000     -85.468     -69.745\n",
      "Journey_Month                              -427.5601     33.002    -12.956      0.000    -492.253    -362.867\n",
      "Dep_Hour                                     23.3908      6.034      3.876      0.000      11.562      35.219\n",
      "Dep_Min                                      -1.1170      1.881     -0.594      0.553      -4.804       2.570\n",
      "Arival_Hour                                 -10.0574      5.101     -1.972      0.049     -20.057      -0.058\n",
      "Arival_Min                                   -0.3173      2.170     -0.146      0.884      -4.571       3.936\n",
      "Duration_hours                                0.5774      6.288      0.092      0.927     -11.748      12.903\n",
      "Duration_mins                                -2.6783      2.102     -1.274      0.203      -6.799       1.443\n",
      "Airline_Air India                          1683.3271    230.087      7.316      0.000    1232.293    2134.362\n",
      "Airline_GoAir                                50.5569    317.971      0.159      0.874    -572.756     673.870\n",
      "Airline_IndiGo                              226.4998    218.513      1.037      0.300    -201.847     654.847\n",
      "Airline_Jet Airways                        4355.4086    216.964     20.074      0.000    3930.097    4780.720\n",
      "Airline_Jet Airways Business                4.36e+04   1464.624     29.772      0.000    4.07e+04    4.65e+04\n",
      "Airline_Multiple carriers                  3642.3701    238.629     15.264      0.000    3174.589    4110.151\n",
      "Airline_Multiple carriers Premium economy  3994.0915    989.959      4.035      0.000    2053.492    5934.691\n",
      "Airline_SpiceJet                           -255.8982    238.462     -1.073      0.283    -723.350     211.554\n",
      "Airline_Trujet                            -2792.7747   2905.507     -0.961      0.336   -8488.389    2902.840\n",
      "Airline_Vistara                            2149.7946    261.125      8.233      0.000    1637.916    2661.674\n",
      "Airline_Vistara Premium economy            2700.3608   2056.850      1.313      0.189   -1331.646    6732.368\n",
      "Source_Chennai                              695.2701     92.797      7.492      0.000     513.362     877.178\n",
      "Source_Delhi                                660.4683     53.228     12.408      0.000     556.126     764.811\n",
      "Source_Kolkata                             1262.3805     94.681     13.333      0.000    1076.780    1447.981\n",
      "Source_Mumbai                              -167.3269     71.224     -2.349      0.019    -306.946     -27.708\n",
      "Destination_Cochin                          660.4683     53.228     12.408      0.000     556.126     764.811\n",
      "Destination_Delhi                           474.5618    115.595      4.105      0.000     247.963     701.161\n",
      "Destination_Hyderabad                      -167.3269     71.224     -2.349      0.019    -306.946     -27.708\n",
      "Destination_Kolkata                         695.2701     92.797      7.492      0.000     513.362     877.178\n",
      "Destination_New Delhi                      3231.3270    112.871     28.629      0.000    3010.069    3452.586\n",
      "==============================================================================\n",
      "Omnibus:                     4286.502   Durbin-Watson:                   2.010\n",
      "Prob(Omnibus):                  0.000   Jarque-Bera (JB):           136371.631\n",
      "Skew:                           2.183   Prob(JB):                         0.00\n",
      "Kurtosis:                      23.461   Cond. No.                     1.05e+16\n",
      "==============================================================================\n",
      "\n",
      "Warnings:\n",
      "[1] Standard Errors assume that the covariance matrix of the errors is correctly specified.\n",
      "[2] The smallest eigenvalue is 1.98e-25. This might indicate that there are\n",
      "strong multicollinearity problems or that the design matrix is singular.\n"
     ]
    }
   ],
   "source": [
    "# print the coefficients\n",
    "print(lm_result.summary())"
   ]
  },
  {
   "cell_type": "code",
   "execution_count": 121,
   "metadata": {},
   "outputs": [],
   "source": [
    "# Making predictions using the model\n",
    "y_pred_train = lm_result.predict(x_train)\n",
    "y_pred_test = lm_result.predict(sm.add_constant(x_test))"
   ]
  },
  {
   "cell_type": "code",
   "execution_count": 122,
   "metadata": {},
   "outputs": [],
   "source": [
    "rmse_train = np.sqrt(mean_squared_error(y_train, y_pred_train))\n",
    "MAE_train = mean_absolute_error(y_train, y_pred_train)\n",
    "rmse_test = np.sqrt(mean_squared_error(y_test, y_pred_test))\n",
    "MAE_test = mean_absolute_error(y_test, y_pred_test)"
   ]
  },
  {
   "cell_type": "code",
   "execution_count": 123,
   "metadata": {},
   "outputs": [
    {
     "name": "stdout",
     "output_type": "stream",
     "text": [
      "rmse_train : 2886.762560942401 MAE_train 1979.2487953987022\n",
      "rmse_test : 2701.7948186986664 MAE_test 1949.3925800086497\n"
     ]
    }
   ],
   "source": [
    "print('rmse_train :',rmse_train, 'MAE_train', MAE_train)\n",
    "print('rmse_test :',rmse_test, 'MAE_test', MAE_test)"
   ]
  },
  {
   "cell_type": "code",
   "execution_count": 124,
   "metadata": {
    "scrolled": true
   },
   "outputs": [
    {
     "data": {
      "text/plain": [
       "<matplotlib.axes._subplots.AxesSubplot at 0x13f3f4a8>"
      ]
     },
     "execution_count": 124,
     "metadata": {},
     "output_type": "execute_result"
    },
    {
     "data": {
      "image/png": "[encoded data removed]",
      "text/plain": [
       "<Figure size 432x288 with 1 Axes>"
      ]
     },
     "metadata": {
      "needs_background": "light"
     },
     "output_type": "display_data"
    }
   ],
   "source": [
    "sns.distplot(y_test-y_pred_test)"
   ]
  },
  {
   "cell_type": "code",
   "execution_count": 125,
   "metadata": {},
   "outputs": [
    {
     "data": {
      "image/png": "[encoded data removed]",
      "text/plain": [
       "<Figure size 720x360 with 1 Axes>"
      ]
     },
     "metadata": {
      "needs_background": "light"
     },
     "output_type": "display_data"
    }
   ],
   "source": [
    "import scipy.stats as stats\n",
    "import pylab\n",
    "fig = plt.figure(figsize=(10,5))\n",
    "stats.probplot(y_test-y_pred_test, dist=\"norm\", plot=pylab)\n",
    "pylab.show()"
   ]
  },
  {
   "cell_type": "markdown",
   "metadata": {},
   "source": [
    "By comparing all the above models, we could conclude that, Gradient Boosting (GB) is performing better than the rest of the models. </br>\n",
    "\n",
    "For GB, we got </br>\n",
    "\n",
    "RMSE : 1733.1065204574757</br>\n",
    "\n",
    "MAE: 1148.0008844122665 </br>\n",
    "\n",
    "r_square: 0.8565623901880849 </br>\n",
    "\n",
    "So, will save the GB model for out future predictions."
   ]
  },
  {
   "cell_type": "markdown",
   "metadata": {},
   "source": [
    "# Save the model-Gradient Boosting Regressor "
   ]
  },
  {
   "cell_type": "code",
   "execution_count": 126,
   "metadata": {},
   "outputs": [],
   "source": [
    "import pickle\n",
    "# open a file\n",
    "file = open('flightFare_GB.pkl', 'wb')\n",
    "\n",
    "# dump information to that file\n",
    "pickle.dump(gb_random, file)"
   ]
  },
  {
   "cell_type": "code",
   "execution_count": 127,
   "metadata": {},
   "outputs": [],
   "source": [
    "model = open('flightFare_GB.pkl','rb')\n",
    "GB = pickle.load(model)"
   ]
  },
  {
   "cell_type": "code",
   "execution_count": 128,
   "metadata": {},
   "outputs": [],
   "source": [
    "y_Final_prediction = GB.predict(x_test)"
   ]
  },
  {
   "cell_type": "code",
   "execution_count": 130,
   "metadata": {},
   "outputs": [
    {
     "data": {
      "text/plain": [
       "0.8565623901880849"
      ]
     },
     "execution_count": 130,
     "metadata": {},
     "output_type": "execute_result"
    }
   ],
   "source": [
    "r2_score(y_test, y_Final_prediction)"
   ]
  }
 ],
 "metadata": {
  "kernelspec": {
   "display_name": "Python 3",
   "language": "python",
   "name": "python3"
  },
  "language_info": {
   "codemirror_mode": {
    "name": "ipython",
    "version": 3
   },
   "file_extension": ".py",
   "mimetype": "text/x-python",
   "name": "python",
   "nbconvert_exporter": "python",
   "pygments_lexer": "ipython3",
   "version": "3.7.3"
  }
 },
 "nbformat": 4,
 "nbformat_minor": 4
}
